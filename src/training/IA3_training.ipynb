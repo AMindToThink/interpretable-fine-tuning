{
  "nbformat": 4,
  "nbformat_minor": 0,
  "metadata": {
    "colab": {
      "provenance": [],
      "machine_shape": "hm",
      "gpuType": "A100"
    },
    "kernelspec": {
      "name": "python3",
      "display_name": "Python 3"
    },
    "language_info": {
      "name": "python"
    },
    "accelerator": "GPU"
  },
  "cells": [
    {
      "cell_type": "markdown",
      "source": [
        "This is a self-contained notebook for training Eleuther's Pythia 70m on https://huggingface.co/datasets/iamtarun/code_instructions_120k_alpaca using IA3 acting on a single position."
      ],
      "metadata": {
        "id": "S78TBHtUwAcU"
      }
    },
    {
      "cell_type": "code",
      "source": [
        "# prompt: connect to my drive\n",
        "\n",
        "from google.colab import drive\n",
        "drive.mount('/content/drive')\n"
      ],
      "metadata": {
        "colab": {
          "base_uri": "https://localhost:8080/"
        },
        "id": "jdlBt3seg1Vh",
        "outputId": "7d7ae6bb-3a50-4709-aef4-ef6be311dea7"
      },
      "execution_count": 99,
      "outputs": [
        {
          "output_type": "stream",
          "name": "stdout",
          "text": [
            "Drive already mounted at /content/drive; to attempt to forcibly remount, call drive.mount(\"/content/drive\", force_remount=True).\n"
          ]
        }
      ]
    },
    {
      "cell_type": "code",
      "source": [
        "save_path = '/content/drive/MyDrive/Research/Stadie/IA3_Results'"
      ],
      "metadata": {
        "id": "sYRcKdcohKGG"
      },
      "execution_count": 100,
      "outputs": []
    },
    {
      "cell_type": "code",
      "source": [
        "!uv venv\n",
        "!source .venv/bin/activate"
      ],
      "metadata": {
        "colab": {
          "base_uri": "https://localhost:8080/"
        },
        "id": "whJmX8R40Bcu",
        "outputId": "51be3fbd-3c98-4fcd-a520-a16fc9a02916"
      },
      "execution_count": 101,
      "outputs": [
        {
          "output_type": "stream",
          "name": "stdout",
          "text": [
            "\u001b[1m\u001b[33mwarning\u001b[39m\u001b[0m\u001b[1m:\u001b[0m \u001b[1mThe `--system` flag has no effect, a system Python interpreter is always used in `uv venv`\u001b[0m\n",
            "Using CPython 3.11.12 interpreter at: \u001b[36m/usr/bin/python3\u001b[39m\n",
            "Creating virtual environment at: \u001b[36m.venv\u001b[39m\n",
            "Activate with: \u001b[32msource .venv/bin/activate\u001b[39m\n"
          ]
        }
      ]
    },
    {
      "cell_type": "code",
      "source": [
        "!uv pip install datasets trl randomname"
      ],
      "metadata": {
        "colab": {
          "base_uri": "https://localhost:8080/"
        },
        "id": "tut1ftE00MHP",
        "outputId": "58e46f2f-1310-4c72-e9e2-7b3a7d67c5cd"
      },
      "execution_count": 102,
      "outputs": [
        {
          "output_type": "stream",
          "name": "stdout",
          "text": [
            "\u001b[2mUsing Python 3.11.12 environment at: /usr\u001b[0m\n",
            "\u001b[2mAudited \u001b[1m3 packages\u001b[0m \u001b[2min 86ms\u001b[0m\u001b[0m\n"
          ]
        }
      ]
    },
    {
      "cell_type": "code",
      "source": [],
      "metadata": {
        "id": "HHlTGCOE0JMS"
      },
      "execution_count": 102,
      "outputs": []
    },
    {
      "cell_type": "code",
      "execution_count": 103,
      "metadata": {
        "id": "OAB4XHeSv8KO"
      },
      "outputs": [],
      "source": [
        "from datasets import load_dataset\n",
        "from trl import SFTConfig, SFTTrainer\n",
        "from transformers import AutoTokenizer, AutoModelForCausalLM\n",
        "from peft import IA3Config, get_peft_model\n",
        "import randomname\n",
        "\n"
      ]
    },
    {
      "cell_type": "code",
      "source": [
        "import wandb\n",
        "import torch\n",
        "import numpy as np\n",
        "from transformers import TrainerCallback\n",
        "\n",
        "class PEFTParameterHistogramCallback(TrainerCallback):\n",
        "    \"\"\"\n",
        "    A callback that tracks actual parameter values for parameter-efficient fine-tuning methods.\n",
        "    Only tracks parameters that have requires_grad=True.\n",
        "    \"\"\"\n",
        "\n",
        "    def __init__(self, peft_param_prefix=None, max_individual_values=50):\n",
        "        \"\"\"\n",
        "        Args:\n",
        "            peft_param_prefix (list, optional): List of parameter name prefixes to track.\n",
        "                If None, will try to auto-detect PEFT parameters using common prefixes.\n",
        "            max_individual_values (int): Maximum number of individual values to track per parameter.\n",
        "        \"\"\"\n",
        "        self.peft_param_prefix = peft_param_prefix or [\"lora\", \"adapter\", \"prefix\", \"prompt\", \"ia3\"]\n",
        "        self.max_individual_values = max_individual_values\n",
        "\n",
        "    def _is_peft_param(self, param_name):\n",
        "        \"\"\"Check if parameter is a PEFT parameter based on naming.\"\"\"\n",
        "        return any(prefix in param_name.lower() for prefix in self.peft_param_prefix)\n",
        "\n",
        "    def on_log(self, args, state, control, model=None, logs=None, **kwargs):\n",
        "        \"\"\"Log actual parameter values when logging occurs.\"\"\"\n",
        "        if not model or not state.is_world_process_zero or not wandb.run:\n",
        "            return\n",
        "\n",
        "        # Dictionary to store parameter values\n",
        "        param_values = {}\n",
        "\n",
        "        # Collect all trainable PEFT parameter values\n",
        "        for name, param in model.named_parameters():\n",
        "            # Only track parameters that:\n",
        "            # 1. Are PEFT parameters (based on name)\n",
        "            # 2. Have requires_grad=True (are being trained)\n",
        "            if self._is_peft_param(name) and param.requires_grad:\n",
        "                # Get the actual parameter values as numpy array\n",
        "                param_data = param.data.detach().cpu().numpy().flatten()\n",
        "\n",
        "                # Store param shape information\n",
        "                original_shape = list(param.shape)\n",
        "                param_values[f\"peft_params/{name}/shape\"] = str(original_shape)\n",
        "\n",
        "                # Use histogram instead of raw values list\n",
        "                param_values[f\"peft_params/{name}/histogram\"] = wandb.Histogram(param_data)\n",
        "\n",
        "                # For small parameters, also log individual values for better tracking\n",
        "                if len(param_data) <= self.max_individual_values:\n",
        "                    for i, value in enumerate(param_data):\n",
        "                        param_values[f\"peft_params/{name}/value_{i}\"] = float(value)\n",
        "\n",
        "                # Log summary statistics as well\n",
        "                param_values[f\"peft_params/{name}/mean\"] = float(np.mean(param_data))\n",
        "                param_values[f\"peft_params/{name}/std\"] = float(np.std(param_data))\n",
        "                param_values[f\"peft_params/{name}/min\"] = float(np.min(param_data))\n",
        "                param_values[f\"peft_params/{name}/max\"] = float(np.max(param_data))\n",
        "\n",
        "                # Log gradient information if available\n",
        "                if param.grad is not None:\n",
        "                    grad_data = param.grad.detach().cpu().numpy().flatten()\n",
        "                    param_values[f\"peft_grads/{name}/histogram\"] = wandb.Histogram(grad_data)\n",
        "\n",
        "                    # Log individual gradient values for small parameters\n",
        "                    if len(grad_data) <= self.max_individual_values:\n",
        "                        for i, value in enumerate(grad_data):\n",
        "                            param_values[f\"peft_grads/{name}/value_{i}\"] = float(value)\n",
        "\n",
        "                    # Log gradient summary statistics\n",
        "                    param_values[f\"peft_grads/{name}/mean\"] = float(np.mean(grad_data))\n",
        "                    param_values[f\"peft_grads/{name}/std\"] = float(np.std(grad_data))\n",
        "\n",
        "        # Log the parameter values to wandb\n",
        "        wandb.log(param_values, step=state.global_step)\n",
        "\n",
        "        # Log the total number of trainable parameters\n",
        "        if state.global_step == 0 or not hasattr(self, 'logged_trainable_params'):\n",
        "            trainable_params = sum(p.numel() for p in model.parameters() if p.requires_grad)\n",
        "            wandb.log({\"trainable_parameters\": trainable_params}, step=state.global_step)\n",
        "            self.logged_trainable_params = True"
      ],
      "metadata": {
        "id": "uzxMh35rdMoH"
      },
      "execution_count": 104,
      "outputs": []
    },
    {
      "cell_type": "code",
      "source": [
        "import wandb\n",
        "import torch\n",
        "import numpy as np\n",
        "from transformers import TrainerCallback\n",
        "\n",
        "class PEFTParameterTrackingCallback(TrainerCallback):\n",
        "    \"\"\"\n",
        "    A callback that tracks individual parameter values over time for PEFT methods.\n",
        "    Optimized for tracking small parameter vectors where each element is important.\n",
        "    \"\"\"\n",
        "\n",
        "    def __init__(self, peft_param_prefix=None):\n",
        "        \"\"\"\n",
        "        Args:\n",
        "            peft_param_prefix (list, optional): List of parameter name prefixes to track.\n",
        "                If None, will use common PEFT parameter prefixes.\n",
        "        \"\"\"\n",
        "        self.peft_param_prefix = peft_param_prefix or [\"lora\", \"adapter\", \"prefix\", \"prompt\", \"ia3\"]\n",
        "        # Keep track of parameters we've seen to maintain consistent tracking\n",
        "        self.tracked_params = {}\n",
        "\n",
        "    def _is_peft_param(self, param_name):\n",
        "        \"\"\"Check if parameter is a PEFT parameter based on naming.\"\"\"\n",
        "        return any(prefix in param_name.lower() for prefix in self.peft_param_prefix)\n",
        "\n",
        "    def on_train_begin(self, args, state, control, model=None, **kwargs):\n",
        "        \"\"\"Initialize parameter tracking at the beginning of training.\"\"\"\n",
        "        if not model or not state.is_world_process_zero:\n",
        "            return\n",
        "\n",
        "        # Find trainable PEFT parameters\n",
        "        for name, param in model.named_parameters():\n",
        "            if self._is_peft_param(name) and param.requires_grad:\n",
        "                param_data = param.data.detach().cpu().numpy().flatten()\n",
        "\n",
        "                # Store initial parameter data for reference\n",
        "                self.tracked_params[name] = {\n",
        "                    'shape': param.shape,\n",
        "                    'size': param.numel(),\n",
        "                    'indices': list(range(len(param_data)))\n",
        "                }\n",
        "\n",
        "                # Log initial parameter values\n",
        "                param_dict = {}\n",
        "                for i, value in enumerate(param_data):\n",
        "                    param_dict[f\"param/{name}/{i}\"] = float(value)\n",
        "\n",
        "                wandb.log(param_dict, step=0)\n",
        "\n",
        "    def on_log(self, args, state, control, model=None, logs=None, **kwargs):\n",
        "        \"\"\"Log individual parameter values at logging steps.\"\"\"\n",
        "        if not model or not state.is_world_process_zero or not wandb.run:\n",
        "            return\n",
        "\n",
        "        # Dictionary to log current parameter values\n",
        "        param_dict = {}\n",
        "\n",
        "        # Track trainable PEFT parameters that we identified at the beginning\n",
        "        for name, param in model.named_parameters():\n",
        "            if name in self.tracked_params and param.requires_grad:\n",
        "                param_data = param.data.detach().cpu().numpy().flatten()\n",
        "\n",
        "                # Log each individual parameter value\n",
        "                for i, value in enumerate(param_data):\n",
        "                    param_dict[f\"param/{name}/{i}\"] = float(value)\n",
        "\n",
        "                # If parameter has a gradient, track that too\n",
        "                if param.grad is not None:\n",
        "                    grad_data = param.grad.detach().cpu().numpy().flatten()\n",
        "                    for i, value in enumerate(grad_data):\n",
        "                        param_dict[f\"grad/{name}/{i}\"] = float(value)\n",
        "\n",
        "        # Log all the values\n",
        "        wandb.log(param_dict, step=state.global_step)"
      ],
      "metadata": {
        "id": "_IqG4-B2zYj_"
      },
      "execution_count": 105,
      "outputs": []
    },
    {
      "cell_type": "code",
      "source": [
        "\n",
        "dataset = load_dataset(\"iamtarun/code_instructions_120k_alpaca\", split=\"train\")\n"
      ],
      "metadata": {
        "id": "_yUytIrNxg_7"
      },
      "execution_count": 106,
      "outputs": []
    },
    {
      "cell_type": "code",
      "source": [
        "def preprocess_function(example):\n",
        "  example['prompt'] = example['instruction'] + \"\\ninput:\\n\" + example['input']\n",
        "  example['completion'] = example['output']\n",
        "  return example"
      ],
      "metadata": {
        "id": "ACEsLxV90zz0"
      },
      "execution_count": 107,
      "outputs": []
    },
    {
      "cell_type": "code",
      "source": [
        "# make the dataset a prompt-completion dataset https://huggingface.co/docs/trl/en/dataset_formats\n",
        "dataset = dataset.map(preprocess_function)"
      ],
      "metadata": {
        "id": "QUqbxfFzxwxV"
      },
      "execution_count": 108,
      "outputs": []
    },
    {
      "cell_type": "code",
      "source": [
        "dataset = dataset.select_columns(['prompt', 'completion'])"
      ],
      "metadata": {
        "id": "skHGBb5t1Bz0"
      },
      "execution_count": 109,
      "outputs": []
    },
    {
      "cell_type": "code",
      "source": [
        "model_name = \"EleutherAI/pythia-70m-deduped\""
      ],
      "metadata": {
        "id": "Rsfc2bZVxzAD"
      },
      "execution_count": 110,
      "outputs": []
    },
    {
      "cell_type": "code",
      "source": [
        "dataset[0]"
      ],
      "metadata": {
        "colab": {
          "base_uri": "https://localhost:8080/"
        },
        "id": "Gb9qvbEC1lej",
        "outputId": "2d2ffef8-c819-492d-8648-a8da015296c5"
      },
      "execution_count": 111,
      "outputs": [
        {
          "output_type": "execute_result",
          "data": {
            "text/plain": [
              "{'prompt': 'Create a function to calculate the sum of a sequence of integers.\\ninput:\\n[1, 2, 3, 4, 5]',\n",
              " 'completion': '# Python code\\ndef sum_sequence(sequence):\\n  sum = 0\\n  for num in sequence:\\n    sum += num\\n  return sum'}"
            ]
          },
          "metadata": {},
          "execution_count": 111
        }
      ]
    },
    {
      "cell_type": "code",
      "source": [
        "tokenizer = AutoTokenizer.from_pretrained(model_name)\n",
        "model = AutoModelForCausalLM.from_pretrained(model_name)"
      ],
      "metadata": {
        "id": "0kVeLg3T13MD"
      },
      "execution_count": 112,
      "outputs": []
    },
    {
      "cell_type": "code",
      "source": [
        "model"
      ],
      "metadata": {
        "colab": {
          "base_uri": "https://localhost:8080/"
        },
        "id": "s-Gw3kT24XxJ",
        "outputId": "d1ec3b54-a03d-451a-ac28-599b178ae769"
      },
      "execution_count": 113,
      "outputs": [
        {
          "output_type": "execute_result",
          "data": {
            "text/plain": [
              "GPTNeoXForCausalLM(\n",
              "  (gpt_neox): GPTNeoXModel(\n",
              "    (embed_in): Embedding(50304, 512)\n",
              "    (emb_dropout): Dropout(p=0.0, inplace=False)\n",
              "    (layers): ModuleList(\n",
              "      (0-5): 6 x GPTNeoXLayer(\n",
              "        (input_layernorm): LayerNorm((512,), eps=1e-05, elementwise_affine=True)\n",
              "        (post_attention_layernorm): LayerNorm((512,), eps=1e-05, elementwise_affine=True)\n",
              "        (post_attention_dropout): Dropout(p=0.0, inplace=False)\n",
              "        (post_mlp_dropout): Dropout(p=0.0, inplace=False)\n",
              "        (attention): GPTNeoXAttention(\n",
              "          (query_key_value): Linear(in_features=512, out_features=1536, bias=True)\n",
              "          (dense): Linear(in_features=512, out_features=512, bias=True)\n",
              "        )\n",
              "        (mlp): GPTNeoXMLP(\n",
              "          (dense_h_to_4h): Linear(in_features=512, out_features=2048, bias=True)\n",
              "          (dense_4h_to_h): Linear(in_features=2048, out_features=512, bias=True)\n",
              "          (act): GELUActivation()\n",
              "        )\n",
              "      )\n",
              "    )\n",
              "    (final_layer_norm): LayerNorm((512,), eps=1e-05, elementwise_affine=True)\n",
              "    (rotary_emb): GPTNeoXRotaryEmbedding()\n",
              "  )\n",
              "  (embed_out): Linear(in_features=512, out_features=50304, bias=False)\n",
              ")"
            ]
          },
          "metadata": {},
          "execution_count": 113
        }
      ]
    },
    {
      "cell_type": "code",
      "source": [
        "from peft import IA3Config, get_peft_model\n",
        "\n",
        "# Create IA3 configuration with precise targeting for ONLY the 4th MLP layer (index 3)\n",
        "config = IA3Config(\n",
        "    task_type=\"CAUSAL_LM\",\n",
        "    # Use a list of exact module names to target\n",
        "    target_modules=[\"gpt_neox.layers.3.mlp.dense_h_to_4h\"],\n",
        "    # Similarly exact name for feedforward module\n",
        "    feedforward_modules=[\"gpt_neox.layers.3.mlp.dense_h_to_4h\"],\n",
        "    init_ia3_weights=True\n",
        ")\n",
        "\n",
        "# Apply the configuration to your model\n",
        "peft_model = get_peft_model(model, config)"
      ],
      "metadata": {
        "id": "rPV3TNQqZDGG"
      },
      "execution_count": 114,
      "outputs": []
    },
    {
      "cell_type": "code",
      "source": [
        "# Print all modules with IA3 adapters\n",
        "for name, module in peft_model.named_modules():\n",
        "    if \"ia3_\" in name:\n",
        "          print(name)"
      ],
      "metadata": {
        "colab": {
          "base_uri": "https://localhost:8080/"
        },
        "id": "2RhKBXu6a7WD",
        "outputId": "3554c20d-3102-4280-f920-cb7688e2b696"
      },
      "execution_count": 115,
      "outputs": [
        {
          "output_type": "stream",
          "name": "stdout",
          "text": [
            "base_model.model.gpt_neox.layers.3.mlp.dense_h_to_4h.ia3_l\n"
          ]
        }
      ]
    },
    {
      "cell_type": "code",
      "source": [
        "# Print all modules with IA3 adapters\n",
        "for name, module in peft_model.named_parameters():\n",
        "    if \"ia3_\" in name:\n",
        "          print(name)"
      ],
      "metadata": {
        "colab": {
          "base_uri": "https://localhost:8080/"
        },
        "id": "cSlYjEUDnUts",
        "outputId": "34eb4b9f-bf45-4837-abf8-474269f007ff"
      },
      "execution_count": 116,
      "outputs": [
        {
          "output_type": "stream",
          "name": "stdout",
          "text": [
            "base_model.model.gpt_neox.layers.3.mlp.dense_h_to_4h.ia3_l.default\n"
          ]
        }
      ]
    },
    {
      "cell_type": "code",
      "source": [],
      "metadata": {
        "id": "j0dw4v9Szbv7"
      },
      "execution_count": 116,
      "outputs": []
    },
    {
      "cell_type": "code",
      "source": [
        "tracking_callback = PEFTParameterTrackingCallback()\n",
        "histogram_callback = PEFTParameterHistogramCallback()"
      ],
      "metadata": {
        "id": "CyM9yTXsdaNG"
      },
      "execution_count": 117,
      "outputs": []
    },
    {
      "cell_type": "code",
      "source": [
        "wandb.init(project=\"IA3_visualization\")\n"
      ],
      "metadata": {
        "colab": {
          "base_uri": "https://localhost:8080/",
          "height": 1000
        },
        "id": "dcZ1y9_j3JsF",
        "outputId": "ba162152-538d-4321-c8b0-873cea3abe96"
      },
      "execution_count": 118,
      "outputs": [
        {
          "output_type": "display_data",
          "data": {
            "text/plain": [
              "<IPython.core.display.HTML object>"
            ],
            "text/html": [
              "Finishing previous runs because reinit is set to 'default'."
            ]
          },
          "metadata": {}
        },
        {
          "output_type": "display_data",
          "data": {
            "text/plain": [
              "<IPython.core.display.HTML object>"
            ],
            "text/html": []
          },
          "metadata": {}
        },
        {
          "output_type": "display_data",
          "data": {
            "text/plain": [
              "<IPython.core.display.HTML object>"
            ],
            "text/html": [
              "<br>    <style><br>        .wandb-row {<br>            display: flex;<br>            flex-direction: row;<br>            flex-wrap: wrap;<br>            justify-content: flex-start;<br>            width: 100%;<br>        }<br>        .wandb-col {<br>            display: flex;<br>            flex-direction: column;<br>            flex-basis: 100%;<br>            flex: 1;<br>            padding: 10px;<br>        }<br>    </style><br><div class=\"wandb-row\"><div class=\"wandb-col\"><h3>Run history:</h3><br/><table class=\"wandb\"><tr><td>param/base_model.model.gpt_neox.layers.3.mlp.dense_h_to_4h.ia3_l.default/0</td><td>▂▂▂▂▂▁▁▂▄▄▄▄▄▅▅▅▅▆▆▆████████████████████</td></tr><tr><td>param/base_model.model.gpt_neox.layers.3.mlp.dense_h_to_4h.ia3_l.default/1</td><td>█▇▇▇▇▇▆▆▆▆▅▄▄▄▄▃▃▃▃▃▃▃▃▃▂▂▂▂▂▁▁▁▁▁▁▁▁▁▁▁</td></tr><tr><td>param/base_model.model.gpt_neox.layers.3.mlp.dense_h_to_4h.ia3_l.default/10</td><td>▄▅▅▆▅▇████▇▇▇▇▆▄▄▃▃▃▂▂▂▂▂▂▂▂▂▁▁▁▁▁▁▁▁▁▁▁</td></tr><tr><td>param/base_model.model.gpt_neox.layers.3.mlp.dense_h_to_4h.ia3_l.default/100</td><td>▅▅▅▅▅█▇▆▆▆▅▄▄▄▃▄▄▄▄▃▂▂▂▂▂▂▂▂▂▁▁▁▁▁▁▁▁▁▁▂</td></tr><tr><td>param/base_model.model.gpt_neox.layers.3.mlp.dense_h_to_4h.ia3_l.default/101</td><td>▆▆▇▆▇▄▂▅▃▃█▇▆▅▅▆▆▆▅▂▁▁▁▁▁▁▁▄▄▄▅▅▅▅▅▅▅▅▅▅</td></tr><tr><td>param/base_model.model.gpt_neox.layers.3.mlp.dense_h_to_4h.ia3_l.default/102</td><td>▇▇████▇▆▄▂▁▁▁▁▂▂▂▃▃▃▃▃▄▄▄▄▄▃▃▂▃▃▃▃▃▄▄▄▄▄</td></tr><tr><td>param/base_model.model.gpt_neox.layers.3.mlp.dense_h_to_4h.ia3_l.default/103</td><td>█▇▇▅▅▅█▇▆▆▅▅▅▅▅▆▆▆▆▆▅▄▃▂▁▁▁▁▁▂▁▁▂▁▁▁▁▁▁▁</td></tr><tr><td>param/base_model.model.gpt_neox.layers.3.mlp.dense_h_to_4h.ia3_l.default/104</td><td>▇▇▇▇▇▇██▆▄▂▂▁▁▁▂▂▂▂▄▅▅▅▅▅▅▅▅▅▅▅▆▆▆▆▆▆▆▆▅</td></tr><tr><td>param/base_model.model.gpt_neox.layers.3.mlp.dense_h_to_4h.ia3_l.default/105</td><td>▄▅▆▆▆▆▃▁▁▂▂▂▂▂▂▃▃▃▃▃▅▆▆▆▇▇▇██▇▇▇▇▇▇█████</td></tr><tr><td>param/base_model.model.gpt_neox.layers.3.mlp.dense_h_to_4h.ia3_l.default/106</td><td>█▇▆▇▆▁▂▅███▇▆▆▅▃▃▂▂▂▄▄▅▅▅▅▅▅▅▅▅▅▅▅▅▅▅▅▅▅</td></tr><tr><td>param/base_model.model.gpt_neox.layers.3.mlp.dense_h_to_4h.ia3_l.default/107</td><td>▆▇▆▄▂▁▄▄▇▇▇▇███▇████▇▇▇▇▇▇▇▇▇▆▆▆▆▆▆▆▆▆▆▆</td></tr><tr><td>param/base_model.model.gpt_neox.layers.3.mlp.dense_h_to_4h.ia3_l.default/108</td><td>▁▁▁▁▂███▇▇▇▇▇▇▇▆▆▆▆▅▅▅▅▄▄▃▃▂▂▂▂▂▂▂▂▂▂▂▂▂</td></tr><tr><td>param/base_model.model.gpt_neox.layers.3.mlp.dense_h_to_4h.ia3_l.default/109</td><td>▁▅▇██▃▄▆▄▄▅▅▃▃▃▃▃▃▃▂▁▂▂▂▂▃▃▃▃▃▃▃▃▃▃▃▃▃▃▂</td></tr><tr><td>param/base_model.model.gpt_neox.layers.3.mlp.dense_h_to_4h.ia3_l.default/11</td><td>▇████▆▃▂▂▂▂▁▁▁▁▂▂▂▂▂▃▃▃▃▃▃▃▄▄▄▅▅▅▅▅▅▄▄▄▄</td></tr><tr><td>param/base_model.model.gpt_neox.layers.3.mlp.dense_h_to_4h.ia3_l.default/110</td><td>▁▁▃▃▄▇▅▃▂▂▂▂▂▃▃▃▄▄▅▅▇▇▇▇████████████████</td></tr><tr><td>param/base_model.model.gpt_neox.layers.3.mlp.dense_h_to_4h.ia3_l.default/111</td><td>▁▁▂▃▄█▇▆▆▆▇▇▇▇█▇▇▇▇███████████▇▇▇▇▇▇▇█▇▇</td></tr><tr><td>param/base_model.model.gpt_neox.layers.3.mlp.dense_h_to_4h.ia3_l.default/112</td><td>█▇▆▅▄▂▃▃▃▂▂▂▂▂▃▃▄▄▃▂▁▁▁▁▁▁▁▁▁▁▁▁▁▁▂▂▂▂▂▁</td></tr><tr><td>param/base_model.model.gpt_neox.layers.3.mlp.dense_h_to_4h.ia3_l.default/113</td><td>▆▆▆▇▇▂▂▁▁▁▂▂▂▂▃▄▄▅▆▆████████▇▇▇▇▇▇▇▇▇▇▇▇</td></tr><tr><td>param/base_model.model.gpt_neox.layers.3.mlp.dense_h_to_4h.ia3_l.default/114</td><td>▅▅▆▅▅▆██▇▅▁▁▁▁▂▂▂▂▂▂▂▂▂▁▁▁▂▂▂▂▂▂▃▃▃▃▃▃▃▃</td></tr><tr><td>param/base_model.model.gpt_neox.layers.3.mlp.dense_h_to_4h.ia3_l.default/115</td><td>▆▄▄▂▂▂██▇▅▄▄▄▅▅▄▄▄▄▄▃▃▂▂▂▁▁▁▁▁▁▂▂▂▂▂▃▃▃▃</td></tr><tr><td>param/base_model.model.gpt_neox.layers.3.mlp.dense_h_to_4h.ia3_l.default/116</td><td>▁▁▁▁▂▇████▆▆▆▅▅▄▄▅▅▅▄▄▄▄▄▄▄▄▄▄▄▄▄▄▄▄▄▄▄▄</td></tr><tr><td>param/base_model.model.gpt_neox.layers.3.mlp.dense_h_to_4h.ia3_l.default/117</td><td>█▇▆▆▆▁▃▅▆▆▄▄▄▄▄▅▅▅▄▄▃▃▃▂▁▁▂▂▂▂▂▂▂▂▂▂▂▂▂▂</td></tr><tr><td>param/base_model.model.gpt_neox.layers.3.mlp.dense_h_to_4h.ia3_l.default/118</td><td>█▇▆▆▆▄▃▃▃▂▂▂▂▃▃▂▂▂▂▂▁▁▁▁▁▁▂▂▂▂▂▂▂▂▂▂▂▂▂▂</td></tr><tr><td>param/base_model.model.gpt_neox.layers.3.mlp.dense_h_to_4h.ia3_l.default/119</td><td>▄▄▄▄▄▃▄▄▂▁▁▁▂▂▂▂▃▃▃▄▆▇▇█████████████████</td></tr><tr><td>param/base_model.model.gpt_neox.layers.3.mlp.dense_h_to_4h.ia3_l.default/12</td><td>▁▁▁▁▁▅▄▃▂▂▁▂▂▂▂▃▃▄▄▆▆▇▇▇▇▇████▇▇▇▇▇▇▇▇▇▇</td></tr><tr><td>param/base_model.model.gpt_neox.layers.3.mlp.dense_h_to_4h.ia3_l.default/120</td><td>▁▂▃▄▅▇▆▇██▇▇▆▆▅▄▄▃▃▂▁▁▁▁▁▁▁▂▂▂▂▂▂▂▂▃▃▃▃▃</td></tr><tr><td>param/base_model.model.gpt_neox.layers.3.mlp.dense_h_to_4h.ia3_l.default/121</td><td>▆▇▆▅▅▁▁▁▁▁▂▂▃▃▄▆▆▆▇▇███▇█▇▇▇▇▇▆▆▆▆▆▆▆▆▆▆</td></tr><tr><td>param/base_model.model.gpt_neox.layers.3.mlp.dense_h_to_4h.ia3_l.default/122</td><td>▄▄▄▅▅▆▆▂▁▁▁▂▂▂▂▃▃▃▃▄▅▅▅▆▇▇▇▇▇▇▇▇▇███████</td></tr><tr><td>param/base_model.model.gpt_neox.layers.3.mlp.dense_h_to_4h.ia3_l.default/123</td><td>▆▇▇▇▇▇█▇▄▃▃▃▃▃▃▃▃▂▂▁▁▁▁▁▁▂▂▂▂▂▂▂▂▂▂▂▂▂▂▂</td></tr><tr><td>param/base_model.model.gpt_neox.layers.3.mlp.dense_h_to_4h.ia3_l.default/124</td><td>████▂▁▁▁▁▁▁▁▁▁▁▂▂▂▂▂▂▂▂▂▂▃▃▃▃▃▃▃▃▃▃▃▄▄▄▄</td></tr><tr><td>param/base_model.model.gpt_neox.layers.3.mlp.dense_h_to_4h.ia3_l.default/125</td><td>▅▆▆▇▆▇██▇▇▇▇▇▆▆▆▆▆▆▆▆▅▄▃▃▂▁▁▁▁▁▁▁▁▁▁▁▁▁▂</td></tr><tr><td>param/base_model.model.gpt_neox.layers.3.mlp.dense_h_to_4h.ia3_l.default/126</td><td>▂▂▂▂▂▄█▆▆▅▃▂▁▁▁▂▂▂▂▃▁▁▁▁▂▃▃▆▆▆▆▆▆▆▆▆▆▆▆▆</td></tr><tr><td>param/base_model.model.gpt_neox.layers.3.mlp.dense_h_to_4h.ia3_l.default/127</td><td>▆▆█▆▄▁▁▂▂▄▃▃▃▃▃▂▂▂▁▁▁▁▁▁▂▂▁▁▂▂▂▃▃▃▃▃▃▃▃▃</td></tr><tr><td>param/base_model.model.gpt_neox.layers.3.mlp.dense_h_to_4h.ia3_l.default/128</td><td>▇████▇▆▆▅▄▃▃▂▂▂▁▁▁▁▁▂▂▂▂▂▂▂▃▃▃▄▄▄▄▄▄▄▄▄▄</td></tr><tr><td>param/base_model.model.gpt_neox.layers.3.mlp.dense_h_to_4h.ia3_l.default/129</td><td>████▇▅▄▂▁▁▁▂▂▂▂▂▃▃▃▃▂▂▂▂▂▂▂▂▂▂▂▂▂▂▂▂▂▂▂▃</td></tr><tr><td>param/base_model.model.gpt_neox.layers.3.mlp.dense_h_to_4h.ia3_l.default/13</td><td>▆▆▆▆▆██▇▇▄▄▃▄▄▃▃▃▂▁▁▁▁▁▁▁▂▃▃▃▃▃▃▃▃▃▄▄▄▄▄</td></tr><tr><td>param/base_model.model.gpt_neox.layers.3.mlp.dense_h_to_4h.ia3_l.default/130</td><td>▁▂▂▃▆▇▆▆▅▄▅▅▅▅▅▅▅▅▅▅▆▇▇▇▇█████▇▇▇▇▇▇▆▆▆▆</td></tr><tr><td>param/base_model.model.gpt_neox.layers.3.mlp.dense_h_to_4h.ia3_l.default/131</td><td>▃▃▂▂▁▁▆██▇▅▃▃▃▃▃▃▄▄▄▄▄▃▂▂▂▂▂▂▂▂▂▂▂▂▂▂▂▂▂</td></tr><tr><td>param/base_model.model.gpt_neox.layers.3.mlp.dense_h_to_4h.ia3_l.default/132</td><td>▂▁▁▁▁████▇▆▆▅▄▄▄▄▄▄▄▄▄▄▄▄▃▃▃▃▃▃▃▃▃▃▃▃▃▃▃</td></tr><tr><td>param/base_model.model.gpt_neox.layers.3.mlp.dense_h_to_4h.ia3_l.default/133</td><td>███▇▇▆▅▄▄▅▅▅▄▄▄▄▃▃▃▂▂▂▁▁▁▁▁▁▁▁▁▁▁▁▁▂▂▂▂▂</td></tr><tr><td>param/base_model.model.gpt_neox.layers.3.mlp.dense_h_to_4h.ia3_l.default/134</td><td>▁▁▂▂▂▄▅▆▇▇▇▇▇▇▇███████████▇▇▇▇▇▇▇▇▇▇▇▇▇▇</td></tr><tr><td>param/base_model.model.gpt_neox.layers.3.mlp.dense_h_to_4h.ia3_l.default/135</td><td>▁▁▂▂█▇▆▆▄▄▄▄▄▄▄▃▃▃▃▃▂▂▂▂▂▂▂▂▂▂▃▃▃▃▃▃▃▃▃▃</td></tr><tr><td>param/base_model.model.gpt_neox.layers.3.mlp.dense_h_to_4h.ia3_l.default/136</td><td>▇▇▇▇█▆▂▃▅▇▇▇▇▇▇▃▁▁▁▁▂▃▃▅▅█████████▇▇▇▇▇▇</td></tr><tr><td>param/base_model.model.gpt_neox.layers.3.mlp.dense_h_to_4h.ia3_l.default/137</td><td>▂▂▁▁▁█▇▆▄▄▅▅▅▄▅▅▅▅▅▆▇▇▇▇▇▇▇▇▇▇▇▇▇▇▇▆▆▆▆▆</td></tr><tr><td>param/base_model.model.gpt_neox.layers.3.mlp.dense_h_to_4h.ia3_l.default/138</td><td>█▆▆▆▅▁▂▄▅▆▇▇▇▆▆▅▅▅▅▄▄▄▄▄▄▄▃▂▂▂▂▂▂▂▂▂▂▂▂▂</td></tr><tr><td>param/base_model.model.gpt_neox.layers.3.mlp.dense_h_to_4h.ia3_l.default/139</td><td>▄▃▃▃▄▄▃▇▇▇█▇▇▇██████▇▇▇▇▇▆▅▄▃▃▂▂▂▂▁▁▁▁▁▁</td></tr><tr><td>param/base_model.model.gpt_neox.layers.3.mlp.dense_h_to_4h.ia3_l.default/14</td><td>█▇▅▅▃▆▅▄▄▃▃▃▄▄▅▇█▇▇▆▅▄▄▃▁▁▁▂▂▂▂▃▂▃▃▃▃▃▃▂</td></tr><tr><td>param/base_model.model.gpt_neox.layers.3.mlp.dense_h_to_4h.ia3_l.default/140</td><td>▃▄▅▆▅▆▇█▇▆▇▇███▇▆▅▄▃▂▁▁▁▁▁▁▂▂▂▂▂▃▃▃▄▄▄▄▄</td></tr><tr><td>param/base_model.model.gpt_neox.layers.3.mlp.dense_h_to_4h.ia3_l.default/141</td><td>▆▆▅▃▃▇██▄▂▃▄▁▁▁▁▁▂▂▃▆▆▆▆▆▅▅▅▅▅▆▆▆▆▆▅▅▅▅▅</td></tr><tr><td>param/base_model.model.gpt_neox.layers.3.mlp.dense_h_to_4h.ia3_l.default/142</td><td>▆▆▇▇█▇▁▂▂▁▃▃▃▃▃▄▄▅▅▅▅▅▅▅▆▆▆▆▆▆▆▆▆▆▆▆▆▆▅▅</td></tr><tr><td>param/base_model.model.gpt_neox.layers.3.mlp.dense_h_to_4h.ia3_l.default/143</td><td>▆▆▆▆▆▅▅▄▄▄▃▁▁▁▁▂▂▂▃▃▄▆▆███████▇▇▇▇▇▇▇▇▇▇</td></tr><tr><td>param/base_model.model.gpt_neox.layers.3.mlp.dense_h_to_4h.ia3_l.default/144</td><td>█▇▇▆▆▃▁▁▁▂▁▁▂▂▂▃▃▄▄▄▅▅▅▅▅▅▄▄▄▄▄▄▃▃▃▃▃▃▃▃</td></tr><tr><td>param/base_model.model.gpt_neox.layers.3.mlp.dense_h_to_4h.ia3_l.default/145</td><td>▄▄▄▄▄▅▅▁▁▂▃▄▃▄▄▃▃▃▂▃▄▄▅▅▆▆▇▇▇▇▇█████████</td></tr><tr><td>param/base_model.model.gpt_neox.layers.3.mlp.dense_h_to_4h.ia3_l.default/146</td><td>▁▂▃▃▄▂▂▂▂▄▅▅▅▆▆▅▅▅▅▅▅▆▇▇▇▇▇▇▇▇▇▇████████</td></tr><tr><td>param/base_model.model.gpt_neox.layers.3.mlp.dense_h_to_4h.ia3_l.default/147</td><td>▅▅▆▆▇▇█▇▇▇▇▇▆▆▆▅▅▅▄▄▃▂▂▁▁▁▂▂▂▂▂▂▂▂▂▂▂▂▂▂</td></tr><tr><td>param/base_model.model.gpt_neox.layers.3.mlp.dense_h_to_4h.ia3_l.default/148</td><td>█████▅▄▄▄▄▃▂▁▁▁▁▁▁▁▁▁▁▁▁▁▂▂▂▂▂▂▂▂▂▂▂▂▂▂▂</td></tr><tr><td>param/base_model.model.gpt_neox.layers.3.mlp.dense_h_to_4h.ia3_l.default/149</td><td>▅▄▄▄▄▅▅███▇▆▆▆▆▅▅▅▅▄▄▄▃▂▂▂▂▂▂▂▂▁▁▁▁▁▁▁▁▁</td></tr><tr><td>param/base_model.model.gpt_neox.layers.3.mlp.dense_h_to_4h.ia3_l.default/15</td><td>▁▂▅▅▅▄▄▄▃▅▅▆▆▆▅▅▅▅▅▅▆▆▆▆▆▆▆▆▆▇▇▇▇▇▇█████</td></tr><tr><td>param/base_model.model.gpt_neox.layers.3.mlp.dense_h_to_4h.ia3_l.default/150</td><td>▁▁▁▂▄██▇▆▅▅▅▄▄▄▃▃▃▃▂▂▂▂▂▂▂▁▁▁▁▁▁▁▁▁▁▁▁▁▁</td></tr><tr><td>param/base_model.model.gpt_neox.layers.3.mlp.dense_h_to_4h.ia3_l.default/151</td><td>▁▂▄▅▆█▆▇▇▇▅▄▃▄▄▄▄▄▄▄▅▅▅▄▄▃▃▃▃▃▃▃▃▃▃▂▂▂▂▂</td></tr><tr><td>param/base_model.model.gpt_neox.layers.3.mlp.dense_h_to_4h.ia3_l.default/152</td><td>▆▆▆▆▆▆█▇▇▇▇▆▆▇▇▆▆▆▅▅▄▃▂▂▂▂▂▁▂▂▂▂▂▂▃▃▃▃▃▃</td></tr><tr><td>param/base_model.model.gpt_neox.layers.3.mlp.dense_h_to_4h.ia3_l.default/153</td><td>▃▄▅▅▅▁▁▁▄▄▄▄▅▅▅▆▆▆▆▇█▇▇▇▇▆▆▇▇▇▇▇▇▇▇▇▇▇▇▇</td></tr><tr><td>param/base_model.model.gpt_neox.layers.3.mlp.dense_h_to_4h.ia3_l.default/154</td><td>▄▅▆▁▂▄▆▆▄▂▂▂▃▃▄██▇▇▆▆▆▆▆▅▄▃▁▂▂▂▃▃▃▃▄▄▄▅▅</td></tr><tr><td>param/base_model.model.gpt_neox.layers.3.mlp.dense_h_to_4h.ia3_l.default/155</td><td>▂▁▁▂▂▂▃▄▄▄▄▄▅▅▅▅▅▅▅▅▆▆▇▇▇█████████████▇▇</td></tr><tr><td>param/base_model.model.gpt_neox.layers.3.mlp.dense_h_to_4h.ia3_l.default/156</td><td>▁▄▅▅▆▆▄▅██▇▆▆▆▆▇▇▇▇▆▆▆▆▆▆▆▆▇▇▇▇▇▇▇▇█████</td></tr><tr><td>param/base_model.model.gpt_neox.layers.3.mlp.dense_h_to_4h.ia3_l.default/157</td><td>██▇▇▆▂▂▃▄▃▁▁▁▁▁▂▂▂▃▃▃▃▃▃▃▃▃▃▂▃▃▃▃▃▃▃▃▃▃▃</td></tr><tr><td>param/base_model.model.gpt_neox.layers.3.mlp.dense_h_to_4h.ia3_l.default/158</td><td>▇█▇▇▇▇▅▃▂▁▁▂▄▄▄▄▄▅▅▆▆▇▇▇▇▇▇█████████████</td></tr><tr><td>param/base_model.model.gpt_neox.layers.3.mlp.dense_h_to_4h.ia3_l.default/159</td><td>▅▆▆▇▇█▆▅▄▄▃▃▂▁▁▂▁▂▂▂▂▂▂▂▂▂▂▂▂▂▂▂▂▁▁▁▁▁▁▁</td></tr><tr><td>param/base_model.model.gpt_neox.layers.3.mlp.dense_h_to_4h.ia3_l.default/16</td><td>▂▁▁▁▁▁▃▅▆▆▆▆▆▆▆▆▇▇▇▇▇███▇▆▅▅▅▄▃▃▃▃▃▂▂▂▂▂</td></tr><tr><td>param/base_model.model.gpt_neox.layers.3.mlp.dense_h_to_4h.ia3_l.default/160</td><td>█▇▇▃▃▃▃▂▁▁▁▁▁▁▁▁▂▂▂▂▄▅▅▅▅▆▆▆▆▆▆▆▆▆▇▇▇▇▇▇</td></tr><tr><td>param/base_model.model.gpt_neox.layers.3.mlp.dense_h_to_4h.ia3_l.default/161</td><td>▂▂▂▁▁▂▆▄▅▄▃▄▄▄▃▃▃▃▃▃▄▅▅▆▆▆▇███▇▇▇█▇█████</td></tr><tr><td>param/base_model.model.gpt_neox.layers.3.mlp.dense_h_to_4h.ia3_l.default/162</td><td>▁▂▂▂▂▅▇██▇▅▄▄▃▃▂▂▂▂▃▃▃▃▃▂▁▁▁▁▁▁▁▁▁▁▁▁▁▁▁</td></tr><tr><td>param/base_model.model.gpt_neox.layers.3.mlp.dense_h_to_4h.ia3_l.default/163</td><td>▆▆▅▅▅█▃▃▂▂▁▁▁▁▃▅▅▅▄▄▄▄▄▄▃▄▃▃▃▄▄▄▄▄▄▄▄▄▄▄</td></tr><tr><td>param/base_model.model.gpt_neox.layers.3.mlp.dense_h_to_4h.ia3_l.default/164</td><td>▂▃▄▄▆█▇▇▆▆▄▂▂▁▂▄▅▅▆▆▇▆▅▅▆▆▆▆▆▇▆▆▆▆▆▆▆▆▆▆</td></tr><tr><td>param/base_model.model.gpt_neox.layers.3.mlp.dense_h_to_4h.ia3_l.default/165</td><td>▁▂▃▃▄▆██▇▆▆▅▅▅▅▅▅▅▅▅▄▃▃▃▃▃▃▃▃▃▃▃▃▃▂▂▂▂▂▂</td></tr><tr><td>param/base_model.model.gpt_neox.layers.3.mlp.dense_h_to_4h.ia3_l.default/166</td><td>▇▆▆▆▆▇██▆▇▇▇▇▇▅▄▃▃▂▁▁▁▁▂▂▃▃▃▃▂▂▂▁▂▂▁▁▁▁▁</td></tr><tr><td>param/base_model.model.gpt_neox.layers.3.mlp.dense_h_to_4h.ia3_l.default/167</td><td>▂▁▁▁▇▆▆▆▆▆▇▇▇▇█████▇▆▆▆▆▅▅▅▅▅▅▅▅▅▅▅▅▅▅▅▅</td></tr><tr><td>param/base_model.model.gpt_neox.layers.3.mlp.dense_h_to_4h.ia3_l.default/168</td><td>▄▄▄▄▄▁▃▄▆▆▇███▇▇▇▇▇▇▇▆▆▆▆▆▆▆▇▇▇▇▇▇▇▇▇▇▇▇</td></tr><tr><td>param/base_model.model.gpt_neox.layers.3.mlp.dense_h_to_4h.ia3_l.default/169</td><td>▂▁▁▁▂▄█▅▆▅▃▃▃▃▃▃▃▃▃▃▃▃▃▄▄▅▅▅▅▅▅▅▅▅▅▅▅▅▅▅</td></tr><tr><td>param/base_model.model.gpt_neox.layers.3.mlp.dense_h_to_4h.ia3_l.default/17</td><td>████▇▅▆▆▆▆▆▆▆▆▆▆▆▆▅▅▄▃▂▂▂▂▂▁▁▁▁▁▁▁▁▁▁▁▁▁</td></tr><tr><td>param/base_model.model.gpt_neox.layers.3.mlp.dense_h_to_4h.ia3_l.default/170</td><td>▁▁▂▃▃▄▄▅▅██████▇▇▆▆▇▇▇▇▇▇▇▆▆▆▆▆▆▆▆▆▆▆▆▆▆</td></tr><tr><td>param/base_model.model.gpt_neox.layers.3.mlp.dense_h_to_4h.ia3_l.default/171</td><td>▆▅▅▄▆▅▅▄▃▃▂▁▁▂▂▃▄▄▅▆▇▆▆▆▆▆▅▆▇▇▇▇▇▇▇█████</td></tr><tr><td>param/base_model.model.gpt_neox.layers.3.mlp.dense_h_to_4h.ia3_l.default/172</td><td>▇▇▇▇█▆▅▅▅▆▄▄▄▄▃▂▂▂▁▁▁▁▁▁▁▁▁▁▁▁▁▂▂▂▂▂▂▂▂▂</td></tr><tr><td>param/base_model.model.gpt_neox.layers.3.mlp.dense_h_to_4h.ia3_l.default/173</td><td>▄▂▁▄▅▇█▇▇▇▆▇▇▇▇▇▇▇▇▇▃▃▂▂▁▁▁▁▁▁▁▁▁▁▁▁▁▁▁▁</td></tr><tr><td>param/base_model.model.gpt_neox.layers.3.mlp.dense_h_to_4h.ia3_l.default/174</td><td>████▇█▇▅▅▅▃▃▃▃▃▄▅▅▅▅▄▄▃▂▂▁▁▁▁▁▂▂▂▂▂▂▂▂▂▂</td></tr><tr><td>param/base_model.model.gpt_neox.layers.3.mlp.dense_h_to_4h.ia3_l.default/175</td><td>▅▆▇▇██▆▆▅▅▃▃▂▂▂▂▂▂▂▂▂▁▁▁▁▁▁▁▁▁▁▁▁▁▁▁▁▁▁▁</td></tr><tr><td>param/base_model.model.gpt_neox.layers.3.mlp.dense_h_to_4h.ia3_l.default/176</td><td>▅▆▇▇█▁▂▃▄▅▅▅▆▆▇▇████▇▇▇▇▇▇▇▆▆▅▅▅▅▅▅▅▅▅▅▅</td></tr><tr><td>param/base_model.model.gpt_neox.layers.3.mlp.dense_h_to_4h.ia3_l.default/177</td><td>▇██▆▅▅▅▅▄▃▁▁▁▁▁▂▂▂▃▃▃▃▃▄▄▄▄▄▄▄▄▄▄▄▄▃▃▃▃▃</td></tr><tr><td>param/base_model.model.gpt_neox.layers.3.mlp.dense_h_to_4h.ia3_l.default/178</td><td>▇▇▇▇▆█▇▇▆▆▅▄▃▃▃▂▂▂▂▂▂▂▂▂▂▂▁▁▁▁▁▁▁▁▁▁▁▁▁▁</td></tr><tr><td>param/base_model.model.gpt_neox.layers.3.mlp.dense_h_to_4h.ia3_l.default/179</td><td>▄▆▅▆▆▃▂▁▁▁▁▁▁▁▂▃▄▄▅▆▆▆▆▆▅▅▅▅▆▇██████████</td></tr><tr><td>param/base_model.model.gpt_neox.layers.3.mlp.dense_h_to_4h.ia3_l.default/18</td><td>▅▅▅▆▆▆█▆▅▄▄▃▃▃▃▄▃▃▄▃▃▄▄▄▄▄▄▄▃▃▂▁▁▁▁▁▁▁▁▁</td></tr><tr><td>param/base_model.model.gpt_neox.layers.3.mlp.dense_h_to_4h.ia3_l.default/180</td><td>▅▆▆▆▆▆▅▅▃▂▂▁▁▁▂▃▄▄▅▅▆▆▆▆▆▆▇▇▇███████████</td></tr><tr><td>param/base_model.model.gpt_neox.layers.3.mlp.dense_h_to_4h.ia3_l.default/181</td><td>▄▃▃▃▃▁▁▁▁▂▄▄▅▆▆▇▇▇▇▇▇▇▇▇███████████▇▇▇▇▇</td></tr><tr><td>param/base_model.model.gpt_neox.layers.3.mlp.dense_h_to_4h.ia3_l.default/182</td><td>▄▅▆▆▇▇▇▇▇█▆▆▆▅▅▄▄▃▃▂▂▂▁▁▁▁▁▁▁▁▁▁▁▁▁▂▂▂▂▂</td></tr><tr><td>param/base_model.model.gpt_neox.layers.3.mlp.dense_h_to_4h.ia3_l.default/183</td><td>▁▂▂▂▃▂▂▃▄▁▂▂▁▂▃▅▅▅▆▇███▇▇▇▇▇▇▇▇▇▇▇▇▇▇▇▇▇</td></tr><tr><td>param/base_model.model.gpt_neox.layers.3.mlp.dense_h_to_4h.ia3_l.default/184</td><td>▆▇▇▇█▆▆▆▅▄▃▃▃▃▂▂▂▂▂▂▂▂▂▂▁▁▁▁▁▁▁▁▁▁▁▂▂▂▂▂</td></tr><tr><td>param/base_model.model.gpt_neox.layers.3.mlp.dense_h_to_4h.ia3_l.default/185</td><td>▁▂▁▁▂▂▃▄▃▃▄▄▄▄▄▆▇██▇▆▇▇▇▇▇▇████▇▇▇▇▆▆▆▆▆</td></tr><tr><td>param/base_model.model.gpt_neox.layers.3.mlp.dense_h_to_4h.ia3_l.default/186</td><td>▁▃▄▄▅▃▂▁▂▃▇▇▇▇▇██▇▇▇▅▅▅▃▃▄▄▅▅▄▄▄▄▄▄▄▄▄▄▄</td></tr><tr><td>param/base_model.model.gpt_neox.layers.3.mlp.dense_h_to_4h.ia3_l.default/187</td><td>▃▃▂▂▂█▇▆▅▅▅▅▅▅▅▆▅▄▄▃▂▂▂▂▂▂▁▁▁▁▂▂▂▂▂▂▂▃▃▃</td></tr><tr><td>param/base_model.model.gpt_neox.layers.3.mlp.dense_h_to_4h.ia3_l.default/188</td><td>▅▃▂▁▁▅▅▆▆▇████▇▆▆▆▆▆▇▇▇▇▆▆▆▆▆▆▆▅▅▅▅▅▅▅▅▅</td></tr><tr><td>param/base_model.model.gpt_neox.layers.3.mlp.dense_h_to_4h.ia3_l.default/189</td><td>▁▂▃▃▄▅▇▇▇▇████████▇▇▆▆▅▅▄▄▄▄▄▄▄▄▃▃▃▃▃▃▃▃</td></tr><tr><td>param/base_model.model.gpt_neox.layers.3.mlp.dense_h_to_4h.ia3_l.default/19</td><td>▂▄▆▆▆█▆▆▇▆▅▅▇▇██▇▇▅▄▂▁▁▁▁▁▁▁▁▁▂▂▂▂▂▂▂▂▂▂</td></tr><tr><td>param/base_model.model.gpt_neox.layers.3.mlp.dense_h_to_4h.ia3_l.default/190</td><td>▅▆▇▇██▆▆▅▅▃▃▂▃▃▃▃▃▃▄▄▄▄▄▄▁▁▁▁▁▁▁▁▂▂▂▂▂▂▂</td></tr><tr><td>param/base_model.model.gpt_neox.layers.3.mlp.dense_h_to_4h.ia3_l.default/191</td><td>▁▁▂▂▁▄▇█▇▇▆▅▄▄▄▁▁▁▁▁▂▂▂▂▂▂▂▂▃▃▃▃▃▃▃▃▃▃▃▃</td></tr><tr><td>param/base_model.model.gpt_neox.layers.3.mlp.dense_h_to_4h.ia3_l.default/192</td><td>▅▅▆▆▆█▇▆▅▅▄▃▃▃▃▃▂▂▂▂▁▁▁▁▁▁▁▁▁▁▁▁▁▁▁▁▁▁▁▁</td></tr><tr><td>param/base_model.model.gpt_neox.layers.3.mlp.dense_h_to_4h.ia3_l.default/193</td><td>████▇▅▃▁▁▃▄▄▄▅▅▅▅▅▅▅▆▆▆▆▆▇▆▆▇▇▇▇▇▇▇▇▇▇▇▇</td></tr><tr><td>param/base_model.model.gpt_neox.layers.3.mlp.dense_h_to_4h.ia3_l.default/194</td><td>▆▇███▃▂▂▂▁▁▁▂▂▃▃▃▃▃▃▃▃▃▃▃▃▃▃▃▃▄▄▄▄▄▄▄▄▄▄</td></tr><tr><td>param/base_model.model.gpt_neox.layers.3.mlp.dense_h_to_4h.ia3_l.default/195</td><td>▇▇███▃▂▂▂▂▂▁▁▁▁▂▂▂▂▂▂▂▂▃▄▄▄▄▄▄▄▄▄▄▄▄▄▄▄▄</td></tr><tr><td>param/base_model.model.gpt_neox.layers.3.mlp.dense_h_to_4h.ia3_l.default/196</td><td>▃▄▄▅▅▅▃▅▆▇▇▇▇█▇▆▆▆▆▆▄▃▃▃▂▂▁▁▁▁▁▁▁▂▂▂▂▂▂▂</td></tr><tr><td>param/base_model.model.gpt_neox.layers.3.mlp.dense_h_to_4h.ia3_l.default/197</td><td>▅▄▃▂▂▂▁▁▆▇█▇▆▆▆▆▆▆▅▅▅▅▆▆▅▅▅▅▅▅▅▅▆▆▆▅▅▅▅▅</td></tr><tr><td>param/base_model.model.gpt_neox.layers.3.mlp.dense_h_to_4h.ia3_l.default/198</td><td>▄▁▁▁▁▅▆▆▆▅▆▆▆▆▆▆▆▆▆▆▆▆▆▆▇███████████████</td></tr><tr><td>param/base_model.model.gpt_neox.layers.3.mlp.dense_h_to_4h.ia3_l.default/199</td><td>█████▅▄▄▄▄▃▃▃▃▃▃▃▃▃▃▃▃▂▂▂▂▂▂▁▁▁▁▁▁▁▁▁▁▁▁</td></tr><tr><td>param/base_model.model.gpt_neox.layers.3.mlp.dense_h_to_4h.ia3_l.default/2</td><td>▇▇▆▆▅▇▆▇████▇▇▇▆▅▅▄▄▂▁▁▁▁▁▂▂▂▂▂▂▂▃▃▃▃▃▃▂</td></tr><tr><td>param/base_model.model.gpt_neox.layers.3.mlp.dense_h_to_4h.ia3_l.default/20</td><td>▁▁▂▃█▆▇▇▆▆▅▄▄▄▄▄▄▅▅▅▄▄▄▄▄▄▄▄▄▄▃▃▃▃▃▃▃▃▃▃</td></tr><tr><td>param/base_model.model.gpt_neox.layers.3.mlp.dense_h_to_4h.ia3_l.default/200</td><td>▂▁▁▁▁▅▆▆▆▆▇▇███▇▆▅▅▄▄▃▃▃▃▃▃▃▃▂▂▂▂▂▂▂▂▂▂▂</td></tr><tr><td>param/base_model.model.gpt_neox.layers.3.mlp.dense_h_to_4h.ia3_l.default/201</td><td>▃▃▃▃▃▅▃▃▂▂▁▂▂▃▂▂▃▃▂▂▂▃▃▃▄▅▆▆▆▇▇▇▇▇▇█████</td></tr><tr><td>param/base_model.model.gpt_neox.layers.3.mlp.dense_h_to_4h.ia3_l.default/202</td><td>▃▃▃▃▃▃▄▇▇██▇█▇▇▆▆▆▆▄▃▃▃▃▃▃▃▂▂▂▂▂▂▁▁▁▁▁▁▁</td></tr><tr><td>param/base_model.model.gpt_neox.layers.3.mlp.dense_h_to_4h.ia3_l.default/203</td><td>▅▅▅▅▇█▆▅▅▄▃▃▃▃▃▂▂▂▂▂▁▁▁▁▁▁▁▁▁▁▁▁▁▁▁▁▁▁▁▁</td></tr><tr><td>param/base_model.model.gpt_neox.layers.3.mlp.dense_h_to_4h.ia3_l.default/204</td><td>▂▁▁▁▁▄▆▇▇▆▇▇███▇▇▇▇█▇▇▇▇▇▆▆▅▅▅▅▅▅▅▅▅▅▄▄▄</td></tr><tr><td>param/base_model.model.gpt_neox.layers.3.mlp.dense_h_to_4h.ia3_l.default/205</td><td>▂▃▄▅▅▃▃▂▂▂▁▂▂▃▃▄▄▆▆▇████████▇▇▇▇▇▇▇▇▇▇▇▇</td></tr><tr><td>param/base_model.model.gpt_neox.layers.3.mlp.dense_h_to_4h.ia3_l.default/206</td><td>▆▅▆▆▆▅▄▄▄▄▁▃▄▄▄▄▄▄▃▃▃▃▃▃▄█████▇▇▇▇▇▇▇▇▇▇</td></tr><tr><td>param/base_model.model.gpt_neox.layers.3.mlp.dense_h_to_4h.ia3_l.default/207</td><td>██▇██▇▇▅▅▆▃▃▃▃▃▃▂▂▂▁▁▁▁▁▁▁▂▂▂▂▂▂▂▂▂▂▂▂▂▂</td></tr><tr><td>param/base_model.model.gpt_neox.layers.3.mlp.dense_h_to_4h.ia3_l.default/208</td><td>▂▂▁▁▁▁▃▄▄▅▅▆▆▆▆▆▆▆▇▇▇▇▇▇████████████████</td></tr><tr><td>param/base_model.model.gpt_neox.layers.3.mlp.dense_h_to_4h.ia3_l.default/209</td><td>██▇▇▆▅▇▁▁▃▃▂▂▃▃▃▃▃▃▃▃▃▂▂▂▃▃▃▃▃▃▃▃▃▃▃▃▃▃▃</td></tr><tr><td>param/base_model.model.gpt_neox.layers.3.mlp.dense_h_to_4h.ia3_l.default/21</td><td>▅▅▅▇▇▇▇▇▇▇███████▇▇▇▆▅▅▅▄▄▃▃▃▃▂▂▂▂▁▁▁▁▁▁</td></tr><tr><td>param/base_model.model.gpt_neox.layers.3.mlp.dense_h_to_4h.ia3_l.default/210</td><td>█▇▇▇▆▆▅▅▄▄▄▄▄▄▄▄▄▃▃▃▂▂▂▁▁▁▁▁▁▁▁▁▁▁▁▁▁▁▁▁</td></tr><tr><td>param/base_model.model.gpt_neox.layers.3.mlp.dense_h_to_4h.ia3_l.default/211</td><td>▇▇▇▆▄▁▁▁▁▂▂▃▄▅▅▅▆▆▆▆█████▇▇▇▇▇▇▇▇▇▇▇▇▇▇▇</td></tr><tr><td>param/base_model.model.gpt_neox.layers.3.mlp.dense_h_to_4h.ia3_l.default/212</td><td>▄▅▅▅█▆▆▅▄▃▂▂▂▂▂▂▁▁▁▁▁▁▁▂▂▃▃▄▄▄▄▄▄▄▄▄▄▅▅▅</td></tr><tr><td>param/base_model.model.gpt_neox.layers.3.mlp.dense_h_to_4h.ia3_l.default/213</td><td>██▇██▂▂▂▃▃▃▄▅▅▆▇▇████▇▆▆▆▅▅▄▄▃▂▂▂▁▁▁▁▁▁▁</td></tr><tr><td>param/base_model.model.gpt_neox.layers.3.mlp.dense_h_to_4h.ia3_l.default/214</td><td>▇▇▇▇▇██▇▇▇▅▅▅▄▄▃▃▂▂▂▂▁▁▁▁▁▁▁▁▁▁▁▁▁▁▁▁▁▁▁</td></tr><tr><td>param/base_model.model.gpt_neox.layers.3.mlp.dense_h_to_4h.ia3_l.default/215</td><td>▇███▇▁▁▁▁▁▁▁▁▁▁▁▁▁▁▁▁▁▁▂▂▃▃▄▄▄▄▄▄▄▄▄▅▅▅▅</td></tr><tr><td>param/base_model.model.gpt_neox.layers.3.mlp.dense_h_to_4h.ia3_l.default/216</td><td>█████▅▆▆▅▅▅▅▅▅▅▅▄▄▄▃▃▃▃▂▂▁▁▁▁▁▁▁▁▁▁▁▁▁▁▁</td></tr><tr><td>param/base_model.model.gpt_neox.layers.3.mlp.dense_h_to_4h.ia3_l.default/217</td><td>▆▃▂▂▁▅▆▅▄▄▅▅▅▂▂▂▂▂▂▂▄▅▅▅▅▆▇▇▇▇██████████</td></tr><tr><td>param/base_model.model.gpt_neox.layers.3.mlp.dense_h_to_4h.ia3_l.default/218</td><td>███▇▆▃▁▂▄▃▁▃▃▂▂▂▂▂▃▃▅▅▅▄▄▄▄▄▄▄▃▃▃▃▃▃▃▃▂▂</td></tr><tr><td>param/base_model.model.gpt_neox.layers.3.mlp.dense_h_to_4h.ia3_l.default/219</td><td>▂▄▄▄▄▄▇███▆▅▄▅▄▄▃▃▂▁▁▁▁▁▁▁▂▂▂▂▂▂▂▂▂▂▂▂▃▃</td></tr><tr><td>param/base_model.model.gpt_neox.layers.3.mlp.dense_h_to_4h.ia3_l.default/22</td><td>▇▇▇▇█▆▆▅▄▄▄▄▃▃▃▂▂▂▂▂▂▂▂▂▂▂▁▁▁▁▂▂▂▂▂▂▂▂▂▂</td></tr><tr><td>param/base_model.model.gpt_neox.layers.3.mlp.dense_h_to_4h.ia3_l.default/220</td><td>▄▄▅▅▅▁▁▃▃▆▄▄▄▆▇██▇▇█▇▆▆▅▅▅▅▅▅▆▆▆▆▆▆▆▆▆▆▆</td></tr><tr><td>param/base_model.model.gpt_neox.layers.3.mlp.dense_h_to_4h.ia3_l.default/221</td><td>▁▁▂▂▃▆▄▅▅▇▇▇▇▇▇▇▇▇▇██████▇▆▆▆▆▅▅▅▅▅▅▅▅▅▅</td></tr><tr><td>param/base_model.model.gpt_neox.layers.3.mlp.dense_h_to_4h.ia3_l.default/222</td><td>▃▃▃▃▃▁▁▂▁▁▂▃▃▃▃▃▃▄▄▄▅▅▅▅▅▆▇▇▇▇██████████</td></tr><tr><td>param/base_model.model.gpt_neox.layers.3.mlp.dense_h_to_4h.ia3_l.default/223</td><td>▄▆▆▅▅▅▅▄▃▂▁▁▂▂▃▅▅▆▆▆▆▆▆▆▆▇▇▇▇▇██████████</td></tr><tr><td>param/base_model.model.gpt_neox.layers.3.mlp.dense_h_to_4h.ia3_l.default/224</td><td>▅▅▆▇▇██▅▂▁▂▂▂▃▄▄▄▄▄▄▄▄▄▄▄▅▆▆▆▇▇▇▇▇██████</td></tr><tr><td>param/base_model.model.gpt_neox.layers.3.mlp.dense_h_to_4h.ia3_l.default/225</td><td>▂▂▂▂▂▁▁▃▃▃▃▃▃▃▃▃▃▃▄▄▆▆▆▆▆▆▆▆▆▇▇▇▇▇▇▇████</td></tr><tr><td>param/base_model.model.gpt_neox.layers.3.mlp.dense_h_to_4h.ia3_l.default/226</td><td>▁▂▂▃▃▃▄██▇▇▇▆▅▅▄▄▄▄▄▄▄▄▄▄▄▄▄▄▅▅▅▅▅▄▄▄▄▄▄</td></tr><tr><td>param/base_model.model.gpt_neox.layers.3.mlp.dense_h_to_4h.ia3_l.default/227</td><td>▃▃▄▄▅▁▂▅▆▆▅▃▃▅▇▇▇███▇▆▅▅▆▅▅▅▅▄▂▂▂▁▁▁▁▁▂▂</td></tr><tr><td>param/base_model.model.gpt_neox.layers.3.mlp.dense_h_to_4h.ia3_l.default/228</td><td>▆▇████▆▅▅▄▄▅▅▄▄▃▂▂▂▂▂▂▂▂▁▁▁▁▁▁▁▁▁▁▁▁▁▁▁▁</td></tr><tr><td>param/base_model.model.gpt_neox.layers.3.mlp.dense_h_to_4h.ia3_l.default/229</td><td>▇▇▇▇▇▇█▇▂▁▂▂▃▃▃▃▃▃▃▃▃▃▄▄▄▂▂▂▂▃▃▃▃▃▃▃▃▃▃▃</td></tr><tr><td>param/base_model.model.gpt_neox.layers.3.mlp.dense_h_to_4h.ia3_l.default/23</td><td>▅▃▃▂▄▆▇██▇▆▅▄▄▄▄▄▃▃▃▃▃▃▃▃▃▂▁▁▁▁▁▁▁▁▁▁▁▁▁</td></tr><tr><td>param/base_model.model.gpt_neox.layers.3.mlp.dense_h_to_4h.ia3_l.default/230</td><td>▃▃▃▃▄▅▄▆▆▆▇█▆▅▅▄▃▃▂▁▁▂▃▃▄▄▄▅▅▅▅▅▅▅▅▆▆▆▆▆</td></tr><tr><td>param/base_model.model.gpt_neox.layers.3.mlp.dense_h_to_4h.ia3_l.default/231</td><td>▇▇▇█▆▅▄▄▄▃▂▂▂▂▂▁▁▁▂▂▁▁▁▁▁▂▂▂▂▂▂▂▂▂▂▂▂▂▂▂</td></tr><tr><td>param/base_model.model.gpt_neox.layers.3.mlp.dense_h_to_4h.ia3_l.default/232</td><td>▆▆▆▆▆▆█▆▄▃▁▁▃▃▃▅▅▆▇▇▇▇▇▆▅▄▅▅▅▅▆▆▆▆▆▆▆▆▇▇</td></tr><tr><td>param/base_model.model.gpt_neox.layers.3.mlp.dense_h_to_4h.ia3_l.default/233</td><td>▁▃▃▂▄▄▅▇▇▇▇▇▇▇▇▇▇███▆▅▅▅▆▅▅▅▅▅▅▅▅▅▅▅▅▅▅▅</td></tr><tr><td>param/base_model.model.gpt_neox.layers.3.mlp.dense_h_to_4h.ia3_l.default/234</td><td>█████▇▇▇▆▆▅▅▄▄▄▃▃▃▃▂▂▂▂▂▂▂▂▂▁▁▁▁▁▁▁▁▁▁▁▁</td></tr><tr><td>param/base_model.model.gpt_neox.layers.3.mlp.dense_h_to_4h.ia3_l.default/235</td><td>▃▄▄▃▃▇██▅▄▄▄▄▆▆▄▄▄▃▃▂▂▂▂▂▂▂▂▂▃▃▃▃▂▂▂▁▁▁▁</td></tr><tr><td>param/base_model.model.gpt_neox.layers.3.mlp.dense_h_to_4h.ia3_l.default/236</td><td>▃▂▁▁▁▂▁▁▂▂▃▃▃▄▄▅▅▅▅▅▆▇▇█████▇▇▇▇▇▇▇▆▆▆▆▆</td></tr><tr><td>param/base_model.model.gpt_neox.layers.3.mlp.dense_h_to_4h.ia3_l.default/237</td><td>▁▂▂▂▂▄▅▅█▇▇████▆▅▄▃▃▃▃▃▄▄▄▄▄▄▄▃▃▃▃▃▃▃▃▃▃</td></tr><tr><td>param/base_model.model.gpt_neox.layers.3.mlp.dense_h_to_4h.ia3_l.default/238</td><td>▅▄▄▅▅████▇▆▆▅▅▅▄▄▄▄▃▃▂▂▁▁▁▁▁▁▁▁▁▁▁▁▁▁▁▁▁</td></tr><tr><td>param/base_model.model.gpt_neox.layers.3.mlp.dense_h_to_4h.ia3_l.default/239</td><td>██▇▇▇▃▂▁▁▁▁▁▁▂▂▂▂▂▂▂▂▂▂▃▃▃▃▃▃▃▃▃▃▃▃▃▃▃▃▃</td></tr><tr><td>param/base_model.model.gpt_neox.layers.3.mlp.dense_h_to_4h.ia3_l.default/24</td><td>▆▅▃▁▃▃▅▆▇██▇▇█▇▇▆▆▅▅▃▁▂▂▂▃▃▃▃▃▃▃▃▃▃▃▃▃▃▃</td></tr><tr><td>param/base_model.model.gpt_neox.layers.3.mlp.dense_h_to_4h.ia3_l.default/240</td><td>▄▄▄▅▄▂▁▃▄▅▇█▅▅▆▅▆▆▅▅▆▆▆▇▇███████████████</td></tr><tr><td>param/base_model.model.gpt_neox.layers.3.mlp.dense_h_to_4h.ia3_l.default/241</td><td>██▇▆▅▁▂▃▃▅▅▆▆▆▆▆▆▆▆▆▆▆▆▆▆▆▆▆▇▇▇▇▇▇▇▇▇▇▇▇</td></tr><tr><td>param/base_model.model.gpt_neox.layers.3.mlp.dense_h_to_4h.ia3_l.default/242</td><td>▂▄▅▄▄▁▄███▇▆▅▅▆▆▆▆▇▇█▇▇▇▇▆▃▃▃▃▃▃▃▃▃▃▃▃▃▃</td></tr><tr><td>param/base_model.model.gpt_neox.layers.3.mlp.dense_h_to_4h.ia3_l.default/243</td><td>▂▂▁▁▁▃▅▄▅▆▇▇███▇▇▇▆▆▇▆▆▅▅▅▅▅▄▄▄▄▄▄▄▄▄▄▄▄</td></tr><tr><td>param/base_model.model.gpt_neox.layers.3.mlp.dense_h_to_4h.ia3_l.default/244</td><td>████▇▇▇▇▆▆▅▆▆▆▅▄▄▄▃▂▂▂▂▂▂▂▁▁▁▁▁▁▁▁▁▁▁▁▁▁</td></tr><tr><td>param/base_model.model.gpt_neox.layers.3.mlp.dense_h_to_4h.ia3_l.default/245</td><td>▁▁▁▁▁▁▂▃▄▄▆▆▆▆▆▆▆▆▆▆▆▇▇▇▇███████████████</td></tr><tr><td>param/base_model.model.gpt_neox.layers.3.mlp.dense_h_to_4h.ia3_l.default/246</td><td>▇▅▅▅▅▅▅█▃▂▁▁▂▃▃▅▅▆▇▇▇▇▇▇█▇▇▇▇▇▇▇▇▇██████</td></tr><tr><td>param/base_model.model.gpt_neox.layers.3.mlp.dense_h_to_4h.ia3_l.default/247</td><td>▄▅▆▇▇▁▁▄▄▄▆▅▅▇▇██▇▇▅▄▄▃▃▃▅▆▆▆▆██████████</td></tr><tr><td>param/base_model.model.gpt_neox.layers.3.mlp.dense_h_to_4h.ia3_l.default/248</td><td>▇██▆▅▅▄▄▄▄▃▃▃▃▃▃▃▃▃▃▃▂▂▂▂▂▁▁▁▁▁▁▁▁▁▁▁▁▁▁</td></tr><tr><td>param/base_model.model.gpt_neox.layers.3.mlp.dense_h_to_4h.ia3_l.default/249</td><td>██▇▇▇▃▃▃▃▃▂▂▃▃▃▃▃▂▂▂▂▂▂▂▂▂▂▂▂▁▁▁▁▁▁▁▁▁▁▁</td></tr><tr><td>param/base_model.model.gpt_neox.layers.3.mlp.dense_h_to_4h.ia3_l.default/25</td><td>▆▆▅█▇▆▆▆▆▆▇▇▆▆▆▆▆▅▅▅▅▅▅▅▅▅▅▅▄▄▃▃▃▃▂▁▁▁▁▁</td></tr><tr><td>param/base_model.model.gpt_neox.layers.3.mlp.dense_h_to_4h.ia3_l.default/250</td><td>███▇▇▅▃▂▁▁▁▁▁▁▁▂▂▂▃▃▄▄▄▅▅▆▆▆▆▆▇▇▇▇▇▇▇▇██</td></tr><tr><td>param/base_model.model.gpt_neox.layers.3.mlp.dense_h_to_4h.ia3_l.default/251</td><td>▂▃▃▃▄▄▃▁▂▂▂▂▂▂▂▃▃▃▄▅▆▆▇▇▇███████████████</td></tr><tr><td>param/base_model.model.gpt_neox.layers.3.mlp.dense_h_to_4h.ia3_l.default/252</td><td>▅▅▅▅▄▂▁▂▂▃▆▇▇▇▇▇▇▇▇█████████████████████</td></tr><tr><td>param/base_model.model.gpt_neox.layers.3.mlp.dense_h_to_4h.ia3_l.default/253</td><td>█▇▇▆▅▁▂▃▃▃▃▃▃▃▃▃▃▃▃▄▄▄▅▅▅▅▅▅▆▆▆▆▆▆▆▆▇▇▇▇</td></tr><tr><td>param/base_model.model.gpt_neox.layers.3.mlp.dense_h_to_4h.ia3_l.default/254</td><td>█▇▇▇▂▁▁▂▂▃▃▃▃▄▄▄▄▄▄▄▃▃▃▃▃▄▄▅▅▅▅▅▅▅▆▆▆▆▆▆</td></tr><tr><td>param/base_model.model.gpt_neox.layers.3.mlp.dense_h_to_4h.ia3_l.default/255</td><td>██▇▁▁▁▂▂▂▂▃▃▂▂▂▁▁▂▂▂▂▂▂▂▂▂▂▂▂▂▂▂▂▂▂▂▂▃▃▃</td></tr><tr><td>param/base_model.model.gpt_neox.layers.3.mlp.dense_h_to_4h.ia3_l.default/256</td><td>██▇▇▆▁▂▃▃▃▄▄▃▄▄▅▅▅▅▅▆▇▇▇▇██▆▆▆▆▆▆▆▆▆▆▆▆▆</td></tr><tr><td>param/base_model.model.gpt_neox.layers.3.mlp.dense_h_to_4h.ia3_l.default/257</td><td>▅▅▅▅▁▂▃▄▄▄▄▅▆▆▇█████▇▇▇▇▇▆▆▆▆▇▇▆▇▇▇▇▇▇▇▇</td></tr><tr><td>param/base_model.model.gpt_neox.layers.3.mlp.dense_h_to_4h.ia3_l.default/258</td><td>▇▇▇█▄▃▄▄▄▅▆▅▅▅▅▅▅▄▄▃▃▃▃▃▃▃▂▂▂▂▂▂▁▁▁▁▁▁▁▁</td></tr><tr><td>param/base_model.model.gpt_neox.layers.3.mlp.dense_h_to_4h.ia3_l.default/259</td><td>▃▁▂▄█▆▅▄▃▃▃▃▄▄▅▆▇▇██▇▇▇▇▆▆▆▆▅▅▅▅▅▅▅▅▅▅▅▄</td></tr><tr><td>param/base_model.model.gpt_neox.layers.3.mlp.dense_h_to_4h.ia3_l.default/26</td><td>▄▃▂▂▂▂▁▂▂▂▁▂▂▃▄▄▄▄▄▄▄▄▇████████████████▇</td></tr><tr><td>param/base_model.model.gpt_neox.layers.3.mlp.dense_h_to_4h.ia3_l.default/260</td><td>▄▄▄▃▂▁▆▇█▆▇▇▅▄▄▃▃▃▂▃▂▂▂▁▁▁▁▂▂▂▁▁▁▁▂▂▁▁▂▂</td></tr><tr><td>param/base_model.model.gpt_neox.layers.3.mlp.dense_h_to_4h.ia3_l.default/261</td><td>█▇▇▇▇▄▆▅▅▂▅▅▅▅▅▃▃▂▂▁▂▂▂▂▁▁▁▁▁▁▁▁▁▂▂▂▂▂▂▂</td></tr><tr><td>param/base_model.model.gpt_neox.layers.3.mlp.dense_h_to_4h.ia3_l.default/262</td><td>▅▅▆▆▇▇██▄▄▂▂▂▂▂▁▁▁▁▂▁▂▂▁▁▂▂▁▁▁▁▁▂▂▂▂▂▂▂▂</td></tr><tr><td>param/base_model.model.gpt_neox.layers.3.mlp.dense_h_to_4h.ia3_l.default/263</td><td>▆▇▇▇▇▄▆██▆▅▄▅▅▆▇▇▇▅▅▃▃▂▂▂▂▂▁▁▁▁▁▁▁▁▁▁▁▁▁</td></tr><tr><td>param/base_model.model.gpt_neox.layers.3.mlp.dense_h_to_4h.ia3_l.default/264</td><td>████▇▇▇▇▇▆▅▅▅▅▅▅▅▅▅▄▃▃▃▃▃▃▂▂▂▁▁▁▁▁▁▁▁▁▁▁</td></tr><tr><td>param/base_model.model.gpt_neox.layers.3.mlp.dense_h_to_4h.ia3_l.default/265</td><td>████▄▅▅▅▅▅▅▅▅▅▅▅▅▅▄▄▃▃▃▃▂▂▂▂▂▂▁▁▁▁▁▁▁▁▁▁</td></tr><tr><td>param/base_model.model.gpt_neox.layers.3.mlp.dense_h_to_4h.ia3_l.default/266</td><td>▇▄▃▃▂▃▃▃▁▁▄▄▄▄▄▄▄▄▄▄▄▅▆▆▆▇▇▇▇▇██████████</td></tr><tr><td>param/base_model.model.gpt_neox.layers.3.mlp.dense_h_to_4h.ia3_l.default/267</td><td>▆▆▆▅▆▇▇▇▇█████████▇▇▇▆▆▅▃▃▂▂▂▁▁▁▁▁▁▁▁▁▁▁</td></tr><tr><td>param/base_model.model.gpt_neox.layers.3.mlp.dense_h_to_4h.ia3_l.default/268</td><td>██▆▄▁▂▃▄▄▄▅▆▆▆▆▆▅▄▃▃▃▃▃▃▃▂▂▂▂▂▂▂▂▂▃▃▃▃▃▃</td></tr><tr><td>param/base_model.model.gpt_neox.layers.3.mlp.dense_h_to_4h.ia3_l.default/269</td><td>█▇▇▇▇▄▃▂▁▁▁▁▁▁▁▂▂▁▁▁▁▂▂▂▂▃▃▄▄▄▄▄▄▄▄▅▅▅▅▅</td></tr><tr><td>param/base_model.model.gpt_neox.layers.3.mlp.dense_h_to_4h.ia3_l.default/27</td><td>█▄▃▁█▄▄▃▃▂▃▄▅▅▅▅▅▅▄▄▅▅▅▅▇▇▇▇▇▇▇██▇▇▇████</td></tr><tr><td>param/base_model.model.gpt_neox.layers.3.mlp.dense_h_to_4h.ia3_l.default/270</td><td>▅▆███▂▁▂▃▃▂▂▃▃▃▄▄▅▅▅▅▅▄▄▄▄▄▄▄▄▄▅▄▅▅▅▅▅▅▅</td></tr><tr><td>param/base_model.model.gpt_neox.layers.3.mlp.dense_h_to_4h.ia3_l.default/271</td><td>▁▂▂▂█▇▆▆▆▆▅▅▅▃▃▃▃▃▃▃▃▃▃▃▃▃▃▃▃▂▃▂▂▂▂▂▂▂▂▂</td></tr><tr><td>param/base_model.model.gpt_neox.layers.3.mlp.dense_h_to_4h.ia3_l.default/272</td><td>▅▅▅▅█▅▃▃▁▁▂▄▄▅▆▆▆▆▅▅▆▇▇████▇▇▇▆▆▆▆▆▆▆▆▅▅</td></tr><tr><td>param/base_model.model.gpt_neox.layers.3.mlp.dense_h_to_4h.ia3_l.default/273</td><td>▄▅▅▅▆▆▆▆█▇▅▄▃▃▂▁▁▁▁▁▁▁▂▂▂▂▃▃▃▃▃▃▃▃▃▃▃▃▃▃</td></tr><tr><td>param/base_model.model.gpt_neox.layers.3.mlp.dense_h_to_4h.ia3_l.default/274</td><td>▆▆▆▅▃▁▆▇▅▅▄▅▆▆▆▆▆▆▆▆▆▆▆▇▆▇▇▇▇▇▇▇▇███████</td></tr><tr><td>param/base_model.model.gpt_neox.layers.3.mlp.dense_h_to_4h.ia3_l.default/275</td><td>█▇▇▆▆▆▄▁▂▃▆▆▆▆▅▅▅▅▄▃▂▂▂▂▁▁▁▁▁▁▂▂▂▂▂▂▂▂▂▂</td></tr><tr><td>param/base_model.model.gpt_neox.layers.3.mlp.dense_h_to_4h.ia3_l.default/276</td><td>▇████▇▃▁▁▁▂▂▃▃▃▃▃▃▃▃▃▃▃▃▃▃▃▃▃▃▃▃▃▃▃▃▃▃▃▃</td></tr><tr><td>param/base_model.model.gpt_neox.layers.3.mlp.dense_h_to_4h.ia3_l.default/277</td><td>▅▄▄▄▄▁▃▃▄▄▅▅▅▆▆▇▇▇▇▇████████████████████</td></tr><tr><td>param/base_model.model.gpt_neox.layers.3.mlp.dense_h_to_4h.ia3_l.default/278</td><td>▇███▇▄▃▃▃▃▂▂▂▂▁▁▁▁▂▂▁▁▁▁▁▁▂▂▂▂▂▂▂▂▂▂▂▂▂▃</td></tr><tr><td>param/base_model.model.gpt_neox.layers.3.mlp.dense_h_to_4h.ia3_l.default/279</td><td>▇▇▇██▆▅▆▆▆▆▅▅▅▅▄▄▃▃▂▂▂▂▁▁▁▁▂▁▁▁▁▁▁▁▁▁▁▁▁</td></tr><tr><td>param/base_model.model.gpt_neox.layers.3.mlp.dense_h_to_4h.ia3_l.default/28</td><td>▄▃▃▃▃▃▄▅██▄▄▄▄▄▄▄▄▅▅▅▅▅▄▄▄▃▃▃▃▂▂▂▂▂▁▁▁▁▁</td></tr><tr><td>param/base_model.model.gpt_neox.layers.3.mlp.dense_h_to_4h.ia3_l.default/280</td><td>▂▂▁▁▁▂▂▃▃▃▄▄▄▄▄▅▅▅▅▅▆▆▆▆▇███████████████</td></tr><tr><td>param/base_model.model.gpt_neox.layers.3.mlp.dense_h_to_4h.ia3_l.default/281</td><td>█▇▄▃▂▁▂▂▂▂▃▄▄▅▅▅▄▃▃▃▃▃▃▃▃▃▂▃▂▂▂▂▂▂▂▁▁▁▁▁</td></tr><tr><td>param/base_model.model.gpt_neox.layers.3.mlp.dense_h_to_4h.ia3_l.default/282</td><td>▆▆▇▇▄▂▁▂▂▂▃▄▄▄▅▆██████▇▇▇▇▆▆▆▆▆▆▆▆▆▆▆▇▇▇</td></tr><tr><td>param/base_model.model.gpt_neox.layers.3.mlp.dense_h_to_4h.ia3_l.default/283</td><td>▅▅▅▅▄▃▂▆▅▇▇▇▆▅▅████▇▅▄▃▄▄▅▅▄▄▂▁▁▁▁▁▁▁▁▁▁</td></tr><tr><td>param/base_model.model.gpt_neox.layers.3.mlp.dense_h_to_4h.ia3_l.default/284</td><td>██▇▇█▄▅▅▄▃▂▁▃▃▄▄▄▄▄▃▁▁▁▁▁▂▂▂▃▅▅▅▅▆▆▆▆▆▆▆</td></tr><tr><td>param/base_model.model.gpt_neox.layers.3.mlp.dense_h_to_4h.ia3_l.default/285</td><td>▆▆▆▅▆▆▇██▇▅▅▅▅▅▅▅▅▅▅▅▅▄▄▄▄▃▃▃▂▁▁▁▁▁▁▁▂▂▂</td></tr><tr><td>param/base_model.model.gpt_neox.layers.3.mlp.dense_h_to_4h.ia3_l.default/286</td><td>▃▃▃▂▁▅▅▅▆▆▇▇▆▆▇████▇▇▆▆▅▅▅▄▄▄▄▃▃▃▃▃▃▃▃▃▃</td></tr><tr><td>param/base_model.model.gpt_neox.layers.3.mlp.dense_h_to_4h.ia3_l.default/287</td><td>▄▃▃▂▁▄▃▅▄▄▆████▇▇▆▆▆▆▅▅▄▄▂▂▂▂▂▂▂▂▂▂▂▂▂▂▁</td></tr><tr><td>param/base_model.model.gpt_neox.layers.3.mlp.dense_h_to_4h.ia3_l.default/288</td><td>▇▇▇▇▇▇█▅▅▄▃▂▂▂▁▁▁▁▁▁▁▁▁▁▁▁▁▁▁▁▂▂▂▂▂▂▂▂▂▂</td></tr><tr><td>param/base_model.model.gpt_neox.layers.3.mlp.dense_h_to_4h.ia3_l.default/289</td><td>██▇▇▇▄▄▄▃▂▁▁▁▂▂▂▃▄▅▅▆▆▇▇▇▇▇█████████████</td></tr><tr><td>param/base_model.model.gpt_neox.layers.3.mlp.dense_h_to_4h.ia3_l.default/29</td><td>██▄▄▄▃▃▃▃▃▂▂▂▂▂▂▂▂▁▁▁▁▁▁▁▁▁▁▁▁▁▁▁▁▁▁▁▁▁▁</td></tr><tr><td>param/base_model.model.gpt_neox.layers.3.mlp.dense_h_to_4h.ia3_l.default/290</td><td>███▇▇▃▁▁▂▂▂▂▂▂▂▃▃▃▃▃▃▄▄▄▄▅▅▅▆▆▆▆▆▆▆▇▇▇▇▇</td></tr><tr><td>param/base_model.model.gpt_neox.layers.3.mlp.dense_h_to_4h.ia3_l.default/291</td><td>▁▃▃▃▄▄▅▅▅▄▅▅▄▄▃▄▄▅▅▆▇███▇▆▆▅▅▅▃▂▂▂▁▂▂▂▂▂</td></tr><tr><td>param/base_model.model.gpt_neox.layers.3.mlp.dense_h_to_4h.ia3_l.default/292</td><td>▁▂▂▂▂▄▂▁▁▂▄▅▆▆▇▇████▇▇▇▇▇▆▅▅▅▅▆▆▆▆▆▆▆▆▆▆</td></tr><tr><td>param/base_model.model.gpt_neox.layers.3.mlp.dense_h_to_4h.ia3_l.default/293</td><td>▃▂▃▃▃▁▃▃▄▄▂▂▂▂▃▄▄▅▅▇███▇▇▇▇▇▇▅▅▅▅▅▅▅▅▅▅▄</td></tr><tr><td>param/base_model.model.gpt_neox.layers.3.mlp.dense_h_to_4h.ia3_l.default/294</td><td>▇▇▇▆▇▇▄▅▆▇▇▇▇███████▇▇▆▅▅▅▄▃▂▁▁▁▁▁▁▁▁▁▁▁</td></tr><tr><td>param/base_model.model.gpt_neox.layers.3.mlp.dense_h_to_4h.ia3_l.default/295</td><td>██▄▃▂▂▂▂▂▂▁▁▁▁▁▂▃▃▃▃▄▄▄▅▅▅▄▄▄▄▄▄▄▄▄▄▄▄▄▄</td></tr><tr><td>param/base_model.model.gpt_neox.layers.3.mlp.dense_h_to_4h.ia3_l.default/296</td><td>▁▁▁▁▂▅█▆▆▅▄▄▄▄▄▃▃▄▄▄▃▃▃▃▃▃▄▄▄▄▄▄▄▄▄▄▄▄▄▄</td></tr><tr><td>param/base_model.model.gpt_neox.layers.3.mlp.dense_h_to_4h.ia3_l.default/297</td><td>▅▅▅▅▅▁▃▃▅▆▇▇███████▆▆▅▅▅▅▅▅▅▅▅▅▅▅▅▅▅▅▅▅▅</td></tr><tr><td>param/base_model.model.gpt_neox.layers.3.mlp.dense_h_to_4h.ia3_l.default/298</td><td>▁▂▂▃▄█▇▇▇▇▇▇▇▇▇▇▇▇▇▇▇▇▇▇▇▇▇▇▇▇▇▇▇▇▇▇▇▇▇▇</td></tr><tr><td>param/base_model.model.gpt_neox.layers.3.mlp.dense_h_to_4h.ia3_l.default/299</td><td>██▇▇▇▅▄▄▄▅▅▆▆▆▆▅▅▅▄▄▃▃▃▃▃▃▂▂▂▂▂▂▂▂▂▁▁▁▁▁</td></tr><tr><td>param/base_model.model.gpt_neox.layers.3.mlp.dense_h_to_4h.ia3_l.default/3</td><td>█████▆▅▅▄▃▃▃▃▃▂▂▂▁▁▁▁▁▁▂▂▂▂▂▂▂▂▂▂▂▂▂▂▂▂▂</td></tr><tr><td>param/base_model.model.gpt_neox.layers.3.mlp.dense_h_to_4h.ia3_l.default/30</td><td>▇██▇▆▂▂▂▁▁▁▁▁▁▁▁▁▁▁▂▂▂▂▂▁▁▁▁▁▁▁▁▁▁▁▂▂▂▂▂</td></tr><tr><td>param/base_model.model.gpt_neox.layers.3.mlp.dense_h_to_4h.ia3_l.default/300</td><td>▄▅▅█▇██▇▇▇▇▅▄▄▃▂▂▂▃▃▄▃▃▂▂▁▁▁▁▂▂▂▂▂▂▂▂▂▂▁</td></tr><tr><td>param/base_model.model.gpt_neox.layers.3.mlp.dense_h_to_4h.ia3_l.default/301</td><td>▂▁▁▃█▇▆▄▃▃▃▂▂▂▃▄▃▃▂▁▂▃▂▂▂▃▃▃▃▃▂▂▂▂▂▂▂▂▁▁</td></tr><tr><td>param/base_model.model.gpt_neox.layers.3.mlp.dense_h_to_4h.ia3_l.default/302</td><td>████████▆▅▃▃▃▂▂▁▁▁▁▁▂▂▂▂▂▃▃▂▃▃▂▂▂▂▂▂▃▃▃▃</td></tr><tr><td>param/base_model.model.gpt_neox.layers.3.mlp.dense_h_to_4h.ia3_l.default/303</td><td>▂▂▁▁▁█████▇▇▇▆▆▅▄▄▄▄▃▃▂▂▂▂▂▂▂▂▂▂▂▂▂▂▂▂▂▂</td></tr><tr><td>param/base_model.model.gpt_neox.layers.3.mlp.dense_h_to_4h.ia3_l.default/304</td><td>█▇▆▆▅▄▄▃▃▂▁▁▁▁▁▁▂▂▂▂▃▃▃▃▃▄▄▄▄▄▄▄▄▄▄▄▄▄▄▄</td></tr><tr><td>param/base_model.model.gpt_neox.layers.3.mlp.dense_h_to_4h.ia3_l.default/305</td><td>█████▁▄▄▅▅▄▄▄▄▄▄▄▄▄▅▄▅▅▅▆▅▅▅▅▅▆▆▆▅▅▅▅▅▅▅</td></tr><tr><td>param/base_model.model.gpt_neox.layers.3.mlp.dense_h_to_4h.ia3_l.default/306</td><td>██▇▇▆▃▂▁▁▂▁▁▂▂▂▂▃▃▄▄▄▄▅▅▄▅▅▄▄▄▄▄▄▅▅▅▅▅▅▅</td></tr><tr><td>param/base_model.model.gpt_neox.layers.3.mlp.dense_h_to_4h.ia3_l.default/307</td><td>▅▆▇▇▇▇▃▃▅▆█▇▇▆▆▆▆▆▆▅▃▂▂▁▁▁▁▁▁▁▁▁▁▁▁▁▁▁▁▁</td></tr><tr><td>param/base_model.model.gpt_neox.layers.3.mlp.dense_h_to_4h.ia3_l.default/308</td><td>█▇▆▆▅▅▄▄▃▂▂▃▃▃▃▃▃▃▃▃▂▂▁▁▁▁▁▂▂▂▂▂▂▂▃▃▃▃▃▃</td></tr><tr><td>param/base_model.model.gpt_neox.layers.3.mlp.dense_h_to_4h.ia3_l.default/309</td><td>▂▂▃▁▂▆▇▇▇▇▇██████▇▆▆▆▆▆▆▆▆▆▆▆▆▆▆▆▆▆▆▆▆▆▆</td></tr><tr><td>param/base_model.model.gpt_neox.layers.3.mlp.dense_h_to_4h.ia3_l.default/31</td><td>▄▄▅▅▇▁▁▁▂▃▄▅▅▅▅▅▅▅▅▄▄▄▆▆▇▇▇▇████████████</td></tr><tr><td>param/base_model.model.gpt_neox.layers.3.mlp.dense_h_to_4h.ia3_l.default/310</td><td>▄▅▅▅▆▆▇▅▂▂▁▂▂▃▃▃▃▃▃▃▃▆▇▇▇██▇▇▇▆▆▆▆▆▆▆▆▆▆</td></tr><tr><td>param/base_model.model.gpt_neox.layers.3.mlp.dense_h_to_4h.ia3_l.default/311</td><td>▄▃▃▂▂▁▃▅▅▆▆▆▆▆▆▆▆▅▅▅▆▆▅▅▆███████████████</td></tr><tr><td>param/base_model.model.gpt_neox.layers.3.mlp.dense_h_to_4h.ia3_l.default/312</td><td>▇▇▇▇█▇▇▇▇▆▅▄▄▄▃▃▂▂▂▂▃▃▂▂▂▂▂▂▂▂▂▁▁▁▁▁▁▁▁▁</td></tr><tr><td>param/base_model.model.gpt_neox.layers.3.mlp.dense_h_to_4h.ia3_l.default/313</td><td>█▅▄▅▁▁▂▃▃▂▁▁▂▂▂▂▂▂▃▄▇██▇▇▇▇▇▇█▇████▇▇▇▇▇</td></tr><tr><td>param/base_model.model.gpt_neox.layers.3.mlp.dense_h_to_4h.ia3_l.default/314</td><td>▃▅▆▆▆▁▁▁▂▂▄▅▇██▆▇▇▇▇▆▆▅▅▅▄▄▂▂▂▂▂▂▂▂▂▂▂▁▁</td></tr><tr><td>param/base_model.model.gpt_neox.layers.3.mlp.dense_h_to_4h.ia3_l.default/315</td><td>██▇▇▅▁▂▂▂▂▂▂▂▂▂▂▃▃▄▄▅▅▅▆▆▆▆▆▆▆▆▆▆▆▆▆▆▆▆▆</td></tr><tr><td>param/base_model.model.gpt_neox.layers.3.mlp.dense_h_to_4h.ia3_l.default/316</td><td>███▇▄▂▃▃▃▄▄▅▅▄▄▄▃▃▂▂▂▂▂▂▂▂▂▂▂▂▁▁▁▁▁▁▁▁▁▁</td></tr><tr><td>param/base_model.model.gpt_neox.layers.3.mlp.dense_h_to_4h.ia3_l.default/317</td><td>█▅▅▂▂▁▂▃▄▄▃▃▂▂▁▁▁▁▂▃▄▄▄▄▄▅▆▆▆█████▇▇▇▇▇█</td></tr><tr><td>param/base_model.model.gpt_neox.layers.3.mlp.dense_h_to_4h.ia3_l.default/318</td><td>▆▇▇██▆▆▆▅▄▃▃▃▃▃▂▂▂▂▂▃▃▃▃▃▂▂▂▁▁▁▁▁▁▁▁▁▁▁▁</td></tr><tr><td>param/base_model.model.gpt_neox.layers.3.mlp.dense_h_to_4h.ia3_l.default/319</td><td>▆▇▇██▆▂▁▁▂▁▁▁▂▂▂▂▃▃▄▃▃▃▃▄▄▄▄▄▄▄▄▄▄▄▄▄▄▄▄</td></tr><tr><td>param/base_model.model.gpt_neox.layers.3.mlp.dense_h_to_4h.ia3_l.default/32</td><td>▇▇▆▆▄▂▂▁▁▁▂▅▅▅▅▅▆▆▆▅▅▆▆▆▆▇▇█████████████</td></tr><tr><td>param/base_model.model.gpt_neox.layers.3.mlp.dense_h_to_4h.ia3_l.default/320</td><td>▁▁▂▂▃▇▇▇▇▇▇▆▆▆▆▆▅▅▆▇▇▇▇▇▇▇▇▇▇███████████</td></tr><tr><td>param/base_model.model.gpt_neox.layers.3.mlp.dense_h_to_4h.ia3_l.default/321</td><td>▁▁▁▂▂▇█▇▇▆▅▆▆▆▆▄▄▄▄▃▂▂▂▃▃▃▃▄▄▄▄▄▄▅▅▅▅▅▅▅</td></tr><tr><td>param/base_model.model.gpt_neox.layers.3.mlp.dense_h_to_4h.ia3_l.default/322</td><td>█▇▇▆▅▅▃▁▁▁▁▁▁▁▁▁▁▂▂▂▃▂▂▂▂▂▂▃▃▃▃▃▃▃▃▃▃▃▃▃</td></tr><tr><td>param/base_model.model.gpt_neox.layers.3.mlp.dense_h_to_4h.ia3_l.default/323</td><td>▄▃▃▃▄▅████▅▅▅▄▄▄▄▃▃▁▁▁▁▁▂▂▁▁▂▁▁▁▁▁▁▁▁▁▁▁</td></tr><tr><td>param/base_model.model.gpt_neox.layers.3.mlp.dense_h_to_4h.ia3_l.default/324</td><td>▁▂▁▄▅▆▆▆▅▆▇████▇▇▇▇▆▇▇█████▇▆▅▅▅▄▄▃▃▃▃▂▂</td></tr><tr><td>param/base_model.model.gpt_neox.layers.3.mlp.dense_h_to_4h.ia3_l.default/325</td><td>▇▆▅▃▁▆▇█▇▇▅▃▃▃▃▃▄▄▄▄▄▄▃▄▄▃▂▂▂▁▁▁▁▁▁▁▂▂▂▂</td></tr><tr><td>param/base_model.model.gpt_neox.layers.3.mlp.dense_h_to_4h.ia3_l.default/326</td><td>▇████▇▆▅▅▅▃▂▁▂▃▃▃▃▃▂▁▁▁▁▁▁▂▂▂▂▂▂▂▁▁▁▁▂▂▂</td></tr><tr><td>param/base_model.model.gpt_neox.layers.3.mlp.dense_h_to_4h.ia3_l.default/327</td><td>███▄▃▂▂▂▂▃▃▃▃▃▃▃▃▃▂▁▁▁▁▂▂▂▂▂▂▂▂▂▂▂▂▂▂▂▂▂</td></tr><tr><td>param/base_model.model.gpt_neox.layers.3.mlp.dense_h_to_4h.ia3_l.default/328</td><td>▆▅▅▅▄▅▅▆▅▅▅▆▆▆▆▇▇██▇▅▅▅▅▄▃▃▃▃▃▂▂▂▂▂▁▁▁▁▁</td></tr><tr><td>param/base_model.model.gpt_neox.layers.3.mlp.dense_h_to_4h.ia3_l.default/329</td><td>▃▄▅▄▄▄▄▅▆▇▇▅▃▁▁▂▃▃▂▁▅▆▆▇▇███████████████</td></tr><tr><td>param/base_model.model.gpt_neox.layers.3.mlp.dense_h_to_4h.ia3_l.default/33</td><td>▁▃▄▅▅▆▆▆▇██▇▇▇▇▅▄▄▃▃▃▃▃▃▃▃▄▄▄▅▅▅▆▆▆▆▆▆▇▇</td></tr><tr><td>param/base_model.model.gpt_neox.layers.3.mlp.dense_h_to_4h.ia3_l.default/330</td><td>█▇▇▆▆▆▆▆▆▃▁▁▁▂▃▃▃▃▃▃▃▃▃▃▃▃▃▃▃▄▄▄▄▄▄▄▄▄▄▄</td></tr><tr><td>param/base_model.model.gpt_neox.layers.3.mlp.dense_h_to_4h.ia3_l.default/331</td><td>▆▇▇▇▆▇█▇▅▅▇▆▆▆▆▆▆▅▅▅▃▄▄▄▄▂▂▂▂▂▂▂▂▂▁▁▁▁▁▁</td></tr><tr><td>param/base_model.model.gpt_neox.layers.3.mlp.dense_h_to_4h.ia3_l.default/332</td><td>█▇▅▁▁▂▃▄▃▃▄▄▃▂▂▁▁▁▁▂▂▂▂▃▃▄▄▄▄▄▄▄▄▄▄▄▃▃▃▃</td></tr><tr><td>param/base_model.model.gpt_neox.layers.3.mlp.dense_h_to_4h.ia3_l.default/333</td><td>▃▂▃▃▃▁▁▁▁▂▁▁▁▁▁▂▁▁▂▂▃▃▄▅▅▇▇▇▇▇▇▇████████</td></tr><tr><td>param/base_model.model.gpt_neox.layers.3.mlp.dense_h_to_4h.ia3_l.default/334</td><td>██▇▇▇▇▇▆▆▆▅▅▅▄▄▄▄▄▄▄▃▃▃▃▃▃▂▂▂▂▂▁▁▁▁▁▁▁▁▁</td></tr><tr><td>param/base_model.model.gpt_neox.layers.3.mlp.dense_h_to_4h.ia3_l.default/335</td><td>▃▂▂▄█▇▆▆▆▆▆▅▅▅▄▄▃▂▂▂▂▂▁▂▂▁▁▁▁▁▁▁▁▁▁▁▁▁▁▁</td></tr><tr><td>param/base_model.model.gpt_neox.layers.3.mlp.dense_h_to_4h.ia3_l.default/336</td><td>▅▅▅▅▃▂▁▄▇█▇▅▅▄▄▄▄▄▃▃▃▃▃▄▄▄▅▅▅▅▅▅▅▆▅▆▆▆▆▆</td></tr><tr><td>param/base_model.model.gpt_neox.layers.3.mlp.dense_h_to_4h.ia3_l.default/337</td><td>▁▄▅█▇█▅▄▃▄▆▇▇▇▇▆▆▅▄▃▂▂▁▁▁▂▂▂▂▂▃▃▃▃▃▃▃▃▃▃</td></tr><tr><td>param/base_model.model.gpt_neox.layers.3.mlp.dense_h_to_4h.ia3_l.default/338</td><td>▄▃▁▃▅▆▇▇▇▇▇▇▇▇▇█████████▇▇▇▇▇▇▇▇▇▇▇▇▇▇▇▇</td></tr><tr><td>param/base_model.model.gpt_neox.layers.3.mlp.dense_h_to_4h.ia3_l.default/339</td><td>▃▂▁▅█▆▅▄▄▃▃▃▃▃▃▄▄▄▄▄▄▄▄▄▄▄▄▅▅▅▅▅▅▅▆▆▆▆▆▆</td></tr><tr><td>param/base_model.model.gpt_neox.layers.3.mlp.dense_h_to_4h.ia3_l.default/34</td><td>█▇▇██▃▂▃▂▁▂▁▂▃▃▄▆▆▆▆▅▅▅▄▄▃▃▂▂▂▂▂▂▂▂▂▂▂▂▂</td></tr><tr><td>param/base_model.model.gpt_neox.layers.3.mlp.dense_h_to_4h.ia3_l.default/340</td><td>▁▂▂▁▃▅▅▅▅▅▅▆▆▆▆▆▆▆▆▆▇▇▇▇▇▇▇▇▇▇▇▇████████</td></tr><tr><td>param/base_model.model.gpt_neox.layers.3.mlp.dense_h_to_4h.ia3_l.default/341</td><td>▇▇▇██▇▅▂▂▂▂▂▃▃▂▂▂▃▃▃▂▁▁▁▁▁▂▂▂▂▂▂▁▁▁▁▁▁▁▁</td></tr><tr><td>param/base_model.model.gpt_neox.layers.3.mlp.dense_h_to_4h.ia3_l.default/342</td><td>▅▄▄▄▄█▇▆▅▅▃▃▃▃▃▂▂▂▂▂▁▂▂▂▂▂▂▃▃▃▃▃▃▃▃▃▃▃▃▃</td></tr><tr><td>param/base_model.model.gpt_neox.layers.3.mlp.dense_h_to_4h.ia3_l.default/343</td><td>▇█████▆▄▄▃▃▂▂▂▂▂▂▂▂▂▂▂▂▁▁▁▁▁▁▁▁▁▂▂▂▂▂▂▂▂</td></tr><tr><td>param/base_model.model.gpt_neox.layers.3.mlp.dense_h_to_4h.ia3_l.default/344</td><td>▇▇█▁▂▄▅▅▄▄▅▅▅▄▄▄▄▅▆▇▆▆▆▆▇▆▅▅▆▅▅▅▅▆▆▆▆▆▆▆</td></tr><tr><td>param/base_model.model.gpt_neox.layers.3.mlp.dense_h_to_4h.ia3_l.default/345</td><td>▁▁▁▁▁▄▇▇▆▇▇▇████▇▇▇▇▆▆▆▆▆▆▅▅▅▅▅▅▅▅▅▅▅▅▅▅</td></tr><tr><td>param/base_model.model.gpt_neox.layers.3.mlp.dense_h_to_4h.ia3_l.default/346</td><td>▆▇▇▇█▆▆▆▇▇▇██▆▅▅▄▃▁▁▁▁▁▂▂▂▂▂▂▂▂▂▂▂▂▂▂▂▃▃</td></tr><tr><td>param/base_model.model.gpt_neox.layers.3.mlp.dense_h_to_4h.ia3_l.default/347</td><td>▇▆▇▇█▃▃▃▃▃▂▄▅▇▅▃▃▂▁▁▁▁▂▂▂▃▃▄▄▄▄▄▅▅▅▅▅▅▅▅</td></tr><tr><td>param/base_model.model.gpt_neox.layers.3.mlp.dense_h_to_4h.ia3_l.default/348</td><td>██▇▇█▄▃▃▃▂▂▂▂▂▂▂▂▁▁▁▁▁▁▁▁▁▁▁▁▁▁▁▁▁▁▂▂▂▂▂</td></tr><tr><td>param/base_model.model.gpt_neox.layers.3.mlp.dense_h_to_4h.ia3_l.default/349</td><td>▄▅▅█▆▅▄▄▅▄▃▂▁▁▁▁▁▁▂▂▃▃▄▄▄▅▅▅▅▅▅▅▅▅▅▅▅▅▅▅</td></tr><tr><td>param/base_model.model.gpt_neox.layers.3.mlp.dense_h_to_4h.ia3_l.default/35</td><td>▁▂▃▃▃▆▆▇▇███▇▅▄▄▄▄▄▄▄▄▃▃▃▃▃▃▃▃▃▃▃▃▃▃▃▃▃▃</td></tr><tr><td>param/base_model.model.gpt_neox.layers.3.mlp.dense_h_to_4h.ia3_l.default/350</td><td>▃▃▃▂▂▁▃▄▄▄▅▅▆▆▆▆▆▆▆▆▇████▇▇▇▇▇▇▇▇▇▇▇▇▇▇▇</td></tr><tr><td>param/base_model.model.gpt_neox.layers.3.mlp.dense_h_to_4h.ia3_l.default/351</td><td>▄▃▂▁▁▁▆▆█▇▆▆▆▆▅▇▆▆▆▇█▇▇▅▅▅▄▄▄▃▃▃▃▃▃▃▃▃▃▃</td></tr><tr><td>param/base_model.model.gpt_neox.layers.3.mlp.dense_h_to_4h.ia3_l.default/352</td><td>█████▅▅▅▅▅▄▄▃▃▃▂▂▂▂▂▂▂▂▂▂▂▁▁▁▁▁▁▁▁▁▁▁▁▁▁</td></tr><tr><td>param/base_model.model.gpt_neox.layers.3.mlp.dense_h_to_4h.ia3_l.default/353</td><td>▅▆▄▄▄██▇▇▇▅▄▄▄▄▃▃▃▃▃▃▂▂▂▂▁▁▁▁▁▁▁▁▁▁▁▁▁▁▁</td></tr><tr><td>param/base_model.model.gpt_neox.layers.3.mlp.dense_h_to_4h.ia3_l.default/354</td><td>▁▁▂▂▂▂▃▄▄▄▄▃▃▄▄▅▅▅▆▆▆▇███▇▇▆▆▆▇▇▇▇▇▇▇▇▇▇</td></tr><tr><td>param/base_model.model.gpt_neox.layers.3.mlp.dense_h_to_4h.ia3_l.default/355</td><td>▇▇███▅▄▃▂▂▃▂▂▂▂▂▂▂▂▂▂▁▁▁▁▁▁▁▁▁▁▁▁▂▂▂▂▂▂▂</td></tr><tr><td>param/base_model.model.gpt_neox.layers.3.mlp.dense_h_to_4h.ia3_l.default/356</td><td>▁▁▁▁▂▃▆▇███████▆▆▆▄▄▆▆▆▅▅▅▄▄▄▄▄▄▄▄▄▄▄▄▄▄</td></tr><tr><td>param/base_model.model.gpt_neox.layers.3.mlp.dense_h_to_4h.ia3_l.default/357</td><td>▁▁▁▂▂▂▂▃▃▃▃▄▄▄▄▂▂▂▃▃▃▄▆▇▇▇▇▇███▇▇▇▇▇▇▇▇▇</td></tr><tr><td>param/base_model.model.gpt_neox.layers.3.mlp.dense_h_to_4h.ia3_l.default/358</td><td>▆▆▆▆██▇▆▅▄▄▄▄▅▄▄▄▄▄▄▃▃▃▃▂▂▂▂▂▁▁▁▁▁▁▁▁▁▁▁</td></tr><tr><td>param/base_model.model.gpt_neox.layers.3.mlp.dense_h_to_4h.ia3_l.default/359</td><td>▇▇███▄▇▇▇▇▆▆▅▅▅▅▆▆▆▅▄▃▁▁▁▂▂▂▃▃▄▄▄▄▄▄▅▅▅▅</td></tr><tr><td>param/base_model.model.gpt_neox.layers.3.mlp.dense_h_to_4h.ia3_l.default/36</td><td>▁▁▁▂▂██▇▇▇▇▇▇▆▆▆▅▅▅▄▄▄▄▄▄▄▄▄▄▄▄▄▄▄▄▄▄▄▄▃</td></tr><tr><td>param/base_model.model.gpt_neox.layers.3.mlp.dense_h_to_4h.ia3_l.default/360</td><td>▄▅▄▄▅▄▁▁▂▂▃▄▄▄▅▅▅▅▅▅▅▆▆▇▇▇▇██▇▇▇████████</td></tr><tr><td>param/base_model.model.gpt_neox.layers.3.mlp.dense_h_to_4h.ia3_l.default/361</td><td>▂▁▁▁▁▆████▇███▇▇▇▇▆▆▇▇▇▇▇▇▇▆▆▆▆▆▆▅▅▆▅▅▅▅</td></tr><tr><td>param/base_model.model.gpt_neox.layers.3.mlp.dense_h_to_4h.ia3_l.default/362</td><td>▃▁▁▁▁▇▇█▇▇█████▇▇▇▇▇▆▆▆▆▆▆▆▆▆▆▆▆▆▆▆▆▆▆▆▆</td></tr><tr><td>param/base_model.model.gpt_neox.layers.3.mlp.dense_h_to_4h.ia3_l.default/363</td><td>▄▅▅▅▆▆▅█▇▆▆▆▄▄▃▃▃▃▃▂▃▃▃▃▃▂▂▂▂▂▂▂▂▁▁▁▁▁▁▁</td></tr><tr><td>param/base_model.model.gpt_neox.layers.3.mlp.dense_h_to_4h.ia3_l.default/364</td><td>▁▁▁▁▁▂▃▄▆▆▆▆▇████▇▇▆▆▆▅▄▄▄▄▄▅▅▅▅▅▅▅▅▅▆▆▆</td></tr><tr><td>param/base_model.model.gpt_neox.layers.3.mlp.dense_h_to_4h.ia3_l.default/365</td><td>▇▆▅▅▄▁▁▂▂▂▃▄▄▆▆▇▇▇▇███▇▇▇▇▆▆▆▆▆▆▆▆▆▇▇▇▇▇</td></tr><tr><td>param/base_model.model.gpt_neox.layers.3.mlp.dense_h_to_4h.ia3_l.default/366</td><td>▇▆▇▇▇▅▁▁▁▂▄▄▅▅▆▆▇▇████████▇▇▇▇▇█████████</td></tr><tr><td>param/base_model.model.gpt_neox.layers.3.mlp.dense_h_to_4h.ia3_l.default/367</td><td>▁▁▂▂▂▃▃▃▃▃▄▄▄▄▄▄▄▄▄▅▅▅▅▅▅▆▆▆▇▇██████████</td></tr><tr><td>param/base_model.model.gpt_neox.layers.3.mlp.dense_h_to_4h.ia3_l.default/368</td><td>▃▃▃▃▂▅▇█▇▅▄▄▃▂▁▁▁▃▃▆▂▂▂▂▂▃▃▄▄▄▅▅▅▅▄▄▄▄▄▄</td></tr><tr><td>param/base_model.model.gpt_neox.layers.3.mlp.dense_h_to_4h.ia3_l.default/369</td><td>▄▅▆▆▅▁▂▄▅▅▅▅▄▄▄▄▄▃▃▄▅▅▅▆▇▇█████████████▇</td></tr><tr><td>param/base_model.model.gpt_neox.layers.3.mlp.dense_h_to_4h.ia3_l.default/37</td><td>▅▅▆▆▆▆▇█▇▆▆▅▅▅▄▄▄▄▄▄▄▃▃▃▃▂▂▂▂▂▂▁▁▁▁▁▁▁▁▁</td></tr><tr><td>param/base_model.model.gpt_neox.layers.3.mlp.dense_h_to_4h.ia3_l.default/370</td><td>███▇▇▅▂▂▂▂▂▁▁▁▁▂▂▂▂▂▂▂▂▂▂▂▂▃▃▃▃▃▄▄▄▄▄▄▄▄</td></tr><tr><td>param/base_model.model.gpt_neox.layers.3.mlp.dense_h_to_4h.ia3_l.default/371</td><td>█▇▆▄▃▄▃▃▃▃▂▂▁▁▁▃▄▄▄▅▅▅▅▅▅▅▅▆▆▆▆▆▆▆▆▆▇▇▇▇</td></tr><tr><td>param/base_model.model.gpt_neox.layers.3.mlp.dense_h_to_4h.ia3_l.default/372</td><td>█▇█▇▃▃▃▄▅▄▄▅▅▅▄▄▄▃▃▃▂▂▂▂▂▁▁▁▁▂▂▂▂▂▂▂▂▂▂▂</td></tr><tr><td>param/base_model.model.gpt_neox.layers.3.mlp.dense_h_to_4h.ia3_l.default/373</td><td>█▇▆▅▅▅▅▂▁▂▂▂▂▂▂▂▃▃▃▄▄▃▃▃▃▃▃▂▂▂▂▂▂▂▂▂▂▂▂▂</td></tr><tr><td>param/base_model.model.gpt_neox.layers.3.mlp.dense_h_to_4h.ia3_l.default/374</td><td>▆▆▆▇▁▁▂▃▄▃▄▄▄▅▅▆▇▇▇▇███▆▆▆▆▆▆▆▆▆▆▆▆▆▆▆▆▆</td></tr><tr><td>param/base_model.model.gpt_neox.layers.3.mlp.dense_h_to_4h.ia3_l.default/375</td><td>██▇▇▆▂▁▁▁▁▃▃▃▃▄▃▃▃▃▃▂▂▂▂▂▃▃▃▂▂▃▃▃▃▃▃▃▃▃▃</td></tr><tr><td>param/base_model.model.gpt_neox.layers.3.mlp.dense_h_to_4h.ia3_l.default/376</td><td>▄▂▁▂▁▃▆█▇██▇▇▇▅▄▄▄▄▄▃▃▃▃▃▄▄▄▃▃▄▄▄▄▄▄▄▄▄▄</td></tr><tr><td>param/base_model.model.gpt_neox.layers.3.mlp.dense_h_to_4h.ia3_l.default/377</td><td>█████▇▆▆▅▅▄▄▄▄▃▃▃▃▃▃▂▂▂▂▂▂▂▂▁▁▁▁▁▁▁▁▁▁▁▁</td></tr><tr><td>param/base_model.model.gpt_neox.layers.3.mlp.dense_h_to_4h.ia3_l.default/378</td><td>▄▃▃▁▄▆▆▆▆▆▅▅▅▅▅▅▆▆▇▇▇▇▇▇▇███████████████</td></tr><tr><td>param/base_model.model.gpt_neox.layers.3.mlp.dense_h_to_4h.ia3_l.default/379</td><td>▅▅▆▆▆█▆▅▃▃▂▂▂▃▃▂▂▂▂▂▁▁▁▁▂▂▂▂▂▂▃▃▃▃▃▃▃▃▃▃</td></tr><tr><td>param/base_model.model.gpt_neox.layers.3.mlp.dense_h_to_4h.ia3_l.default/38</td><td>▃▃▄▇▁▄▅▅▄▂▁▂▂▂▂▃▄▅▇▇▇▇▇▆▆██▇▇▇▆▆▆▆▆▆▆▆▆▆</td></tr><tr><td>param/base_model.model.gpt_neox.layers.3.mlp.dense_h_to_4h.ia3_l.default/380</td><td>▃▂▂▃▄▄▃▁▁▂▂▃▄▅▅▅▆▆▇▇▆▆▇▇▇▇▇████▇▆▆▆▅▅▅▅▅</td></tr><tr><td>param/base_model.model.gpt_neox.layers.3.mlp.dense_h_to_4h.ia3_l.default/381</td><td>▇████▂▁▁▁▁▁▁▁▂▂▃▄▄▄▄▄▄▅▅▅▅▆▆▆▆▆▆▆▆▆▆▆▆▆▆</td></tr><tr><td>param/base_model.model.gpt_neox.layers.3.mlp.dense_h_to_4h.ia3_l.default/382</td><td>▆▇▇▇█████▆▃▁▂▁▁▂▂▃▄▄▅▆▆▆▇▇▇▇▇▇▇▆▆▆▆▆▆▆▆▆</td></tr><tr><td>param/base_model.model.gpt_neox.layers.3.mlp.dense_h_to_4h.ia3_l.default/383</td><td>▅▅▅▅▅▆▇█▆▄▅▄▃▂▁▁▁▁▁▁▄▄▅▅▅▄▄▄▄▃▃▃▃▃▃▃▃▃▃▃</td></tr><tr><td>param/base_model.model.gpt_neox.layers.3.mlp.dense_h_to_4h.ia3_l.default/384</td><td>▃▃▅▆▆█▇▆▅▅▄▄▄▄▄▃▃▃▃▃▃▃▃▃▃▃▃▂▂▂▂▂▂▂▁▁▁▁▁▁</td></tr><tr><td>param/base_model.model.gpt_neox.layers.3.mlp.dense_h_to_4h.ia3_l.default/385</td><td>▁▂▃▄▂█▇▆▂▂▃▃▄▄▄▄▄▄▅▅▅▆▆▆▆▆▆▆▇▆▅▅▅▅▅▄▄▄▄▄</td></tr><tr><td>param/base_model.model.gpt_neox.layers.3.mlp.dense_h_to_4h.ia3_l.default/386</td><td>▅▅▃▃▃▂▁▃▃▄▅▅▅▆▆▆▅▅▅▅▄▄▄▄▅▅▇▇▇▇▇█████████</td></tr><tr><td>param/base_model.model.gpt_neox.layers.3.mlp.dense_h_to_4h.ia3_l.default/387</td><td>▇▇▇█▇██▇▇▇▇▇▇▇▇▇▆▆▆▅▅▄▄▃▃▃▂▂▂▂▂▂▁▁▁▁▁▁▁▁</td></tr><tr><td>param/base_model.model.gpt_neox.layers.3.mlp.dense_h_to_4h.ia3_l.default/388</td><td>▅▆▆▅█▃▃▃▅▅▅▆▆▆▅▄▂▂▂▂▂▂▁▁▁▂▂▂▂▂▂▂▂▂▂▁▁▁▁▁</td></tr><tr><td>param/base_model.model.gpt_neox.layers.3.mlp.dense_h_to_4h.ia3_l.default/389</td><td>▄▅▅▅▆▇███▇▇▆▅▅▅▄▄▄▄▄▃▃▃▃▂▂▂▂▂▂▁▁▁▁▁▁▁▁▁▁</td></tr><tr><td>param/base_model.model.gpt_neox.layers.3.mlp.dense_h_to_4h.ia3_l.default/39</td><td>▄▄▄▅▅█▆▅▅▅▄▄▄▄▄▃▃▃▃▃▃▃▂▂▂▂▂▂▂▂▁▁▁▁▁▁▁▁▁▁</td></tr><tr><td>param/base_model.model.gpt_neox.layers.3.mlp.dense_h_to_4h.ia3_l.default/390</td><td>▅▄▄▄▄▃▂▁▁▂▂▃▃▃▄▄▄▅▆▆▇▇▇▇▇██▇▇███████████</td></tr><tr><td>param/base_model.model.gpt_neox.layers.3.mlp.dense_h_to_4h.ia3_l.default/391</td><td>▆▆▆▇▇███▇▇▅▅▅▅▅▄▄▄▄▄▄▄▄▄▄▃▃▃▂▂▂▂▁▁▁▁▁▁▁▁</td></tr><tr><td>param/base_model.model.gpt_neox.layers.3.mlp.dense_h_to_4h.ia3_l.default/392</td><td>███▇▃▂▂▂▂▂▂▁▁▁▁▁▁▁▁▁▁▁▁▁▁▁▁▁▁▁▁▁▁▁▁▁▁▁▁▁</td></tr><tr><td>param/base_model.model.gpt_neox.layers.3.mlp.dense_h_to_4h.ia3_l.default/393</td><td>██▇▇▇▃▁▂▃▃▄▄▃▃▃▃▃▃▃▃▃▃▂▂▂▃▃▃▃▄▄▄▄▄▄▄▄▄▄▄</td></tr><tr><td>param/base_model.model.gpt_neox.layers.3.mlp.dense_h_to_4h.ia3_l.default/394</td><td>▂▁▂▁▁▁▂▃▄▅▅▅▅▅▅▆▆▆▆▇▇▇▇▇▇▇▇▇████████████</td></tr><tr><td>param/base_model.model.gpt_neox.layers.3.mlp.dense_h_to_4h.ia3_l.default/395</td><td>▂▂▂▂▂▁▂▂▂▄▆▆██▇▃▃▅▅▅▅▅▅▆▆▆▅▅▃▃▃▃▃▃▃▃▃▃▃▃</td></tr><tr><td>param/base_model.model.gpt_neox.layers.3.mlp.dense_h_to_4h.ia3_l.default/396</td><td>▂▃▃▂▁▁▂▂▃▄▆▆▇▇▇████▇▇▇▇▇▇▇▇▇▇███████████</td></tr><tr><td>param/base_model.model.gpt_neox.layers.3.mlp.dense_h_to_4h.ia3_l.default/397</td><td>▅▅▅▅▆█▆▆▆▆▆▇▇███▇▆▆▅▄▄▄▄▃▃▂▂▂▂▁▁▁▁▁▁▁▁▁▁</td></tr><tr><td>param/base_model.model.gpt_neox.layers.3.mlp.dense_h_to_4h.ia3_l.default/398</td><td>▄▄▄▃▁▂▂▃▆▆▅▅▆▆▆▇▇▇▇▇▇▇▇▇████████████████</td></tr><tr><td>param/base_model.model.gpt_neox.layers.3.mlp.dense_h_to_4h.ia3_l.default/399</td><td>█▇▇▇▄▃▆▆▇▇▇▇▆▆▆▆▆▆▅▅▄▃▃▃▂▁▁▁▁▁▂▂▂▂▂▂▂▂▂▂</td></tr><tr><td>param/base_model.model.gpt_neox.layers.3.mlp.dense_h_to_4h.ia3_l.default/4</td><td>▄▂▂▂▃▂▄▃▁▃▄▄▅▆████▇▇▇▇▇▇▆▅▅▅▅▅▅▅▆▆▆▆▆▆▆▆</td></tr><tr><td>param/base_model.model.gpt_neox.layers.3.mlp.dense_h_to_4h.ia3_l.default/40</td><td>█▇▇█▃▂▂▂▁▁▂▂▃▃▃▃▃▄▄▄▅▅▄▄▄▄▄▄▃▃▄▄▄▄▅▅▅▅▅▆</td></tr><tr><td>param/base_model.model.gpt_neox.layers.3.mlp.dense_h_to_4h.ia3_l.default/400</td><td>▆▅▆▇█▅▄▄▃▃▃▃▃▃▃▂▂▂▂▂▂▂▂▂▂▁▁▁▁▁▁▁▁▁▁▁▂▂▂▂</td></tr><tr><td>param/base_model.model.gpt_neox.layers.3.mlp.dense_h_to_4h.ia3_l.default/401</td><td>██▇▆▆▁▂▅▅▅██▇▆▅▅▃▄▄▅▅▅▅▅▄▄▄▃▄▄▄▄▄▄▄▃▃▃▃▃</td></tr><tr><td>param/base_model.model.gpt_neox.layers.3.mlp.dense_h_to_4h.ia3_l.default/402</td><td>▇████▃▃▃▃▃▃▃▂▂▂▂▂▂▂▂▁▁▁▁▁▁▁▁▁▁▁▁▁▁▁▁▁▁▁▁</td></tr><tr><td>param/base_model.model.gpt_neox.layers.3.mlp.dense_h_to_4h.ia3_l.default/403</td><td>▇▇█▇▇▆▅▅▅▄▄▃▃▃▃▃▂▂▂▂▁▁▁▁▁▁▂▂▂▂▂▂▂▂▂▂▂▂▂▂</td></tr><tr><td>param/base_model.model.gpt_neox.layers.3.mlp.dense_h_to_4h.ia3_l.default/404</td><td>▁▁▁▁▂▂▃▃▆▆███▇▇▇▇▇▇▇▇▇▇▇▇▇▇▇▇▇▇▇▇▇▇▇▇▇▇▇</td></tr><tr><td>param/base_model.model.gpt_neox.layers.3.mlp.dense_h_to_4h.ia3_l.default/405</td><td>▇▇███▆▄▄▃▃▂▂▂▁▁▁▁▁▁▁▁▁▁▁▁▁▁▁▁▂▂▂▂▂▂▂▂▂▂▂</td></tr><tr><td>param/base_model.model.gpt_neox.layers.3.mlp.dense_h_to_4h.ia3_l.default/406</td><td>██▇▇▇▇▄▂▂▁▂▁▃▃▃▄▄▄▃▃▃▂▂▂▂▂▂▂▂▂▂▂▂▂▂▂▂▂▂▂</td></tr><tr><td>param/base_model.model.gpt_neox.layers.3.mlp.dense_h_to_4h.ia3_l.default/407</td><td>▁▁▂▂▆▁▁▂▄▄▄▄▄▄▄▅▅▅▅▄▃▄▄▄▅▅▆▆▆▆▇▇▇▇▇█████</td></tr><tr><td>param/base_model.model.gpt_neox.layers.3.mlp.dense_h_to_4h.ia3_l.default/408</td><td>████▇▃▃▃▃▃▃▃▃▃▃▃▃▂▂▂▁▁▁▁▁▁▁▁▁▂▂▂▂▂▂▂▂▂▂▂</td></tr><tr><td>param/base_model.model.gpt_neox.layers.3.mlp.dense_h_to_4h.ia3_l.default/409</td><td>█▇▇▇▇▆▄▁▂▂▃▅████▇▇▇▇▆▅▅▄▄▄▄▄▄▄▄▄▄▃▃▃▃▃▃▃</td></tr><tr><td>param/base_model.model.gpt_neox.layers.3.mlp.dense_h_to_4h.ia3_l.default/41</td><td>▁▂▁▁▁▅▄▃▃▄▄▄▅▆▆▆▆▇▇▇████████████████████</td></tr><tr><td>param/base_model.model.gpt_neox.layers.3.mlp.dense_h_to_4h.ia3_l.default/410</td><td>▄▄▅▄▅▆██▆▅▆▆▇▇█████▇▇▆▆▆▆▅▅▄▃▁▁▁▁▂▂▂▂▂▂▂</td></tr><tr><td>param/base_model.model.gpt_neox.layers.3.mlp.dense_h_to_4h.ia3_l.default/411</td><td>▅▄▄▄▄▂▃▁▂▅▅▅▅▅▅▅▅▆▆▆▆███████▇▇▇▇▇▇▇▇▇▇▇▇</td></tr><tr><td>param/base_model.model.gpt_neox.layers.3.mlp.dense_h_to_4h.ia3_l.default/412</td><td>█▆▁▁▃▅▅▅▅▅▅▅▅▅▅▅▅▅▅▅▇▇▇▇▇▇▇▇████████████</td></tr><tr><td>param/base_model.model.gpt_neox.layers.3.mlp.dense_h_to_4h.ia3_l.default/413</td><td>█▇▆▅▆▃▁▂▂▂▄▅▃▂▂▂▃▃▄▄▅▅▅▅▅▄▄▃▃▃▃▄▅▆▆▆▆▇▇▇</td></tr><tr><td>param/base_model.model.gpt_neox.layers.3.mlp.dense_h_to_4h.ia3_l.default/414</td><td>█████▅▅▅▅▅▄▄▄▄▄▄▄▄▃▃▃▃▃▃▃▂▂▂▂▂▂▁▁▁▁▁▁▁▁▁</td></tr><tr><td>param/base_model.model.gpt_neox.layers.3.mlp.dense_h_to_4h.ia3_l.default/415</td><td>▁▂▃▃▃▃▅▄▅▅▆▇█████████████▇▇▇▇▇▇▇▇▇▇▇▇▇▇▇</td></tr><tr><td>param/base_model.model.gpt_neox.layers.3.mlp.dense_h_to_4h.ia3_l.default/416</td><td>▆▅▄▃▃▁▂▃▃▄▅▅▅▆▆▆▆▇▇▇▇██▇▇▇▇▇▇▇▇█████████</td></tr><tr><td>param/base_model.model.gpt_neox.layers.3.mlp.dense_h_to_4h.ia3_l.default/417</td><td>▅▆▇▇█▇▆▆▅▅▅▄▄▄▄▃▃▃▄▄▄▃▃▃▃▃▂▂▂▂▂▂▁▁▁▁▁▁▁▁</td></tr><tr><td>param/base_model.model.gpt_neox.layers.3.mlp.dense_h_to_4h.ia3_l.default/418</td><td>▁▁▁▁▁▆▅▅▅▅▆▆▆▆▇▇▇▇▇▇████████████████████</td></tr><tr><td>param/base_model.model.gpt_neox.layers.3.mlp.dense_h_to_4h.ia3_l.default/419</td><td>▅▄▄▄▄▃▁▅▇████▆▅▆▆▆▆▆████████████████████</td></tr><tr><td>param/base_model.model.gpt_neox.layers.3.mlp.dense_h_to_4h.ia3_l.default/42</td><td>▄▃▃▁▁▂▃▃▃▃▃▃▃▄▄▄▄▄▄▄▄▄▅▆▆▇▇▇▇▇█▇▇▆▆▆▆▆▅▅</td></tr><tr><td>param/base_model.model.gpt_neox.layers.3.mlp.dense_h_to_4h.ia3_l.default/420</td><td>▁▁▂▃▃▇▆▆██▇▇▆▆▅▅▅▅▄▄▃▃▃▄▄▄▄▄▄▄▄▄▄▄▄▄▄▄▄▄</td></tr><tr><td>param/base_model.model.gpt_neox.layers.3.mlp.dense_h_to_4h.ia3_l.default/421</td><td>█▇▅▇▅▁▂▂▂▂▁▁▁▁▁▃▃▃▄▄▃▃▃▃▂▂▂▂▃▃▃▃▃▃▃▂▂▂▂▂</td></tr><tr><td>param/base_model.model.gpt_neox.layers.3.mlp.dense_h_to_4h.ia3_l.default/422</td><td>▄▅▅▆▆█▅▅▄▄▄▄▄▄▃▃▃▃▃▃▃▃▃▂▂▂▂▂▂▂▂▂▁▁▁▁▁▁▁▁</td></tr><tr><td>param/base_model.model.gpt_neox.layers.3.mlp.dense_h_to_4h.ia3_l.default/423</td><td>███▇▇▅▅▄▄▃▂▂▂▂▂▁▁▁▁▁▁▁▂▂▂▂▂▂▂▂▂▂▁▁▁▁▁▁▁▁</td></tr><tr><td>param/base_model.model.gpt_neox.layers.3.mlp.dense_h_to_4h.ia3_l.default/424</td><td>▄▅▇▇▇▄▂▁▃▄▅▅▅▄▄▃▄▄▄▅▅▅▆▆▇▇████▇▇▇▇▇▇▇▇▇▇</td></tr><tr><td>param/base_model.model.gpt_neox.layers.3.mlp.dense_h_to_4h.ia3_l.default/425</td><td>███▇▅▁▁▂▂▃▃▄▄▄▄▄▄▄▄▃▃▃▃▄▄▄▅▅▅▆▆▆▆▆▆▆▆▆▆▆</td></tr><tr><td>param/base_model.model.gpt_neox.layers.3.mlp.dense_h_to_4h.ia3_l.default/426</td><td>▁▁▂▃▃▁▂▄▃▃▂▁▁▁▂▂▂▂▃▃▄▅▅▅▅▆▆▇▇▇██████████</td></tr><tr><td>param/base_model.model.gpt_neox.layers.3.mlp.dense_h_to_4h.ia3_l.default/427</td><td>▂▃▃▃▃▃██▅▄▅▅▄▅▅▅▅▄▄▄▄▄▄▃▃▂▂▂▂▁▁▁▁▁▁▁▁▁▁▁</td></tr><tr><td>param/base_model.model.gpt_neox.layers.3.mlp.dense_h_to_4h.ia3_l.default/428</td><td>▁▂▃▂▃▇█▇▇▇██▇▇▇▇▇▇▆▆▆▆▆▅▅▅▅▅▄▃▃▃▃▃▄▄▄▄▄▄</td></tr><tr><td>param/base_model.model.gpt_neox.layers.3.mlp.dense_h_to_4h.ia3_l.default/429</td><td>▅▅▅▅▆▇▆▆▅▆▆▇▆▅▄▃▃▃▂▁▁▁▁▁▁▂▂▃▃▆▇▇▇▇▇█████</td></tr><tr><td>param/base_model.model.gpt_neox.layers.3.mlp.dense_h_to_4h.ia3_l.default/43</td><td>▁▂▂▃▃██▇█████▇▆▆▆▆▆▆▅▆▆▆▆▆▆▆▆▆▆▆▅▅▅▅▅▅▅▅</td></tr><tr><td>param/base_model.model.gpt_neox.layers.3.mlp.dense_h_to_4h.ia3_l.default/430</td><td>▂▂▂▁▁▃▃▃▃▃▁▁▃▃▃▃▃▃▄▅▇▇▇▇▇▇▇▇▇▇▇█████████</td></tr><tr><td>param/base_model.model.gpt_neox.layers.3.mlp.dense_h_to_4h.ia3_l.default/431</td><td>▅▆▆▇█▅▄▂▂▁▁▁▁▁▁▁▁▁▂▂▁▁▁▁▁▁▁▁▁▁▁▁▁▁▁▁▁▁▁▁</td></tr><tr><td>param/base_model.model.gpt_neox.layers.3.mlp.dense_h_to_4h.ia3_l.default/432</td><td>▆▇████▄▄▃▃▃▃▃▂▂▁▂▂▂▂▃▃▃▃▃▄▃▂▁▁▁▁▁▁▁▁▁▁▁▁</td></tr><tr><td>param/base_model.model.gpt_neox.layers.3.mlp.dense_h_to_4h.ia3_l.default/433</td><td>▇▇▇██▇▆▆▆▅▄▃▃▃▄▄▄▃▃▃▃▃▃▃▂▂▂▂▂▂▁▁▁▁▁▁▁▁▁▁</td></tr><tr><td>param/base_model.model.gpt_neox.layers.3.mlp.dense_h_to_4h.ia3_l.default/434</td><td>█▇▇▇▆▁▂▃▄▄▃▃▃▃▂▃▃▃▃▃▃▂▁▂▂▂▄▄▄▄▄▄▅▄▅▅▄▄▄▄</td></tr><tr><td>param/base_model.model.gpt_neox.layers.3.mlp.dense_h_to_4h.ia3_l.default/435</td><td>▄▅██▇▃▃▄▅▂▂▂▂▂▂▂▁▁▁▂▃▃▃▃▃▅▅▅▅▅▅▅▅▅▅▅▅▅▅▅</td></tr><tr><td>param/base_model.model.gpt_neox.layers.3.mlp.dense_h_to_4h.ia3_l.default/436</td><td>▆▆▇██▇▅▅▅▅▃▃▃▃▃▂▂▂▂▁▁▂▂▂▂▂▃▃▃▃▃▃▃▃▃▃▃▃▃▃</td></tr><tr><td>param/base_model.model.gpt_neox.layers.3.mlp.dense_h_to_4h.ia3_l.default/437</td><td>▂▁▁▂▄▅▆▆▆███▇▅▅▄▄▄▄▄▄▃▃▃▃▃▃▃▃▃▂▂▂▂▂▂▂▁▁▁</td></tr><tr><td>param/base_model.model.gpt_neox.layers.3.mlp.dense_h_to_4h.ia3_l.default/438</td><td>▃▄▄▅▅█▇██▇▅▄▄▄▂▂▂▂▂▁▁▁▁▂▂▂▂▂▂▂▃▃▃▃▃▃▃▃▃▃</td></tr><tr><td>param/base_model.model.gpt_neox.layers.3.mlp.dense_h_to_4h.ia3_l.default/439</td><td>▆▇███▄▃▂▁▁▃▄▄▄▄▄▄▄▃▃▃▃▄▄▄▅▅▅▅▆▆▆▆▆▇▇▇▇▇▇</td></tr><tr><td>param/base_model.model.gpt_neox.layers.3.mlp.dense_h_to_4h.ia3_l.default/44</td><td>▆▆▇▆▄▁▂▁▁▁▂▂▂▂▃▅▅▆▆▆▆▆▆▇▇▇▇█████████████</td></tr><tr><td>param/base_model.model.gpt_neox.layers.3.mlp.dense_h_to_4h.ia3_l.default/440</td><td>▆▆▆▆█▆▆▅▅▆▆▇▇▆▅▄▄▄▃▃▂▂▂▂▂▂▂▂▂▂▁▁▁▁▁▁▁▁▁▁</td></tr><tr><td>param/base_model.model.gpt_neox.layers.3.mlp.dense_h_to_4h.ia3_l.default/441</td><td>██▇▇▇▅▆▇▇▆▆▅▅▅▅▄▄▃▃▃▃▃▂▂▂▂▂▁▁▁▁▁▁▁▁▁▁▁▁▁</td></tr><tr><td>param/base_model.model.gpt_neox.layers.3.mlp.dense_h_to_4h.ia3_l.default/442</td><td>▆▆███▁▁▃▃▄▃▄▄▅▅▅▅▅▅▆▇▇▇▇█▄▄▄▄▄▄▄▄▄▄▄▅▅▅▅</td></tr><tr><td>param/base_model.model.gpt_neox.layers.3.mlp.dense_h_to_4h.ia3_l.default/443</td><td>▃▄▄▃▃▁▂▄▄▅▇████▇▇▇████▇▇▇▇▇▆▆▆▆▆▆▆▆▆▆▅▅▅</td></tr><tr><td>param/base_model.model.gpt_neox.layers.3.mlp.dense_h_to_4h.ia3_l.default/444</td><td>▁▃▄▆█▄▃▂▂▄▅▅▆▆▆▅▅▄▃▂▃▃▃▃▃▂▂▃▃▃▃▃▃▃▂▂▂▂▂▂</td></tr><tr><td>param/base_model.model.gpt_neox.layers.3.mlp.dense_h_to_4h.ia3_l.default/445</td><td>▄▄▄▄▄▆█▆▆▆▅▆▆▅▅▄▂▂▁▁▁▁▁▂▁▂▁▁▁▁▁▁▁▁▁▁▁▁▁▁</td></tr><tr><td>param/base_model.model.gpt_neox.layers.3.mlp.dense_h_to_4h.ia3_l.default/446</td><td>▆▇▇▇█▂▁▁▂▂▂▂▂▃▃▃▄▄▄▄▅▆▆▆▆▇▇▇▇▇▇▇▇▇▇▇▇▇▇▇</td></tr><tr><td>param/base_model.model.gpt_neox.layers.3.mlp.dense_h_to_4h.ia3_l.default/447</td><td>█▇▇▇▆▂▁▁▁▂▂▂▂▂▃▃▃▃▃▃▃▃▂▂▂▂▃▃▃▃▃▃▃▃▃▃▃▃▃▃</td></tr><tr><td>param/base_model.model.gpt_neox.layers.3.mlp.dense_h_to_4h.ia3_l.default/448</td><td>▇▇███▅▅▄▄▄▄▄▄▄▄▄▄▄▃▃▁▁▁▁▁▁▁▁▁▁▁▁▁▁▁▁▁▁▁▁</td></tr><tr><td>param/base_model.model.gpt_neox.layers.3.mlp.dense_h_to_4h.ia3_l.default/449</td><td>█▇▆▅▅▅▆▇▆▄▁▁▂▂▄▅▅▆▄▄▃▃▃▃▄▄▄▃▃▃▃▄▄▄▄▄▄▄▄▄</td></tr><tr><td>param/base_model.model.gpt_neox.layers.3.mlp.dense_h_to_4h.ia3_l.default/45</td><td>▆▅▅▆█▆▆▆▆▆▅▅▅▅▄▃▂▂▂▂▂▂▂▂▂▂▂▂▂▂▂▁▁▁▁▁▁▁▁▁</td></tr><tr><td>param/base_model.model.gpt_neox.layers.3.mlp.dense_h_to_4h.ia3_l.default/450</td><td>▇▇███▇▇▇▆▆▇▆▅▃▃▂▂▂▁▁▁▁▁▁▁▁▁▂▂▂▂▂▂▂▂▂▂▂▂▂</td></tr><tr><td>param/base_model.model.gpt_neox.layers.3.mlp.dense_h_to_4h.ia3_l.default/451</td><td>▆▇██▇▁▂▁▂▄▄▃▂▂▂▁▁▁▁▁▂▂▂▂▂▂▂▂▂▁▁▁▁▁▁▁▁▁▁▁</td></tr><tr><td>param/base_model.model.gpt_neox.layers.3.mlp.dense_h_to_4h.ia3_l.default/452</td><td>▄▄▄▄▃▃███▇▇▆▆▆▅▅▄▄▄▄▃▃▂▁▁▁▁▁▁▁▂▂▂▂▂▂▂▂▂▂</td></tr><tr><td>param/base_model.model.gpt_neox.layers.3.mlp.dense_h_to_4h.ia3_l.default/453</td><td>█▇▆▆▅▃▃▄▄▄▃▂▂▂▂▂▂▁▁▁▁▁▁▁▁▁▁▁▁▁▁▁▁▁▁▁▁▁▁▁</td></tr><tr><td>param/base_model.model.gpt_neox.layers.3.mlp.dense_h_to_4h.ia3_l.default/454</td><td>▁▁▃▄▄▆███▇▄▄▃▂▂▂▂▂▂▂▂▂▂▂▂▂▂▂▂▂▂▂▂▃▃▃▃▃▃▃</td></tr><tr><td>param/base_model.model.gpt_neox.layers.3.mlp.dense_h_to_4h.ia3_l.default/455</td><td>█▇▆▇▇▆▅▁▂▃▅▄▆▆▆▇▇▆▆▅▅▅▅▅▅▅▆▆▇▇▇█████████</td></tr><tr><td>param/base_model.model.gpt_neox.layers.3.mlp.dense_h_to_4h.ia3_l.default/456</td><td>▂▂▁▁▁▁▃▃▄▄▅▄▄▄▄▄▄▄▅▇▇▇▇▇▇▇▇█████████████</td></tr><tr><td>param/base_model.model.gpt_neox.layers.3.mlp.dense_h_to_4h.ia3_l.default/457</td><td>▂▂▁▁▃▇█▇▆▅▅▄▄▄▄▄▄▄▅▅▅▅▅▅▅▅▅▅▅▅▅▅▅▅▅▅▅▅▆▆</td></tr><tr><td>param/base_model.model.gpt_neox.layers.3.mlp.dense_h_to_4h.ia3_l.default/458</td><td>▄▄▄▅▄▃▁▅▆▆█▇▆▆▅▃▃▃▄▆▆▆▆▆▇▇▇▇▇███████████</td></tr><tr><td>param/base_model.model.gpt_neox.layers.3.mlp.dense_h_to_4h.ia3_l.default/459</td><td>▇▆▆▆▆▁▁▂▁▂▃▃▃▃▃▃▃▅▅▆▇▇███████▇▇▇▇▇▇▇▇▇▇▇</td></tr><tr><td>param/base_model.model.gpt_neox.layers.3.mlp.dense_h_to_4h.ia3_l.default/46</td><td>██▇▆▂▁▂▄▄▅▆▆▆▆▆▆▆▆▅▅▅▄▃▃▃▃▃▄▄▄▄▅▅▅▅▅▅▅▅▅</td></tr><tr><td>param/base_model.model.gpt_neox.layers.3.mlp.dense_h_to_4h.ia3_l.default/460</td><td>███▇▇█▆▅▄▄▃▂▂▁▁▁▁▁▁▁▁▁▂▂▂▂▂▃▃▃▃▃▃▃▃▃▄▄▄▄</td></tr><tr><td>param/base_model.model.gpt_neox.layers.3.mlp.dense_h_to_4h.ia3_l.default/461</td><td>▆▅▄▂▁▄▅▅▆▆▆▆▆▆▆▇▇▇▇▇███████████▇▇▇▇▇▇▇▇█</td></tr><tr><td>param/base_model.model.gpt_neox.layers.3.mlp.dense_h_to_4h.ia3_l.default/462</td><td>▇▇███▇▅▃▃▃▂▂▂▁▁▁▁▁▁▁▂▂▂▂▂▂▂▂▂▂▂▂▂▂▂▂▂▁▂▂</td></tr><tr><td>param/base_model.model.gpt_neox.layers.3.mlp.dense_h_to_4h.ia3_l.default/463</td><td>██▇▇▇▅▁▁▁▂▃▄▄▄▅▅▄▄▄▄▅▅▅▄▄▃▃▃▃▃▃▃▃▃▄▄▄▄▄▄</td></tr><tr><td>param/base_model.model.gpt_neox.layers.3.mlp.dense_h_to_4h.ia3_l.default/464</td><td>█▇▇▇▇▆▆▆▆▅▅▅▄▄▁▁▁▁▁▁▂▂▂▄▄▄▄▄▄▄▅▅▅▅▅▅▅▅▅▅</td></tr><tr><td>param/base_model.model.gpt_neox.layers.3.mlp.dense_h_to_4h.ia3_l.default/465</td><td>▂▂▂▂▆██▆▅▅▃▃▃▃▃▂▂▂▂▂▂▂▂▁▂▁▁▂▂▂▂▂▂▂▂▁▁▁▁▁</td></tr><tr><td>param/base_model.model.gpt_neox.layers.3.mlp.dense_h_to_4h.ia3_l.default/466</td><td>▇██▇▇▄▄▄▄▃▃▃▃▃▂▁▁▁▁▁▁▁▁▁▁▁▁▁▁▁▂▂▂▂▂▂▂▂▂▂</td></tr><tr><td>param/base_model.model.gpt_neox.layers.3.mlp.dense_h_to_4h.ia3_l.default/467</td><td>▁▂▄▄▆▂▃▄▃▃▃▅▅▅▅▅▅▅▆▆▆▆▇▇▇▇▇████████▇▇▇▇▇</td></tr><tr><td>param/base_model.model.gpt_neox.layers.3.mlp.dense_h_to_4h.ia3_l.default/468</td><td>▁▁▂▂▂▂▂▁▁▁▂▃▄▅▇▇▇▇▇▇▇▇▇▇████████████████</td></tr><tr><td>param/base_model.model.gpt_neox.layers.3.mlp.dense_h_to_4h.ia3_l.default/469</td><td>▆▆▇█▇▆▇███▇▇▆▅▅▃▂▁▁▁▁▂▂▂▂▂▃▂▃▂▃▃▃▃▃▃▃▃▃▃</td></tr><tr><td>param/base_model.model.gpt_neox.layers.3.mlp.dense_h_to_4h.ia3_l.default/47</td><td>▄▃▃▃▄▇▇███▆▆▅▅▅▅▅▄▄▄▄▄▃▃▃▁▁▁▂▂▂▂▂▂▂▂▂▂▂▂</td></tr><tr><td>param/base_model.model.gpt_neox.layers.3.mlp.dense_h_to_4h.ia3_l.default/470</td><td>▃▂▂▂▁▂▂▃▃▃▃▄▅▅▅█████▆▆▅▅▅▅▅▅▅▅▅▅▄▄▄▄▄▄▄▄</td></tr><tr><td>param/base_model.model.gpt_neox.layers.3.mlp.dense_h_to_4h.ia3_l.default/471</td><td>▁▁▂▃▄▃▇█▇▇▇▅▅▅▄▄▄▄▄▄▅▅▅▅▅▆▇▇▇▇██████████</td></tr><tr><td>param/base_model.model.gpt_neox.layers.3.mlp.dense_h_to_4h.ia3_l.default/472</td><td>█▇▆▆▃▂▄▄▄▄▂▂▂▁▁▁▂▂▂▂▂▂▂▂▂▂▃▃▂▂▂▂▂▂▂▂▂▂▂▂</td></tr><tr><td>param/base_model.model.gpt_neox.layers.3.mlp.dense_h_to_4h.ia3_l.default/473</td><td>▂▂▂▂▂█▆▄▃▃▃▂▂▂▃▁▁▁▁▁▁▁▁▁▂▃▃▃▃▃▃▃▄▄▄▄▄▄▄▄</td></tr><tr><td>param/base_model.model.gpt_neox.layers.3.mlp.dense_h_to_4h.ia3_l.default/474</td><td>█▆▄▂▁▃▁▅▅▅▆▅▅▄▅▇▇▇▇▇███▇▇▆▆▆▆▆▆▆▆▆▆▆▆▆▆▆</td></tr><tr><td>param/base_model.model.gpt_neox.layers.3.mlp.dense_h_to_4h.ia3_l.default/475</td><td>▂▃▂▂▃▇█▇▆▅▃▂▁▁▂▂▂▃▄▅▆▆▆▇▇▇▇█████████████</td></tr><tr><td>param/base_model.model.gpt_neox.layers.3.mlp.dense_h_to_4h.ia3_l.default/476</td><td>▃▄▄▄▄▁▁▁▂▂▂▂▃▃▂▂▂▂▂▂▂▃▆▆▇▇▇▇▇███████████</td></tr><tr><td>param/base_model.model.gpt_neox.layers.3.mlp.dense_h_to_4h.ia3_l.default/477</td><td>▂▂▁▁▁▃▄▅▇█▆▆▆▅▅▅▅▄▄▄▄▄▄▃▃▃▄▃▂▂▂▂▂▂▁▁▁▁▁▁</td></tr><tr><td>param/base_model.model.gpt_neox.layers.3.mlp.dense_h_to_4h.ia3_l.default/478</td><td>▁▁▂▂▂▁▃▂▄▄▅▅▅▆▇▇█▇██▇▇▇▇▇▇▇▇▇▇███████▇▇▇</td></tr><tr><td>param/base_model.model.gpt_neox.layers.3.mlp.dense_h_to_4h.ia3_l.default/479</td><td>█▄▄▅▅▅▃▂▂▁▁▁▁▂▃▃▃▃▅▅▆▆▆▇▆▇▇██▇▇▇▇▇▇▇▇▇██</td></tr><tr><td>param/base_model.model.gpt_neox.layers.3.mlp.dense_h_to_4h.ia3_l.default/48</td><td>▇▅▄▂▁▇▃▃▃▁▅▂▂▂▄▅▆▇██▇▇▇▇▇███▇▇▇▇▇▇▇▇▇███</td></tr><tr><td>param/base_model.model.gpt_neox.layers.3.mlp.dense_h_to_4h.ia3_l.default/480</td><td>▅▄▄▄▃▂▂▃▅▆▇▇▇▇▆▇▇▇▇▇█▇▅▅▅▅▅▄▃▃▂▂▂▁▁▁▁▁▁▁</td></tr><tr><td>param/base_model.model.gpt_neox.layers.3.mlp.dense_h_to_4h.ia3_l.default/481</td><td>▅▆▇▇▆▁▂▁▂▂▄▄▅▅▅▄▅▅▆▆▇▇███▇▇▆▆▆▆▅▅▅▅▅▅▅▅▄</td></tr><tr><td>param/base_model.model.gpt_neox.layers.3.mlp.dense_h_to_4h.ia3_l.default/482</td><td>▆▆▇▇▇▇▅▆▇█████▇▆▆▅▅▅▅▅▅▅▅▅▅▃▃▂▂▂▂▂▂▁▁▁▁▁</td></tr><tr><td>param/base_model.model.gpt_neox.layers.3.mlp.dense_h_to_4h.ia3_l.default/483</td><td>▄▄▅▅▅▆▁▁▄▄▇▇▇▇▆▆▅▅▆▇██████████▇▇████████</td></tr><tr><td>param/base_model.model.gpt_neox.layers.3.mlp.dense_h_to_4h.ia3_l.default/484</td><td>█▇▃▁▃▃▄▄▆▆▆▆▇▇▇▇▇▇▇▇▇▇▇▇▇▇▇▇▇▇▇▇▇▇▇▇▇▇▇▇</td></tr><tr><td>param/base_model.model.gpt_neox.layers.3.mlp.dense_h_to_4h.ia3_l.default/485</td><td>▇██████▂▂▂▁▁▁▁▁▃▃▃▃▄▄▅▅▅▅▄▄▄▄▄▄▄▄▄▄▄▄▄▄▄</td></tr><tr><td>param/base_model.model.gpt_neox.layers.3.mlp.dense_h_to_4h.ia3_l.default/486</td><td>▁▂▂▄▄▆▅▅▇▇▇▇▇████▇▆▆▅▄▃▃▃▃▃▃▃▃▃▃▃▃▃▂▂▂▂▂</td></tr><tr><td>param/base_model.model.gpt_neox.layers.3.mlp.dense_h_to_4h.ia3_l.default/487</td><td>▄▄▄▄▃▂▁▂▅▆▇▇▇████████▇▇▇▇▇▇▇▇▇▇▇▇▇▆▆▆▆▆▆</td></tr><tr><td>param/base_model.model.gpt_neox.layers.3.mlp.dense_h_to_4h.ia3_l.default/488</td><td>▅▆▆▆█▆▄▄▄▄▄▃▃▃▃▄▄▅▆▅▄▄▃▃▃▂▂▂▂▂▂▁▁▁▁▁▁▁▁▁</td></tr><tr><td>param/base_model.model.gpt_neox.layers.3.mlp.dense_h_to_4h.ia3_l.default/489</td><td>███▇▆▁▁▃▃▃▄▅▅▆▆▆▆▆▆▆▆▇▇▇▇▇▇▇████████████</td></tr><tr><td>param/base_model.model.gpt_neox.layers.3.mlp.dense_h_to_4h.ia3_l.default/49</td><td>▇████▄▃▃▂▁▁▁▁▁▁▁▁▁▁▁▂▂▂▃▃▄▄▄▅▅▅▅▅▅▅▅▅▅▅▅</td></tr><tr><td>param/base_model.model.gpt_neox.layers.3.mlp.dense_h_to_4h.ia3_l.default/490</td><td>▄▅▅▆▆▅▁▁▂▂▃▄▄▅▅▆▆▇▇███████▇▇▇▇▇▇▆▆▆▆▆▆▆▆</td></tr><tr><td>param/base_model.model.gpt_neox.layers.3.mlp.dense_h_to_4h.ia3_l.default/491</td><td>██▇▇▇▆▃▁▂▄▅▅▅▆▆▆▆▆▆▆▅▅▅▅▅▅▅▅▅▅▅▅▅▅▅▅▅▅▅▅</td></tr><tr><td>param/base_model.model.gpt_neox.layers.3.mlp.dense_h_to_4h.ia3_l.default/492</td><td>▆▅▄▂▂▁▄▆█████▇▇▆▆▆▆▆▆▆▆▆▆▇▇▇▇▇▇▇▇▇▇▇▇▇▇▇</td></tr><tr><td>param/base_model.model.gpt_neox.layers.3.mlp.dense_h_to_4h.ia3_l.default/493</td><td>▇████▅▂▁▁▁▂▂▃▃▃▄▃▃▂▂▁▁▁▁▁▂▂▂▂▂▂▂▂▂▃▃▃▃▃▃</td></tr><tr><td>param/base_model.model.gpt_neox.layers.3.mlp.dense_h_to_4h.ia3_l.default/494</td><td>▇▇▇██▃▃▄▄▄▁▂▂▂▂▂▁▁▁▁▂▃▄▄▄▄▄▅▅▅▅▅▅▅▆▆▆▅▆▆</td></tr><tr><td>param/base_model.model.gpt_neox.layers.3.mlp.dense_h_to_4h.ia3_l.default/495</td><td>█▆▆▆▆▁▃▃▃▂▃▆▅▆▇▇▇▇▆▆▆▆▅▅▅▅▅▅▅▅▅▄▄▄▄▄▄▃▃▃</td></tr><tr><td>param/base_model.model.gpt_neox.layers.3.mlp.dense_h_to_4h.ia3_l.default/496</td><td>▁▂▂▃▅▅▄▄▃▆▇████▅▃▃▅▅▆▆▆▆▆▁▁▁▂▂▃▃▃▃▃▃▃▃▃▃</td></tr><tr><td>param/base_model.model.gpt_neox.layers.3.mlp.dense_h_to_4h.ia3_l.default/497</td><td>▃▂▂▂▁▂▂▂▂▃▄▅▅▇▇▇█████▇▇▇▇▇▇████████▇▇▇▇▇</td></tr><tr><td>param/base_model.model.gpt_neox.layers.3.mlp.dense_h_to_4h.ia3_l.default/498</td><td>▅▄▁▁▂▃▃▃▄▄▅▅▅▅▅▅▅▆▆▆▆▆▆▆▆▇██████████████</td></tr><tr><td>param/base_model.model.gpt_neox.layers.3.mlp.dense_h_to_4h.ia3_l.default/499</td><td>▂▂▁▁▁▂▃▄▅▅▅▆▆▅▅▄▄▅▅▅▅▅▅▆▆▆▇████████████▇</td></tr><tr><td>param/base_model.model.gpt_neox.layers.3.mlp.dense_h_to_4h.ia3_l.default/5</td><td>████▇▅▄▄▄▄▄▄▄▄▃▃▃▃▃▃▂▂▂▂▂▂▁▁▁▁▁▁▁▁▁▁▁▁▁▁</td></tr><tr><td>param/base_model.model.gpt_neox.layers.3.mlp.dense_h_to_4h.ia3_l.default/50</td><td>▁▁▁▂▃▆████▇▇▇▆▆▆▆▆▆▆▆▅▅▄▄▃▃▃▃▃▂▂▂▂▂▂▂▂▂▂</td></tr><tr><td>param/base_model.model.gpt_neox.layers.3.mlp.dense_h_to_4h.ia3_l.default/500</td><td>▁▂▂▂▁▁▃██▇▇▆▆▅▅▅▅▄▄▄▄▄▄▄▄▄▄▄▃▄▄▄▄▄▄▄▄▄▄▄</td></tr><tr><td>param/base_model.model.gpt_neox.layers.3.mlp.dense_h_to_4h.ia3_l.default/501</td><td>▆▆▆▆█▇▇▆▆▆▅▅▄▃▃▃▃▂▂▂▂▂▁▁▁▁▁▁▁▁▁▁▁▁▁▁▁▁▁▁</td></tr><tr><td>param/base_model.model.gpt_neox.layers.3.mlp.dense_h_to_4h.ia3_l.default/502</td><td>█████▅▅▄▄▄▄▄▃▃▃▃▃▃▂▂▂▂▂▂▂▂▂▂▂▂▁▁▁▁▁▁▁▁▁▁</td></tr><tr><td>param/base_model.model.gpt_neox.layers.3.mlp.dense_h_to_4h.ia3_l.default/503</td><td>█▇▇▆▆▅▁▃▅█▇▇▇▇▇▆▆▆▅▅▅▅▅▅▄▄▄▄▄▄▄▄▄▄▄▄▄▅▅▅</td></tr><tr><td>param/base_model.model.gpt_neox.layers.3.mlp.dense_h_to_4h.ia3_l.default/504</td><td>█▇▇▇▆▄▂▂▂▂▁▃▄▄▄▅▅▅▅▅▅▆▆▆▆▇▇▇▇▇▇█████████</td></tr><tr><td>param/base_model.model.gpt_neox.layers.3.mlp.dense_h_to_4h.ia3_l.default/505</td><td>▁▂▃▃▄▅▄▅▆▇▆▆▇▇████▇▇▇██▇▇▇▇▇▇▇▇▇████████</td></tr><tr><td>param/base_model.model.gpt_neox.layers.3.mlp.dense_h_to_4h.ia3_l.default/506</td><td>▁▁▂▂▂▂▃▄▅▅▆▆▆▇▇▇▇▇▇▇▇▇▇▇▇███████████████</td></tr><tr><td>param/base_model.model.gpt_neox.layers.3.mlp.dense_h_to_4h.ia3_l.default/507</td><td>▆▆▅▄▁▅▆▇▇▇▆▆▆▆▆▆▆▆▇▇▇▇▇▇▇▇▇▇▇▇▇▇▇▇██████</td></tr><tr><td>param/base_model.model.gpt_neox.layers.3.mlp.dense_h_to_4h.ia3_l.default/508</td><td>▇▇▇▇▇█▆▃▂▂▁▂▃▃▃▄▄▄▄▄▃▃▃▃▃▃▃▃▃▃▃▃▃▃▃▃▃▃▃▃</td></tr><tr><td>param/base_model.model.gpt_neox.layers.3.mlp.dense_h_to_4h.ia3_l.default/509</td><td>███▇▂▃▃▃▃▄▄▄▄▄▃▃▃▂▂▂▂▂▂▂▂▂▂▂▂▂▁▁▁▁▁▁▁▁▁▁</td></tr><tr><td>param/base_model.model.gpt_neox.layers.3.mlp.dense_h_to_4h.ia3_l.default/51</td><td>█▇▇▂▁▄▅▅▆▇▇▇▇▇████▇▇▇▇▇▇▆▆▆▆▆▆▆▆▅▅▅▅▅▅▅▅</td></tr><tr><td>param/base_model.model.gpt_neox.layers.3.mlp.dense_h_to_4h.ia3_l.default/510</td><td>████▇▅▄▄▃▃▃▃▃▃▃▂▁▂▂▂▂▁▁▁▁▁▂▂▂▃▃▃▃▃▃▃▃▃▃▃</td></tr><tr><td>param/base_model.model.gpt_neox.layers.3.mlp.dense_h_to_4h.ia3_l.default/511</td><td>▆▆▅▅▅▂▁▁▁▁▃▄▄▅▅▆▆▆▆▇▇▇▇████████████▇▇▇▇█</td></tr><tr><td>param/base_model.model.gpt_neox.layers.3.mlp.dense_h_to_4h.ia3_l.default/52</td><td>███▇▇▆▄▁▂▂▁▁▁▂▂▂▂▂▂▂▂▃▃▃▃▃▃▃▃▃▄▄▄▅▅▅▅▅▅▅</td></tr><tr><td>param/base_model.model.gpt_neox.layers.3.mlp.dense_h_to_4h.ia3_l.default/53</td><td>▆▇▇▇▆█▅▃▃▄▅▅▆▇▇▆▆▅▅▄▃▄▄▄▄▁▁▁▁▁▁▁▂▂▂▂▂▂▂▂</td></tr><tr><td>param/base_model.model.gpt_neox.layers.3.mlp.dense_h_to_4h.ia3_l.default/54</td><td>▁▂▂▁▁▃▂▄▅▅█▇▇██▆▆▅▅▅▅▅▅▄▄▄▄▄▄▅▆▆▆▆▆▆▇▇▇▇</td></tr><tr><td>param/base_model.model.gpt_neox.layers.3.mlp.dense_h_to_4h.ia3_l.default/55</td><td>█▇▆▅▅█▇▂▄▅▆▆▆▃▃▄▄▄▅▅▆▆▅▅▅▅▅▄▂▂▁▁▁▁▁▁▁▁▁▁</td></tr><tr><td>param/base_model.model.gpt_neox.layers.3.mlp.dense_h_to_4h.ia3_l.default/56</td><td>▆▆▅▅▃▁▂▃▃▄▄▄▄▄▄▄▄▅▅▅▆▇▇▇▇▇▇▇▇███████████</td></tr><tr><td>param/base_model.model.gpt_neox.layers.3.mlp.dense_h_to_4h.ia3_l.default/57</td><td>▁▃▄▄▅▆█▆▃▃▃▃▃▃▂▂▂▃▃▄▃▃▃▃▃▂▂▂▂▂▂▂▂▂▂▁▁▁▁▁</td></tr><tr><td>param/base_model.model.gpt_neox.layers.3.mlp.dense_h_to_4h.ia3_l.default/58</td><td>▇▆▆▆▅▁▂▅▆▇▇▇▇▇▇█████▇▇▇▇▇▆▆▅▅▅▅▅▄▄▄▄▄▄▄▄</td></tr><tr><td>param/base_model.model.gpt_neox.layers.3.mlp.dense_h_to_4h.ia3_l.default/59</td><td>▂▃▃▄▃█▆▇▆▆▄▄▄▄▅▆▆▆▆▅▅▅▅▄▄▄▄▃▃▂▂▂▂▁▁▁▁▁▁▁</td></tr><tr><td>param/base_model.model.gpt_neox.layers.3.mlp.dense_h_to_4h.ia3_l.default/6</td><td>▁▂▃▆▄▄▅▅▅▆▅▅▅▅▅▇▇▇█▇▇▇▇▇▇███▆▆▅▅▅▅▅▄▄▄▄▄</td></tr><tr><td>param/base_model.model.gpt_neox.layers.3.mlp.dense_h_to_4h.ia3_l.default/60</td><td>▁▁▁▁▂▅▅▅▅▅▆▆▆▆▆▆▇▇██████████████████████</td></tr><tr><td>param/base_model.model.gpt_neox.layers.3.mlp.dense_h_to_4h.ia3_l.default/61</td><td>▆▆▆▄▁▂▃▄▄▄▅▆▇▇██████▇▆▅▅▅▅▅▅▄▄▃▃▃▃▃▃▃▃▃▃</td></tr><tr><td>param/base_model.model.gpt_neox.layers.3.mlp.dense_h_to_4h.ia3_l.default/62</td><td>▁▂▂▂▂▂▅▄▄▅▆▇▇▇▆▆▆▆▆▆▆▆▆▇▇▇▇▇▇███████████</td></tr><tr><td>param/base_model.model.gpt_neox.layers.3.mlp.dense_h_to_4h.ia3_l.default/63</td><td>▁▁▁▁▂▃▁▁▂▄▅▄▄▄▅▅▅▆▇▇▇▇▇▇███▇██▇▇▇▇▇▆▆▇▇▇</td></tr><tr><td>param/base_model.model.gpt_neox.layers.3.mlp.dense_h_to_4h.ia3_l.default/64</td><td>▇▇▇▇▆▇▇███▇▇▇▇▆▆▆▇▇▆▆▅▅▅▄▃▃▂▂▂▂▁▁▁▁▁▁▁▁▁</td></tr><tr><td>param/base_model.model.gpt_neox.layers.3.mlp.dense_h_to_4h.ia3_l.default/65</td><td>▁▁▂▂▄▇██▇▇▆▅▄▄▄▃▃▂▂▁▂▂▂▂▃▃▃▃▄▄▄▄▄▄▄▄▄▃▃▃</td></tr><tr><td>param/base_model.model.gpt_neox.layers.3.mlp.dense_h_to_4h.ia3_l.default/66</td><td>▇▇▇▆▆▂▁▃▆▄▃▃▂▂▂▃▄▆▆███▇█████████████████</td></tr><tr><td>param/base_model.model.gpt_neox.layers.3.mlp.dense_h_to_4h.ia3_l.default/67</td><td>██▇▇▇▂▁▁▁▂▂▂▂▂▂▂▂▂▁▁▁▁▁▁▁▁▁▁▁▁▁▂▂▂▂▂▂▂▂▂</td></tr><tr><td>param/base_model.model.gpt_neox.layers.3.mlp.dense_h_to_4h.ia3_l.default/68</td><td>▁▁▁▁▁▃▅▅▅▆▆▆▆▆▇▇▇▇▇▇▇▇▇▇▇▆▆▇▇▇▇▇▇███████</td></tr><tr><td>param/base_model.model.gpt_neox.layers.3.mlp.dense_h_to_4h.ia3_l.default/69</td><td>▁▂▂▇▇██████████▇▇▇▇▇▇▇▇▇▇▇▇▇▇▇▇▇▇▇▆▆▆▆▆▆</td></tr><tr><td>param/base_model.model.gpt_neox.layers.3.mlp.dense_h_to_4h.ia3_l.default/7</td><td>▅▄▃▃▂▅▅▆▆▇████▇▆▄▃▃▂▂▁▁▁▁▂▁▂▂▂▂▂▂▂▂▂▂▂▂▂</td></tr><tr><td>param/base_model.model.gpt_neox.layers.3.mlp.dense_h_to_4h.ia3_l.default/70</td><td>▆▆▆▇██▃▂▂▁▁▁▁▁▁▂▂▂▂▂▂▂▂▂▂▂▃▃▃▃▃▃▃▃▃▃▃▃▃▃</td></tr><tr><td>param/base_model.model.gpt_neox.layers.3.mlp.dense_h_to_4h.ia3_l.default/71</td><td>███▇▇▅▄▃▃▄▄▄▄▃▃▂▂▂▁▁▁▁▁▁▂▂▃▃▃▃▃▄▄▄▄▄▄▄▅▅</td></tr><tr><td>param/base_model.model.gpt_neox.layers.3.mlp.dense_h_to_4h.ia3_l.default/72</td><td>▂▂▁▁▁▁▂▃▂▃▃▃▅▅▅▆▇███▇▇▇▇▇▇▇▇▆▇▇▇▇▇▇▇▇▆▆▆</td></tr><tr><td>param/base_model.model.gpt_neox.layers.3.mlp.dense_h_to_4h.ia3_l.default/73</td><td>███▇▇▆▄▄▄▄▂▁▂▂▂▂▂▂▂▂▂▂▂▂▂▂▃▃▄▄▄▄▄▄▄▄▄▄▄▄</td></tr><tr><td>param/base_model.model.gpt_neox.layers.3.mlp.dense_h_to_4h.ia3_l.default/74</td><td>▁▁▁██▇▆▆▆▆▆▇▇▇▇▆▆▆▆▇▇██▇▇▇▇▇▇▇▇▆▆▆▆▆▆▆▆▆</td></tr><tr><td>param/base_model.model.gpt_neox.layers.3.mlp.dense_h_to_4h.ia3_l.default/75</td><td>▂▃▃█▇▁▁▁▂▂▂▂▂▂▂▂▂▂▃▃▃▃▃▃▃▃▃▃▃▃▃▃▃▃▃▃▃▂▂▂</td></tr><tr><td>param/base_model.model.gpt_neox.layers.3.mlp.dense_h_to_4h.ia3_l.default/76</td><td>▆▆▆▅▅█▅▃▃▄▄▃▃▄▅▃▂▁▁▁▁▁▁▂▁▁▁▁▁▁▁▁▁▂▂▂▂▂▂▂</td></tr><tr><td>param/base_model.model.gpt_neox.layers.3.mlp.dense_h_to_4h.ia3_l.default/77</td><td>▇▆▄▄▅▃▃▂▁▁▃▃▃▃▃▃▃▄▅▅▇▇▇▇▇▇█▇▇▇▇▇▇███████</td></tr><tr><td>param/base_model.model.gpt_neox.layers.3.mlp.dense_h_to_4h.ia3_l.default/78</td><td>▇███▇▃▂▂▂▂▁▁▁▂▂▃▃▃▄▄▄▄▄▄▄▄▄▄▄▄▄▄▄▄▄▄▄▄▄▄</td></tr><tr><td>param/base_model.model.gpt_neox.layers.3.mlp.dense_h_to_4h.ia3_l.default/79</td><td>▇██▄▂▁▂▂▂▂▃▄▄▄▄▄▅▅▅▅▄▄▄▄▄▄▄▄▄▄▄▄▄▄▄▄▄▄▄▄</td></tr><tr><td>param/base_model.model.gpt_neox.layers.3.mlp.dense_h_to_4h.ia3_l.default/8</td><td>▁▁▁▁▁▃▃▄▄▄▄▄▅▅▅▅▅▅▅▆▆▆▇▇▇▇▇▇▇▇██████████</td></tr><tr><td>param/base_model.model.gpt_neox.layers.3.mlp.dense_h_to_4h.ia3_l.default/80</td><td>▇████▇▅▄▄▃▃▃▃▃▂▂▂▂▂▁▁▁▁▁▁▁▁▁▁▁▁▁▁▁▁▁▁▁▁▁</td></tr><tr><td>param/base_model.model.gpt_neox.layers.3.mlp.dense_h_to_4h.ia3_l.default/81</td><td>▂▁▁▁▁▃▅█▇▇▆▆▆▆▆▅▅▅▅▅▅▅▅▅▅▄▄▄▄▄▄▄▄▄▄▄▄▃▃▃</td></tr><tr><td>param/base_model.model.gpt_neox.layers.3.mlp.dense_h_to_4h.ia3_l.default/82</td><td>▆▆▇▇███▇▆▆▅▅▄▄▅▅▅▅▅▅▄▄▃▃▃▂▁▁▁▁▁▁▁▁▁▁▁▁▁▁</td></tr><tr><td>param/base_model.model.gpt_neox.layers.3.mlp.dense_h_to_4h.ia3_l.default/83</td><td>█▇█▇▇█▃▂▂▂▂▁▁▁▁▁▁▁▁▁▁▂▂▂▂▂▃▃▃▃▄▄▄▅▅▅▅▅▅▅</td></tr><tr><td>param/base_model.model.gpt_neox.layers.3.mlp.dense_h_to_4h.ia3_l.default/84</td><td>▆▆▆▆██▇▇▅▃▂▁▁▁▂▃▃▃▃▃▄▄▄▅▄▅▅▅▅▅▅▅▅▅▅▅▅▅▅▅</td></tr><tr><td>param/base_model.model.gpt_neox.layers.3.mlp.dense_h_to_4h.ia3_l.default/85</td><td>█▇▇▇▇█▇▇▇▇▇▆▆▅▅▅▅▅▅▅▄▄▃▃▃▃▂▂▂▂▁▁▁▁▁▁▁▁▁▁</td></tr><tr><td>param/base_model.model.gpt_neox.layers.3.mlp.dense_h_to_4h.ia3_l.default/86</td><td>▂▂▂▃▃▃▁▂▂▃▃▃▃▄▄▆▆▆▇▇▇▇▇▇████████████████</td></tr><tr><td>param/base_model.model.gpt_neox.layers.3.mlp.dense_h_to_4h.ia3_l.default/87</td><td>▅▄▅▇███▆▆▅▆▆▆▅▅▅▅▅▅▅▄▄▄▃▃▂▂▁▁▁▁▁▁▁▁▁▁▁▁▁</td></tr><tr><td>param/base_model.model.gpt_neox.layers.3.mlp.dense_h_to_4h.ia3_l.default/88</td><td>▁▂▂▁▂▃▅▆▇▇▇▇███▇▇▅▅▄▄▄▄▄▄▃▄▄▄▄▄▄▄▄▄▅▅▅▅▅</td></tr><tr><td>param/base_model.model.gpt_neox.layers.3.mlp.dense_h_to_4h.ia3_l.default/89</td><td>██████▇▅▃▃▃▂▂▃▃▁▁▁▁▁▁▁▂▂▂▂▃▃▃▃▄▄▄▄▅▅▅▅▅▅</td></tr><tr><td>param/base_model.model.gpt_neox.layers.3.mlp.dense_h_to_4h.ia3_l.default/9</td><td>▁▁▁▂▂▂▆▇▆▇███▇▇▇▇▇▇▇▆▆▆▆▅▅▅▅▅▅▄▃▃▃▃▃▂▂▂▂</td></tr><tr><td>param/base_model.model.gpt_neox.layers.3.mlp.dense_h_to_4h.ia3_l.default/90</td><td>▆▆▇▇▇▁▁▃▃▃▄▄▄▄▄▄▄▄▄▄▅▅▅▆▆▇▇▇███████▇▇▇▇▇</td></tr><tr><td>param/base_model.model.gpt_neox.layers.3.mlp.dense_h_to_4h.ia3_l.default/91</td><td>▅▆▆▇▇█▇▅▄▃▂▂▂▂▂▂▁▂▂▁▁▁▁▁▁▁▁▁▁▁▁▂▂▁▁▁▁▂▁▁</td></tr><tr><td>param/base_model.model.gpt_neox.layers.3.mlp.dense_h_to_4h.ia3_l.default/92</td><td>▆▆██▆▃▃▃▃▃▄▃▃▃▂▂▂▂▂▂▁▁▁▁▁▁▂▂▂▂▃▃▃▃▃▄▄▄▄▄</td></tr><tr><td>param/base_model.model.gpt_neox.layers.3.mlp.dense_h_to_4h.ia3_l.default/93</td><td>▂▃▅▅▆█▇█▇▆▆▅▅▅▅▄▄▄▄▄▃▃▁▁▁▁▁▁▁▁▁▁▁▁▁▁▁▁▁▁</td></tr><tr><td>param/base_model.model.gpt_neox.layers.3.mlp.dense_h_to_4h.ia3_l.default/94</td><td>▇██▇▇▅▆▆▆▆▄▄▄▄▃▂▂▂▂▂▂▁▁▁▁▁▁▁▁▁▁▁▁▁▁▁▁▁▁▁</td></tr><tr><td>param/base_model.model.gpt_neox.layers.3.mlp.dense_h_to_4h.ia3_l.default/95</td><td>▁▁▁▁▁▂▂▂▃▅▇▇▇▇▇▇▇▇▇▇▆▆▇▇▇█████▇▇▇▇▇▇▇▇▇▇</td></tr><tr><td>param/base_model.model.gpt_neox.layers.3.mlp.dense_h_to_4h.ia3_l.default/96</td><td>▆▆▆▇▇█▇▆▆▅▅▅▅▅▅▅▄▄▄▃▃▂▂▁▁▁▁▁▁▁▁▁▁▁▁▁▁▁▁▁</td></tr><tr><td>param/base_model.model.gpt_neox.layers.3.mlp.dense_h_to_4h.ia3_l.default/97</td><td>███▇▇▂▁▁▁▁▁▂▂▂▂▃▃▃▄▄▄▄▄▄▄▅▅▅▅▆▆▆▆▆▆▆▆▆▆▆</td></tr><tr><td>param/base_model.model.gpt_neox.layers.3.mlp.dense_h_to_4h.ia3_l.default/98</td><td>██▇▇▇▂▁▂▂▂▃▃▃▃▃▃▃▃▃▃▃▃▃▄▄▄▄▄▄▄▅▅▅▅▅▅▅▅▅▅</td></tr><tr><td>param/base_model.model.gpt_neox.layers.3.mlp.dense_h_to_4h.ia3_l.default/99</td><td>▁▂▂▂▁▁▂▂▃▄▇▇▇█████▇▇▇▇▇▇▇▇▇▇▇▇▇▇▇▇▇▇▇▇▇▇</td></tr><tr><td>peft_params/base_model.model.gpt_neox.layers.3.mlp.dense_h_to_4h.ia3_l.default/max</td><td>▁▂▂▃▄▇▇▇▇▇██████████████▇▇▇▇▇▇▇▇▇▇▇▇▇▇▇▇</td></tr><tr><td>peft_params/base_model.model.gpt_neox.layers.3.mlp.dense_h_to_4h.ia3_l.default/mean</td><td>███▇▃▂▂▂▂▂▂▂▂▂▂▁▁▁▁▁▁▁▁▁▁▁▁▁▁▁▁▁▁▁▁▁▁▁▁▁</td></tr><tr><td>peft_params/base_model.model.gpt_neox.layers.3.mlp.dense_h_to_4h.ia3_l.default/min</td><td>██▇▇▅▃▃▃▃▂▃▃▃▃▃▃▃▃▃▃▂▂▂▂▂▂▂▂▂▁▁▁▁▁▁▁▁▁▁▁</td></tr><tr><td>peft_params/base_model.model.gpt_neox.layers.3.mlp.dense_h_to_4h.ia3_l.default/std</td><td>▁▁▂▂▅▇▇▇▇▇▇▇▇▇▇▇▇▇▇▇████████████████████</td></tr><tr><td>train/epoch</td><td>▁▁▁▁▂▂▂▂▂▂▂▂▃▃▃▃▃▃▄▄▄▄▅▅▅▅▅▅▆▆▆▆▆▇▇▇▇███</td></tr><tr><td>train/global_step</td><td>▁▁▁▁▁▂▂▂▂▂▂▃▃▃▃▃▄▄▄▄▄▅▅▅▅▆▆▆▆▆▇▇▇▇▇▇▇███</td></tr><tr><td>train/grad_norm</td><td>▁▁▁▁▂▃▃▃█▂▃▂▂▃▂▂▂▂▂▂▁▂▂▂▂▁▂▂▂▂▂▁▁▂▁▁▁▁▁▁</td></tr><tr><td>train/learning_rate</td><td>████▇▇▇▇▇▇▇▆▆▆▆▅▅▅▄▄▄▄▄▄▄▃▃▃▃▃▂▂▂▂▂▂▂▁▁▁</td></tr><tr><td>train/loss</td><td>██████▂▂▂▂▂▂▂▂▂▂▂▁▁▁▁▁▁▁▁▁▁▁▁▁▁▁▁▁▁▁▁▁▁▁</td></tr><tr><td>train/mean_token_accuracy</td><td>████▁▃▂▂▂▂▂▂▂▂▂▂▂▂▂▂▂▂▂▂▂▂▂▂▂▂▂▂▂▂▂▂▂▂▂▂</td></tr><tr><td>train/num_tokens</td><td>▁▁▁▁▁▂▂▂▃▃▃▄▄▄▄▄▄▄▅▅▅▅▅▅▅▆▆▆▆▆▆▇▇▇▇▇▇▇██</td></tr><tr><td>trainable_parameters</td><td>▁</td></tr></table><br/></div><div class=\"wandb-col\"><h3>Run summary:</h3><br/><table class=\"wandb\"><tr><td>param/base_model.model.gpt_neox.layers.3.mlp.dense_h_to_4h.ia3_l.default/0</td><td>2.50564</td></tr><tr><td>param/base_model.model.gpt_neox.layers.3.mlp.dense_h_to_4h.ia3_l.default/1</td><td>-1.63776</td></tr><tr><td>param/base_model.model.gpt_neox.layers.3.mlp.dense_h_to_4h.ia3_l.default/10</td><td>0.29747</td></tr><tr><td>param/base_model.model.gpt_neox.layers.3.mlp.dense_h_to_4h.ia3_l.default/100</td><td>0.39007</td></tr><tr><td>param/base_model.model.gpt_neox.layers.3.mlp.dense_h_to_4h.ia3_l.default/101</td><td>0.98364</td></tr><tr><td>param/base_model.model.gpt_neox.layers.3.mlp.dense_h_to_4h.ia3_l.default/102</td><td>0.48715</td></tr><tr><td>param/base_model.model.gpt_neox.layers.3.mlp.dense_h_to_4h.ia3_l.default/103</td><td>-0.04163</td></tr><tr><td>param/base_model.model.gpt_neox.layers.3.mlp.dense_h_to_4h.ia3_l.default/104</td><td>0.75127</td></tr><tr><td>param/base_model.model.gpt_neox.layers.3.mlp.dense_h_to_4h.ia3_l.default/105</td><td>1.50106</td></tr><tr><td>param/base_model.model.gpt_neox.layers.3.mlp.dense_h_to_4h.ia3_l.default/106</td><td>0.60538</td></tr><tr><td>param/base_model.model.gpt_neox.layers.3.mlp.dense_h_to_4h.ia3_l.default/107</td><td>0.94376</td></tr><tr><td>param/base_model.model.gpt_neox.layers.3.mlp.dense_h_to_4h.ia3_l.default/108</td><td>1.2021</td></tr><tr><td>param/base_model.model.gpt_neox.layers.3.mlp.dense_h_to_4h.ia3_l.default/109</td><td>1.33394</td></tr><tr><td>param/base_model.model.gpt_neox.layers.3.mlp.dense_h_to_4h.ia3_l.default/11</td><td>0.58175</td></tr><tr><td>param/base_model.model.gpt_neox.layers.3.mlp.dense_h_to_4h.ia3_l.default/110</td><td>3.10902</td></tr><tr><td>param/base_model.model.gpt_neox.layers.3.mlp.dense_h_to_4h.ia3_l.default/111</td><td>2.49607</td></tr><tr><td>param/base_model.model.gpt_neox.layers.3.mlp.dense_h_to_4h.ia3_l.default/112</td><td>0.21039</td></tr><tr><td>param/base_model.model.gpt_neox.layers.3.mlp.dense_h_to_4h.ia3_l.default/113</td><td>1.42201</td></tr><tr><td>param/base_model.model.gpt_neox.layers.3.mlp.dense_h_to_4h.ia3_l.default/114</td><td>0.78453</td></tr><tr><td>param/base_model.model.gpt_neox.layers.3.mlp.dense_h_to_4h.ia3_l.default/115</td><td>0.63952</td></tr><tr><td>param/base_model.model.gpt_neox.layers.3.mlp.dense_h_to_4h.ia3_l.default/116</td><td>1.46158</td></tr><tr><td>param/base_model.model.gpt_neox.layers.3.mlp.dense_h_to_4h.ia3_l.default/117</td><td>0.18034</td></tr><tr><td>param/base_model.model.gpt_neox.layers.3.mlp.dense_h_to_4h.ia3_l.default/118</td><td>-2.07223</td></tr><tr><td>param/base_model.model.gpt_neox.layers.3.mlp.dense_h_to_4h.ia3_l.default/119</td><td>2.03685</td></tr><tr><td>param/base_model.model.gpt_neox.layers.3.mlp.dense_h_to_4h.ia3_l.default/12</td><td>1.89755</td></tr><tr><td>param/base_model.model.gpt_neox.layers.3.mlp.dense_h_to_4h.ia3_l.default/120</td><td>1.31068</td></tr><tr><td>param/base_model.model.gpt_neox.layers.3.mlp.dense_h_to_4h.ia3_l.default/121</td><td>1.03886</td></tr><tr><td>param/base_model.model.gpt_neox.layers.3.mlp.dense_h_to_4h.ia3_l.default/122</td><td>1.57277</td></tr><tr><td>param/base_model.model.gpt_neox.layers.3.mlp.dense_h_to_4h.ia3_l.default/123</td><td>0.26132</td></tr><tr><td>param/base_model.model.gpt_neox.layers.3.mlp.dense_h_to_4h.ia3_l.default/124</td><td>0.10591</td></tr><tr><td>param/base_model.model.gpt_neox.layers.3.mlp.dense_h_to_4h.ia3_l.default/125</td><td>0.65075</td></tr><tr><td>param/base_model.model.gpt_neox.layers.3.mlp.dense_h_to_4h.ia3_l.default/126</td><td>1.47774</td></tr><tr><td>param/base_model.model.gpt_neox.layers.3.mlp.dense_h_to_4h.ia3_l.default/127</td><td>0.94512</td></tr><tr><td>param/base_model.model.gpt_neox.layers.3.mlp.dense_h_to_4h.ia3_l.default/128</td><td>0.36016</td></tr><tr><td>param/base_model.model.gpt_neox.layers.3.mlp.dense_h_to_4h.ia3_l.default/129</td><td>-0.46692</td></tr><tr><td>param/base_model.model.gpt_neox.layers.3.mlp.dense_h_to_4h.ia3_l.default/13</td><td>0.63004</td></tr><tr><td>param/base_model.model.gpt_neox.layers.3.mlp.dense_h_to_4h.ia3_l.default/130</td><td>1.66406</td></tr><tr><td>param/base_model.model.gpt_neox.layers.3.mlp.dense_h_to_4h.ia3_l.default/131</td><td>0.80651</td></tr><tr><td>param/base_model.model.gpt_neox.layers.3.mlp.dense_h_to_4h.ia3_l.default/132</td><td>1.22045</td></tr><tr><td>param/base_model.model.gpt_neox.layers.3.mlp.dense_h_to_4h.ia3_l.default/133</td><td>-0.68519</td></tr><tr><td>param/base_model.model.gpt_neox.layers.3.mlp.dense_h_to_4h.ia3_l.default/134</td><td>3.79606</td></tr><tr><td>param/base_model.model.gpt_neox.layers.3.mlp.dense_h_to_4h.ia3_l.default/135</td><td>1.4105</td></tr><tr><td>param/base_model.model.gpt_neox.layers.3.mlp.dense_h_to_4h.ia3_l.default/136</td><td>0.98071</td></tr><tr><td>param/base_model.model.gpt_neox.layers.3.mlp.dense_h_to_4h.ia3_l.default/137</td><td>1.84334</td></tr><tr><td>param/base_model.model.gpt_neox.layers.3.mlp.dense_h_to_4h.ia3_l.default/138</td><td>-0.1917</td></tr><tr><td>param/base_model.model.gpt_neox.layers.3.mlp.dense_h_to_4h.ia3_l.default/139</td><td>0.48488</td></tr><tr><td>param/base_model.model.gpt_neox.layers.3.mlp.dense_h_to_4h.ia3_l.default/14</td><td>0.61018</td></tr><tr><td>param/base_model.model.gpt_neox.layers.3.mlp.dense_h_to_4h.ia3_l.default/140</td><td>1.17831</td></tr><tr><td>param/base_model.model.gpt_neox.layers.3.mlp.dense_h_to_4h.ia3_l.default/141</td><td>0.96165</td></tr><tr><td>param/base_model.model.gpt_neox.layers.3.mlp.dense_h_to_4h.ia3_l.default/142</td><td>1.10176</td></tr><tr><td>param/base_model.model.gpt_neox.layers.3.mlp.dense_h_to_4h.ia3_l.default/143</td><td>1.02559</td></tr><tr><td>param/base_model.model.gpt_neox.layers.3.mlp.dense_h_to_4h.ia3_l.default/144</td><td>-0.37793</td></tr><tr><td>param/base_model.model.gpt_neox.layers.3.mlp.dense_h_to_4h.ia3_l.default/145</td><td>1.88083</td></tr><tr><td>param/base_model.model.gpt_neox.layers.3.mlp.dense_h_to_4h.ia3_l.default/146</td><td>2.08456</td></tr><tr><td>param/base_model.model.gpt_neox.layers.3.mlp.dense_h_to_4h.ia3_l.default/147</td><td>0.6363</td></tr><tr><td>param/base_model.model.gpt_neox.layers.3.mlp.dense_h_to_4h.ia3_l.default/148</td><td>-1.22145</td></tr><tr><td>param/base_model.model.gpt_neox.layers.3.mlp.dense_h_to_4h.ia3_l.default/149</td><td>-0.20231</td></tr><tr><td>param/base_model.model.gpt_neox.layers.3.mlp.dense_h_to_4h.ia3_l.default/15</td><td>2.34069</td></tr><tr><td>param/base_model.model.gpt_neox.layers.3.mlp.dense_h_to_4h.ia3_l.default/150</td><td>1.13517</td></tr><tr><td>param/base_model.model.gpt_neox.layers.3.mlp.dense_h_to_4h.ia3_l.default/151</td><td>1.14039</td></tr><tr><td>param/base_model.model.gpt_neox.layers.3.mlp.dense_h_to_4h.ia3_l.default/152</td><td>0.4565</td></tr><tr><td>param/base_model.model.gpt_neox.layers.3.mlp.dense_h_to_4h.ia3_l.default/153</td><td>1.48806</td></tr><tr><td>param/base_model.model.gpt_neox.layers.3.mlp.dense_h_to_4h.ia3_l.default/154</td><td>0.96379</td></tr><tr><td>param/base_model.model.gpt_neox.layers.3.mlp.dense_h_to_4h.ia3_l.default/155</td><td>1.69284</td></tr><tr><td>param/base_model.model.gpt_neox.layers.3.mlp.dense_h_to_4h.ia3_l.default/156</td><td>1.46736</td></tr><tr><td>param/base_model.model.gpt_neox.layers.3.mlp.dense_h_to_4h.ia3_l.default/157</td><td>0.10036</td></tr><tr><td>param/base_model.model.gpt_neox.layers.3.mlp.dense_h_to_4h.ia3_l.default/158</td><td>1.1098</td></tr><tr><td>param/base_model.model.gpt_neox.layers.3.mlp.dense_h_to_4h.ia3_l.default/159</td><td>-0.14339</td></tr><tr><td>param/base_model.model.gpt_neox.layers.3.mlp.dense_h_to_4h.ia3_l.default/16</td><td>1.01889</td></tr><tr><td>param/base_model.model.gpt_neox.layers.3.mlp.dense_h_to_4h.ia3_l.default/160</td><td>0.58751</td></tr><tr><td>param/base_model.model.gpt_neox.layers.3.mlp.dense_h_to_4h.ia3_l.default/161</td><td>1.36798</td></tr><tr><td>param/base_model.model.gpt_neox.layers.3.mlp.dense_h_to_4h.ia3_l.default/162</td><td>0.90718</td></tr><tr><td>param/base_model.model.gpt_neox.layers.3.mlp.dense_h_to_4h.ia3_l.default/163</td><td>0.7913</td></tr><tr><td>param/base_model.model.gpt_neox.layers.3.mlp.dense_h_to_4h.ia3_l.default/164</td><td>1.54498</td></tr><tr><td>param/base_model.model.gpt_neox.layers.3.mlp.dense_h_to_4h.ia3_l.default/165</td><td>1.15784</td></tr><tr><td>param/base_model.model.gpt_neox.layers.3.mlp.dense_h_to_4h.ia3_l.default/166</td><td>0.46977</td></tr><tr><td>param/base_model.model.gpt_neox.layers.3.mlp.dense_h_to_4h.ia3_l.default/167</td><td>1.34564</td></tr><tr><td>param/base_model.model.gpt_neox.layers.3.mlp.dense_h_to_4h.ia3_l.default/168</td><td>1.53573</td></tr><tr><td>param/base_model.model.gpt_neox.layers.3.mlp.dense_h_to_4h.ia3_l.default/169</td><td>1.3618</td></tr><tr><td>param/base_model.model.gpt_neox.layers.3.mlp.dense_h_to_4h.ia3_l.default/17</td><td>-0.86351</td></tr><tr><td>param/base_model.model.gpt_neox.layers.3.mlp.dense_h_to_4h.ia3_l.default/170</td><td>1.91295</td></tr><tr><td>param/base_model.model.gpt_neox.layers.3.mlp.dense_h_to_4h.ia3_l.default/171</td><td>1.31117</td></tr><tr><td>param/base_model.model.gpt_neox.layers.3.mlp.dense_h_to_4h.ia3_l.default/172</td><td>-0.27122</td></tr><tr><td>param/base_model.model.gpt_neox.layers.3.mlp.dense_h_to_4h.ia3_l.default/173</td><td>0.57565</td></tr><tr><td>param/base_model.model.gpt_neox.layers.3.mlp.dense_h_to_4h.ia3_l.default/174</td><td>0.53745</td></tr><tr><td>param/base_model.model.gpt_neox.layers.3.mlp.dense_h_to_4h.ia3_l.default/175</td><td>-0.19762</td></tr><tr><td>param/base_model.model.gpt_neox.layers.3.mlp.dense_h_to_4h.ia3_l.default/176</td><td>1.03126</td></tr><tr><td>param/base_model.model.gpt_neox.layers.3.mlp.dense_h_to_4h.ia3_l.default/177</td><td>0.0648</td></tr><tr><td>param/base_model.model.gpt_neox.layers.3.mlp.dense_h_to_4h.ia3_l.default/178</td><td>-1.21538</td></tr><tr><td>param/base_model.model.gpt_neox.layers.3.mlp.dense_h_to_4h.ia3_l.default/179</td><td>1.4252</td></tr><tr><td>param/base_model.model.gpt_neox.layers.3.mlp.dense_h_to_4h.ia3_l.default/18</td><td>0.49328</td></tr><tr><td>param/base_model.model.gpt_neox.layers.3.mlp.dense_h_to_4h.ia3_l.default/180</td><td>1.67299</td></tr><tr><td>param/base_model.model.gpt_neox.layers.3.mlp.dense_h_to_4h.ia3_l.default/181</td><td>1.72921</td></tr><tr><td>param/base_model.model.gpt_neox.layers.3.mlp.dense_h_to_4h.ia3_l.default/182</td><td>0.59238</td></tr><tr><td>param/base_model.model.gpt_neox.layers.3.mlp.dense_h_to_4h.ia3_l.default/183</td><td>1.84888</td></tr><tr><td>param/base_model.model.gpt_neox.layers.3.mlp.dense_h_to_4h.ia3_l.default/184</td><td>0.0968</td></tr><tr><td>param/base_model.model.gpt_neox.layers.3.mlp.dense_h_to_4h.ia3_l.default/185</td><td>1.45298</td></tr><tr><td>param/base_model.model.gpt_neox.layers.3.mlp.dense_h_to_4h.ia3_l.default/186</td><td>1.17074</td></tr><tr><td>param/base_model.model.gpt_neox.layers.3.mlp.dense_h_to_4h.ia3_l.default/187</td><td>0.91628</td></tr><tr><td>param/base_model.model.gpt_neox.layers.3.mlp.dense_h_to_4h.ia3_l.default/188</td><td>1.03418</td></tr><tr><td>param/base_model.model.gpt_neox.layers.3.mlp.dense_h_to_4h.ia3_l.default/189</td><td>1.45999</td></tr><tr><td>param/base_model.model.gpt_neox.layers.3.mlp.dense_h_to_4h.ia3_l.default/19</td><td>1.09811</td></tr><tr><td>param/base_model.model.gpt_neox.layers.3.mlp.dense_h_to_4h.ia3_l.default/190</td><td>0.56179</td></tr><tr><td>param/base_model.model.gpt_neox.layers.3.mlp.dense_h_to_4h.ia3_l.default/191</td><td>1.46185</td></tr><tr><td>param/base_model.model.gpt_neox.layers.3.mlp.dense_h_to_4h.ia3_l.default/192</td><td>-0.59564</td></tr><tr><td>param/base_model.model.gpt_neox.layers.3.mlp.dense_h_to_4h.ia3_l.default/193</td><td>0.69814</td></tr><tr><td>param/base_model.model.gpt_neox.layers.3.mlp.dense_h_to_4h.ia3_l.default/194</td><td>0.61319</td></tr><tr><td>param/base_model.model.gpt_neox.layers.3.mlp.dense_h_to_4h.ia3_l.default/195</td><td>-0.37027</td></tr><tr><td>param/base_model.model.gpt_neox.layers.3.mlp.dense_h_to_4h.ia3_l.default/196</td><td>0.77482</td></tr><tr><td>param/base_model.model.gpt_neox.layers.3.mlp.dense_h_to_4h.ia3_l.default/197</td><td>1.11084</td></tr><tr><td>param/base_model.model.gpt_neox.layers.3.mlp.dense_h_to_4h.ia3_l.default/198</td><td>1.29667</td></tr><tr><td>param/base_model.model.gpt_neox.layers.3.mlp.dense_h_to_4h.ia3_l.default/199</td><td>-1.93268</td></tr><tr><td>param/base_model.model.gpt_neox.layers.3.mlp.dense_h_to_4h.ia3_l.default/2</td><td>0.48525</td></tr><tr><td>param/base_model.model.gpt_neox.layers.3.mlp.dense_h_to_4h.ia3_l.default/20</td><td>1.5257</td></tr><tr><td>param/base_model.model.gpt_neox.layers.3.mlp.dense_h_to_4h.ia3_l.default/200</td><td>0.93572</td></tr><tr><td>param/base_model.model.gpt_neox.layers.3.mlp.dense_h_to_4h.ia3_l.default/201</td><td>2.12802</td></tr><tr><td>param/base_model.model.gpt_neox.layers.3.mlp.dense_h_to_4h.ia3_l.default/202</td><td>0.69291</td></tr><tr><td>param/base_model.model.gpt_neox.layers.3.mlp.dense_h_to_4h.ia3_l.default/203</td><td>-0.12246</td></tr><tr><td>param/base_model.model.gpt_neox.layers.3.mlp.dense_h_to_4h.ia3_l.default/204</td><td>1.29593</td></tr><tr><td>param/base_model.model.gpt_neox.layers.3.mlp.dense_h_to_4h.ia3_l.default/205</td><td>1.84389</td></tr><tr><td>param/base_model.model.gpt_neox.layers.3.mlp.dense_h_to_4h.ia3_l.default/206</td><td>1.13355</td></tr><tr><td>param/base_model.model.gpt_neox.layers.3.mlp.dense_h_to_4h.ia3_l.default/207</td><td>-0.06899</td></tr><tr><td>param/base_model.model.gpt_neox.layers.3.mlp.dense_h_to_4h.ia3_l.default/208</td><td>2.09132</td></tr><tr><td>param/base_model.model.gpt_neox.layers.3.mlp.dense_h_to_4h.ia3_l.default/209</td><td>0.20738</td></tr><tr><td>param/base_model.model.gpt_neox.layers.3.mlp.dense_h_to_4h.ia3_l.default/21</td><td>-0.01852</td></tr><tr><td>param/base_model.model.gpt_neox.layers.3.mlp.dense_h_to_4h.ia3_l.default/210</td><td>-0.68719</td></tr><tr><td>param/base_model.model.gpt_neox.layers.3.mlp.dense_h_to_4h.ia3_l.default/211</td><td>1.07098</td></tr><tr><td>param/base_model.model.gpt_neox.layers.3.mlp.dense_h_to_4h.ia3_l.default/212</td><td>1.05776</td></tr><tr><td>param/base_model.model.gpt_neox.layers.3.mlp.dense_h_to_4h.ia3_l.default/213</td><td>-0.44641</td></tr><tr><td>param/base_model.model.gpt_neox.layers.3.mlp.dense_h_to_4h.ia3_l.default/214</td><td>-1.10547</td></tr><tr><td>param/base_model.model.gpt_neox.layers.3.mlp.dense_h_to_4h.ia3_l.default/215</td><td>0.383</td></tr><tr><td>param/base_model.model.gpt_neox.layers.3.mlp.dense_h_to_4h.ia3_l.default/216</td><td>-0.11373</td></tr><tr><td>param/base_model.model.gpt_neox.layers.3.mlp.dense_h_to_4h.ia3_l.default/217</td><td>1.23447</td></tr><tr><td>param/base_model.model.gpt_neox.layers.3.mlp.dense_h_to_4h.ia3_l.default/218</td><td>0.18649</td></tr><tr><td>param/base_model.model.gpt_neox.layers.3.mlp.dense_h_to_4h.ia3_l.default/219</td><td>1.11327</td></tr><tr><td>param/base_model.model.gpt_neox.layers.3.mlp.dense_h_to_4h.ia3_l.default/22</td><td>-0.16663</td></tr><tr><td>param/base_model.model.gpt_neox.layers.3.mlp.dense_h_to_4h.ia3_l.default/220</td><td>1.06081</td></tr><tr><td>param/base_model.model.gpt_neox.layers.3.mlp.dense_h_to_4h.ia3_l.default/221</td><td>1.545</td></tr><tr><td>param/base_model.model.gpt_neox.layers.3.mlp.dense_h_to_4h.ia3_l.default/222</td><td>1.89423</td></tr><tr><td>param/base_model.model.gpt_neox.layers.3.mlp.dense_h_to_4h.ia3_l.default/223</td><td>1.74254</td></tr><tr><td>param/base_model.model.gpt_neox.layers.3.mlp.dense_h_to_4h.ia3_l.default/224</td><td>1.71476</td></tr><tr><td>param/base_model.model.gpt_neox.layers.3.mlp.dense_h_to_4h.ia3_l.default/225</td><td>3.88284</td></tr><tr><td>param/base_model.model.gpt_neox.layers.3.mlp.dense_h_to_4h.ia3_l.default/226</td><td>1.88931</td></tr><tr><td>param/base_model.model.gpt_neox.layers.3.mlp.dense_h_to_4h.ia3_l.default/227</td><td>0.85126</td></tr><tr><td>param/base_model.model.gpt_neox.layers.3.mlp.dense_h_to_4h.ia3_l.default/228</td><td>-0.17725</td></tr><tr><td>param/base_model.model.gpt_neox.layers.3.mlp.dense_h_to_4h.ia3_l.default/229</td><td>0.29073</td></tr><tr><td>param/base_model.model.gpt_neox.layers.3.mlp.dense_h_to_4h.ia3_l.default/23</td><td>0.40822</td></tr><tr><td>param/base_model.model.gpt_neox.layers.3.mlp.dense_h_to_4h.ia3_l.default/230</td><td>1.50202</td></tr><tr><td>param/base_model.model.gpt_neox.layers.3.mlp.dense_h_to_4h.ia3_l.default/231</td><td>0.02263</td></tr><tr><td>param/base_model.model.gpt_neox.layers.3.mlp.dense_h_to_4h.ia3_l.default/232</td><td>0.98769</td></tr><tr><td>param/base_model.model.gpt_neox.layers.3.mlp.dense_h_to_4h.ia3_l.default/233</td><td>1.37596</td></tr><tr><td>param/base_model.model.gpt_neox.layers.3.mlp.dense_h_to_4h.ia3_l.default/234</td><td>-0.86304</td></tr><tr><td>param/base_model.model.gpt_neox.layers.3.mlp.dense_h_to_4h.ia3_l.default/235</td><td>0.82184</td></tr><tr><td>param/base_model.model.gpt_neox.layers.3.mlp.dense_h_to_4h.ia3_l.default/236</td><td>2.30908</td></tr><tr><td>param/base_model.model.gpt_neox.layers.3.mlp.dense_h_to_4h.ia3_l.default/237</td><td>1.36456</td></tr><tr><td>param/base_model.model.gpt_neox.layers.3.mlp.dense_h_to_4h.ia3_l.default/238</td><td>0.43284</td></tr><tr><td>param/base_model.model.gpt_neox.layers.3.mlp.dense_h_to_4h.ia3_l.default/239</td><td>-0.42626</td></tr><tr><td>param/base_model.model.gpt_neox.layers.3.mlp.dense_h_to_4h.ia3_l.default/24</td><td>0.67576</td></tr><tr><td>param/base_model.model.gpt_neox.layers.3.mlp.dense_h_to_4h.ia3_l.default/240</td><td>1.4774</td></tr><tr><td>param/base_model.model.gpt_neox.layers.3.mlp.dense_h_to_4h.ia3_l.default/241</td><td>0.85374</td></tr><tr><td>param/base_model.model.gpt_neox.layers.3.mlp.dense_h_to_4h.ia3_l.default/242</td><td>1.1766</td></tr><tr><td>param/base_model.model.gpt_neox.layers.3.mlp.dense_h_to_4h.ia3_l.default/243</td><td>1.37321</td></tr><tr><td>param/base_model.model.gpt_neox.layers.3.mlp.dense_h_to_4h.ia3_l.default/244</td><td>-0.18926</td></tr><tr><td>param/base_model.model.gpt_neox.layers.3.mlp.dense_h_to_4h.ia3_l.default/245</td><td>3.84301</td></tr><tr><td>param/base_model.model.gpt_neox.layers.3.mlp.dense_h_to_4h.ia3_l.default/246</td><td>1.2063</td></tr><tr><td>param/base_model.model.gpt_neox.layers.3.mlp.dense_h_to_4h.ia3_l.default/247</td><td>1.36851</td></tr><tr><td>param/base_model.model.gpt_neox.layers.3.mlp.dense_h_to_4h.ia3_l.default/248</td><td>-0.15052</td></tr><tr><td>param/base_model.model.gpt_neox.layers.3.mlp.dense_h_to_4h.ia3_l.default/249</td><td>-1.37243</td></tr><tr><td>param/base_model.model.gpt_neox.layers.3.mlp.dense_h_to_4h.ia3_l.default/25</td><td>0.33186</td></tr><tr><td>param/base_model.model.gpt_neox.layers.3.mlp.dense_h_to_4h.ia3_l.default/250</td><td>0.92308</td></tr><tr><td>param/base_model.model.gpt_neox.layers.3.mlp.dense_h_to_4h.ia3_l.default/251</td><td>1.88027</td></tr><tr><td>param/base_model.model.gpt_neox.layers.3.mlp.dense_h_to_4h.ia3_l.default/252</td><td>2.059</td></tr><tr><td>param/base_model.model.gpt_neox.layers.3.mlp.dense_h_to_4h.ia3_l.default/253</td><td>0.40695</td></tr><tr><td>param/base_model.model.gpt_neox.layers.3.mlp.dense_h_to_4h.ia3_l.default/254</td><td>0.70299</td></tr><tr><td>param/base_model.model.gpt_neox.layers.3.mlp.dense_h_to_4h.ia3_l.default/255</td><td>-0.08577</td></tr><tr><td>param/base_model.model.gpt_neox.layers.3.mlp.dense_h_to_4h.ia3_l.default/256</td><td>0.71226</td></tr><tr><td>param/base_model.model.gpt_neox.layers.3.mlp.dense_h_to_4h.ia3_l.default/257</td><td>1.08275</td></tr><tr><td>param/base_model.model.gpt_neox.layers.3.mlp.dense_h_to_4h.ia3_l.default/258</td><td>-0.86395</td></tr><tr><td>param/base_model.model.gpt_neox.layers.3.mlp.dense_h_to_4h.ia3_l.default/259</td><td>0.97771</td></tr><tr><td>param/base_model.model.gpt_neox.layers.3.mlp.dense_h_to_4h.ia3_l.default/26</td><td>1.63883</td></tr><tr><td>param/base_model.model.gpt_neox.layers.3.mlp.dense_h_to_4h.ia3_l.default/260</td><td>1.15434</td></tr><tr><td>param/base_model.model.gpt_neox.layers.3.mlp.dense_h_to_4h.ia3_l.default/261</td><td>0.10181</td></tr><tr><td>param/base_model.model.gpt_neox.layers.3.mlp.dense_h_to_4h.ia3_l.default/262</td><td>0.35683</td></tr><tr><td>param/base_model.model.gpt_neox.layers.3.mlp.dense_h_to_4h.ia3_l.default/263</td><td>0.43194</td></tr><tr><td>param/base_model.model.gpt_neox.layers.3.mlp.dense_h_to_4h.ia3_l.default/264</td><td>-0.73042</td></tr><tr><td>param/base_model.model.gpt_neox.layers.3.mlp.dense_h_to_4h.ia3_l.default/265</td><td>-1.38129</td></tr><tr><td>param/base_model.model.gpt_neox.layers.3.mlp.dense_h_to_4h.ia3_l.default/266</td><td>1.23165</td></tr><tr><td>param/base_model.model.gpt_neox.layers.3.mlp.dense_h_to_4h.ia3_l.default/267</td><td>-0.60762</td></tr><tr><td>param/base_model.model.gpt_neox.layers.3.mlp.dense_h_to_4h.ia3_l.default/268</td><td>-0.20727</td></tr><tr><td>param/base_model.model.gpt_neox.layers.3.mlp.dense_h_to_4h.ia3_l.default/269</td><td>0.07492</td></tr><tr><td>param/base_model.model.gpt_neox.layers.3.mlp.dense_h_to_4h.ia3_l.default/27</td><td>0.96128</td></tr><tr><td>param/base_model.model.gpt_neox.layers.3.mlp.dense_h_to_4h.ia3_l.default/270</td><td>1.00052</td></tr><tr><td>param/base_model.model.gpt_neox.layers.3.mlp.dense_h_to_4h.ia3_l.default/271</td><td>1.38596</td></tr><tr><td>param/base_model.model.gpt_neox.layers.3.mlp.dense_h_to_4h.ia3_l.default/272</td><td>1.02216</td></tr><tr><td>param/base_model.model.gpt_neox.layers.3.mlp.dense_h_to_4h.ia3_l.default/273</td><td>0.65854</td></tr><tr><td>param/base_model.model.gpt_neox.layers.3.mlp.dense_h_to_4h.ia3_l.default/274</td><td>1.56754</td></tr><tr><td>param/base_model.model.gpt_neox.layers.3.mlp.dense_h_to_4h.ia3_l.default/275</td><td>-0.04326</td></tr><tr><td>param/base_model.model.gpt_neox.layers.3.mlp.dense_h_to_4h.ia3_l.default/276</td><td>-0.06553</td></tr><tr><td>param/base_model.model.gpt_neox.layers.3.mlp.dense_h_to_4h.ia3_l.default/277</td><td>2.17989</td></tr><tr><td>param/base_model.model.gpt_neox.layers.3.mlp.dense_h_to_4h.ia3_l.default/278</td><td>-0.20663</td></tr><tr><td>param/base_model.model.gpt_neox.layers.3.mlp.dense_h_to_4h.ia3_l.default/279</td><td>-0.73725</td></tr><tr><td>param/base_model.model.gpt_neox.layers.3.mlp.dense_h_to_4h.ia3_l.default/28</td><td>0.36786</td></tr><tr><td>param/base_model.model.gpt_neox.layers.3.mlp.dense_h_to_4h.ia3_l.default/280</td><td>3.6677</td></tr><tr><td>param/base_model.model.gpt_neox.layers.3.mlp.dense_h_to_4h.ia3_l.default/281</td><td>0.30463</td></tr><tr><td>param/base_model.model.gpt_neox.layers.3.mlp.dense_h_to_4h.ia3_l.default/282</td><td>1.19664</td></tr><tr><td>param/base_model.model.gpt_neox.layers.3.mlp.dense_h_to_4h.ia3_l.default/283</td><td>0.55227</td></tr><tr><td>param/base_model.model.gpt_neox.layers.3.mlp.dense_h_to_4h.ia3_l.default/284</td><td>0.85017</td></tr><tr><td>param/base_model.model.gpt_neox.layers.3.mlp.dense_h_to_4h.ia3_l.default/285</td><td>0.23339</td></tr><tr><td>param/base_model.model.gpt_neox.layers.3.mlp.dense_h_to_4h.ia3_l.default/286</td><td>0.92032</td></tr><tr><td>param/base_model.model.gpt_neox.layers.3.mlp.dense_h_to_4h.ia3_l.default/287</td><td>0.89607</td></tr><tr><td>param/base_model.model.gpt_neox.layers.3.mlp.dense_h_to_4h.ia3_l.default/288</td><td>-0.90814</td></tr><tr><td>param/base_model.model.gpt_neox.layers.3.mlp.dense_h_to_4h.ia3_l.default/289</td><td>1.22369</td></tr><tr><td>param/base_model.model.gpt_neox.layers.3.mlp.dense_h_to_4h.ia3_l.default/29</td><td>-1.47226</td></tr><tr><td>param/base_model.model.gpt_neox.layers.3.mlp.dense_h_to_4h.ia3_l.default/290</td><td>0.55326</td></tr><tr><td>param/base_model.model.gpt_neox.layers.3.mlp.dense_h_to_4h.ia3_l.default/291</td><td>1.22693</td></tr><tr><td>param/base_model.model.gpt_neox.layers.3.mlp.dense_h_to_4h.ia3_l.default/292</td><td>1.69778</td></tr><tr><td>param/base_model.model.gpt_neox.layers.3.mlp.dense_h_to_4h.ia3_l.default/293</td><td>1.23998</td></tr><tr><td>param/base_model.model.gpt_neox.layers.3.mlp.dense_h_to_4h.ia3_l.default/294</td><td>-0.0048</td></tr><tr><td>param/base_model.model.gpt_neox.layers.3.mlp.dense_h_to_4h.ia3_l.default/295</td><td>0.34554</td></tr><tr><td>param/base_model.model.gpt_neox.layers.3.mlp.dense_h_to_4h.ia3_l.default/296</td><td>1.66068</td></tr><tr><td>param/base_model.model.gpt_neox.layers.3.mlp.dense_h_to_4h.ia3_l.default/297</td><td>1.25305</td></tr><tr><td>param/base_model.model.gpt_neox.layers.3.mlp.dense_h_to_4h.ia3_l.default/298</td><td>2.26951</td></tr><tr><td>param/base_model.model.gpt_neox.layers.3.mlp.dense_h_to_4h.ia3_l.default/299</td><td>-0.65563</td></tr><tr><td>param/base_model.model.gpt_neox.layers.3.mlp.dense_h_to_4h.ia3_l.default/3</td><td>-0.58627</td></tr><tr><td>param/base_model.model.gpt_neox.layers.3.mlp.dense_h_to_4h.ia3_l.default/30</td><td>-1.06764</td></tr><tr><td>param/base_model.model.gpt_neox.layers.3.mlp.dense_h_to_4h.ia3_l.default/300</td><td>0.79954</td></tr><tr><td>param/base_model.model.gpt_neox.layers.3.mlp.dense_h_to_4h.ia3_l.default/301</td><td>0.8786</td></tr><tr><td>param/base_model.model.gpt_neox.layers.3.mlp.dense_h_to_4h.ia3_l.default/302</td><td>0.26896</td></tr><tr><td>param/base_model.model.gpt_neox.layers.3.mlp.dense_h_to_4h.ia3_l.default/303</td><td>1.02262</td></tr><tr><td>param/base_model.model.gpt_neox.layers.3.mlp.dense_h_to_4h.ia3_l.default/304</td><td>-0.07435</td></tr><tr><td>param/base_model.model.gpt_neox.layers.3.mlp.dense_h_to_4h.ia3_l.default/305</td><td>0.61598</td></tr><tr><td>param/base_model.model.gpt_neox.layers.3.mlp.dense_h_to_4h.ia3_l.default/306</td><td>0.34819</td></tr><tr><td>param/base_model.model.gpt_neox.layers.3.mlp.dense_h_to_4h.ia3_l.default/307</td><td>0.49248</td></tr><tr><td>param/base_model.model.gpt_neox.layers.3.mlp.dense_h_to_4h.ia3_l.default/308</td><td>-0.13594</td></tr><tr><td>param/base_model.model.gpt_neox.layers.3.mlp.dense_h_to_4h.ia3_l.default/309</td><td>1.95881</td></tr><tr><td>param/base_model.model.gpt_neox.layers.3.mlp.dense_h_to_4h.ia3_l.default/31</td><td>1.55596</td></tr><tr><td>param/base_model.model.gpt_neox.layers.3.mlp.dense_h_to_4h.ia3_l.default/310</td><td>1.25545</td></tr><tr><td>param/base_model.model.gpt_neox.layers.3.mlp.dense_h_to_4h.ia3_l.default/311</td><td>2.20039</td></tr><tr><td>param/base_model.model.gpt_neox.layers.3.mlp.dense_h_to_4h.ia3_l.default/312</td><td>0.41066</td></tr><tr><td>param/base_model.model.gpt_neox.layers.3.mlp.dense_h_to_4h.ia3_l.default/313</td><td>0.91579</td></tr><tr><td>param/base_model.model.gpt_neox.layers.3.mlp.dense_h_to_4h.ia3_l.default/314</td><td>1.01793</td></tr><tr><td>param/base_model.model.gpt_neox.layers.3.mlp.dense_h_to_4h.ia3_l.default/315</td><td>0.02939</td></tr><tr><td>param/base_model.model.gpt_neox.layers.3.mlp.dense_h_to_4h.ia3_l.default/316</td><td>-0.55577</td></tr><tr><td>param/base_model.model.gpt_neox.layers.3.mlp.dense_h_to_4h.ia3_l.default/317</td><td>0.80738</td></tr><tr><td>param/base_model.model.gpt_neox.layers.3.mlp.dense_h_to_4h.ia3_l.default/318</td><td>0.51197</td></tr><tr><td>param/base_model.model.gpt_neox.layers.3.mlp.dense_h_to_4h.ia3_l.default/319</td><td>0.65688</td></tr><tr><td>param/base_model.model.gpt_neox.layers.3.mlp.dense_h_to_4h.ia3_l.default/32</td><td>1.26337</td></tr><tr><td>param/base_model.model.gpt_neox.layers.3.mlp.dense_h_to_4h.ia3_l.default/320</td><td>2.36326</td></tr><tr><td>param/base_model.model.gpt_neox.layers.3.mlp.dense_h_to_4h.ia3_l.default/321</td><td>1.4707</td></tr><tr><td>param/base_model.model.gpt_neox.layers.3.mlp.dense_h_to_4h.ia3_l.default/322</td><td>-0.25345</td></tr><tr><td>param/base_model.model.gpt_neox.layers.3.mlp.dense_h_to_4h.ia3_l.default/323</td><td>0.67989</td></tr><tr><td>param/base_model.model.gpt_neox.layers.3.mlp.dense_h_to_4h.ia3_l.default/324</td><td>1.24197</td></tr><tr><td>param/base_model.model.gpt_neox.layers.3.mlp.dense_h_to_4h.ia3_l.default/325</td><td>0.19824</td></tr><tr><td>param/base_model.model.gpt_neox.layers.3.mlp.dense_h_to_4h.ia3_l.default/326</td><td>0.56995</td></tr><tr><td>param/base_model.model.gpt_neox.layers.3.mlp.dense_h_to_4h.ia3_l.default/327</td><td>-0.91614</td></tr><tr><td>param/base_model.model.gpt_neox.layers.3.mlp.dense_h_to_4h.ia3_l.default/328</td><td>-0.06088</td></tr><tr><td>param/base_model.model.gpt_neox.layers.3.mlp.dense_h_to_4h.ia3_l.default/329</td><td>1.6465</td></tr><tr><td>param/base_model.model.gpt_neox.layers.3.mlp.dense_h_to_4h.ia3_l.default/33</td><td>1.68426</td></tr><tr><td>param/base_model.model.gpt_neox.layers.3.mlp.dense_h_to_4h.ia3_l.default/330</td><td>0.21229</td></tr><tr><td>param/base_model.model.gpt_neox.layers.3.mlp.dense_h_to_4h.ia3_l.default/331</td><td>0.47252</td></tr><tr><td>param/base_model.model.gpt_neox.layers.3.mlp.dense_h_to_4h.ia3_l.default/332</td><td>0.27959</td></tr><tr><td>param/base_model.model.gpt_neox.layers.3.mlp.dense_h_to_4h.ia3_l.default/333</td><td>1.99418</td></tr><tr><td>param/base_model.model.gpt_neox.layers.3.mlp.dense_h_to_4h.ia3_l.default/334</td><td>-0.89387</td></tr><tr><td>param/base_model.model.gpt_neox.layers.3.mlp.dense_h_to_4h.ia3_l.default/335</td><td>0.59504</td></tr><tr><td>param/base_model.model.gpt_neox.layers.3.mlp.dense_h_to_4h.ia3_l.default/336</td><td>1.04384</td></tr><tr><td>param/base_model.model.gpt_neox.layers.3.mlp.dense_h_to_4h.ia3_l.default/337</td><td>1.15335</td></tr><tr><td>param/base_model.model.gpt_neox.layers.3.mlp.dense_h_to_4h.ia3_l.default/338</td><td>1.71533</td></tr><tr><td>param/base_model.model.gpt_neox.layers.3.mlp.dense_h_to_4h.ia3_l.default/339</td><td>1.69844</td></tr><tr><td>param/base_model.model.gpt_neox.layers.3.mlp.dense_h_to_4h.ia3_l.default/34</td><td>0.4458</td></tr><tr><td>param/base_model.model.gpt_neox.layers.3.mlp.dense_h_to_4h.ia3_l.default/340</td><td>3.46259</td></tr><tr><td>param/base_model.model.gpt_neox.layers.3.mlp.dense_h_to_4h.ia3_l.default/341</td><td>-0.31748</td></tr><tr><td>param/base_model.model.gpt_neox.layers.3.mlp.dense_h_to_4h.ia3_l.default/342</td><td>0.76458</td></tr><tr><td>param/base_model.model.gpt_neox.layers.3.mlp.dense_h_to_4h.ia3_l.default/343</td><td>-0.94089</td></tr><tr><td>param/base_model.model.gpt_neox.layers.3.mlp.dense_h_to_4h.ia3_l.default/344</td><td>0.48022</td></tr><tr><td>param/base_model.model.gpt_neox.layers.3.mlp.dense_h_to_4h.ia3_l.default/345</td><td>1.73902</td></tr><tr><td>param/base_model.model.gpt_neox.layers.3.mlp.dense_h_to_4h.ia3_l.default/346</td><td>0.55586</td></tr><tr><td>param/base_model.model.gpt_neox.layers.3.mlp.dense_h_to_4h.ia3_l.default/347</td><td>0.82966</td></tr><tr><td>param/base_model.model.gpt_neox.layers.3.mlp.dense_h_to_4h.ia3_l.default/348</td><td>-1.22249</td></tr><tr><td>param/base_model.model.gpt_neox.layers.3.mlp.dense_h_to_4h.ia3_l.default/349</td><td>1.17686</td></tr><tr><td>param/base_model.model.gpt_neox.layers.3.mlp.dense_h_to_4h.ia3_l.default/35</td><td>1.45223</td></tr><tr><td>param/base_model.model.gpt_neox.layers.3.mlp.dense_h_to_4h.ia3_l.default/350</td><td>1.89246</td></tr><tr><td>param/base_model.model.gpt_neox.layers.3.mlp.dense_h_to_4h.ia3_l.default/351</td><td>0.89367</td></tr><tr><td>param/base_model.model.gpt_neox.layers.3.mlp.dense_h_to_4h.ia3_l.default/352</td><td>-2.82256</td></tr><tr><td>param/base_model.model.gpt_neox.layers.3.mlp.dense_h_to_4h.ia3_l.default/353</td><td>0.35028</td></tr><tr><td>param/base_model.model.gpt_neox.layers.3.mlp.dense_h_to_4h.ia3_l.default/354</td><td>1.75312</td></tr><tr><td>param/base_model.model.gpt_neox.layers.3.mlp.dense_h_to_4h.ia3_l.default/355</td><td>0.14389</td></tr><tr><td>param/base_model.model.gpt_neox.layers.3.mlp.dense_h_to_4h.ia3_l.default/356</td><td>1.58163</td></tr><tr><td>param/base_model.model.gpt_neox.layers.3.mlp.dense_h_to_4h.ia3_l.default/357</td><td>2.08961</td></tr><tr><td>param/base_model.model.gpt_neox.layers.3.mlp.dense_h_to_4h.ia3_l.default/358</td><td>0.36203</td></tr><tr><td>param/base_model.model.gpt_neox.layers.3.mlp.dense_h_to_4h.ia3_l.default/359</td><td>0.64245</td></tr><tr><td>param/base_model.model.gpt_neox.layers.3.mlp.dense_h_to_4h.ia3_l.default/36</td><td>1.63459</td></tr><tr><td>param/base_model.model.gpt_neox.layers.3.mlp.dense_h_to_4h.ia3_l.default/360</td><td>1.95591</td></tr><tr><td>param/base_model.model.gpt_neox.layers.3.mlp.dense_h_to_4h.ia3_l.default/361</td><td>1.67653</td></tr><tr><td>param/base_model.model.gpt_neox.layers.3.mlp.dense_h_to_4h.ia3_l.default/362</td><td>1.61559</td></tr><tr><td>param/base_model.model.gpt_neox.layers.3.mlp.dense_h_to_4h.ia3_l.default/363</td><td>0.65092</td></tr><tr><td>param/base_model.model.gpt_neox.layers.3.mlp.dense_h_to_4h.ia3_l.default/364</td><td>2.35992</td></tr><tr><td>param/base_model.model.gpt_neox.layers.3.mlp.dense_h_to_4h.ia3_l.default/365</td><td>1.04609</td></tr><tr><td>param/base_model.model.gpt_neox.layers.3.mlp.dense_h_to_4h.ia3_l.default/366</td><td>1.19266</td></tr><tr><td>param/base_model.model.gpt_neox.layers.3.mlp.dense_h_to_4h.ia3_l.default/367</td><td>3.63897</td></tr><tr><td>param/base_model.model.gpt_neox.layers.3.mlp.dense_h_to_4h.ia3_l.default/368</td><td>1.216</td></tr><tr><td>param/base_model.model.gpt_neox.layers.3.mlp.dense_h_to_4h.ia3_l.default/369</td><td>1.35554</td></tr><tr><td>param/base_model.model.gpt_neox.layers.3.mlp.dense_h_to_4h.ia3_l.default/37</td><td>-0.35374</td></tr><tr><td>param/base_model.model.gpt_neox.layers.3.mlp.dense_h_to_4h.ia3_l.default/370</td><td>-0.28345</td></tr><tr><td>param/base_model.model.gpt_neox.layers.3.mlp.dense_h_to_4h.ia3_l.default/371</td><td>0.40943</td></tr><tr><td>param/base_model.model.gpt_neox.layers.3.mlp.dense_h_to_4h.ia3_l.default/372</td><td>-0.0747</td></tr><tr><td>param/base_model.model.gpt_neox.layers.3.mlp.dense_h_to_4h.ia3_l.default/373</td><td>0.0428</td></tr><tr><td>param/base_model.model.gpt_neox.layers.3.mlp.dense_h_to_4h.ia3_l.default/374</td><td>1.10787</td></tr><tr><td>param/base_model.model.gpt_neox.layers.3.mlp.dense_h_to_4h.ia3_l.default/375</td><td>-0.38109</td></tr><tr><td>param/base_model.model.gpt_neox.layers.3.mlp.dense_h_to_4h.ia3_l.default/376</td><td>0.98096</td></tr><tr><td>param/base_model.model.gpt_neox.layers.3.mlp.dense_h_to_4h.ia3_l.default/377</td><td>-2.79875</td></tr><tr><td>param/base_model.model.gpt_neox.layers.3.mlp.dense_h_to_4h.ia3_l.default/378</td><td>1.76817</td></tr><tr><td>param/base_model.model.gpt_neox.layers.3.mlp.dense_h_to_4h.ia3_l.default/379</td><td>0.44932</td></tr><tr><td>param/base_model.model.gpt_neox.layers.3.mlp.dense_h_to_4h.ia3_l.default/38</td><td>1.49979</td></tr><tr><td>param/base_model.model.gpt_neox.layers.3.mlp.dense_h_to_4h.ia3_l.default/380</td><td>1.28261</td></tr><tr><td>param/base_model.model.gpt_neox.layers.3.mlp.dense_h_to_4h.ia3_l.default/381</td><td>0.94663</td></tr><tr><td>param/base_model.model.gpt_neox.layers.3.mlp.dense_h_to_4h.ia3_l.default/382</td><td>0.96384</td></tr><tr><td>param/base_model.model.gpt_neox.layers.3.mlp.dense_h_to_4h.ia3_l.default/383</td><td>0.70496</td></tr><tr><td>param/base_model.model.gpt_neox.layers.3.mlp.dense_h_to_4h.ia3_l.default/384</td><td>0.45476</td></tr><tr><td>param/base_model.model.gpt_neox.layers.3.mlp.dense_h_to_4h.ia3_l.default/385</td><td>1.48257</td></tr><tr><td>param/base_model.model.gpt_neox.layers.3.mlp.dense_h_to_4h.ia3_l.default/386</td><td>1.73134</td></tr><tr><td>param/base_model.model.gpt_neox.layers.3.mlp.dense_h_to_4h.ia3_l.default/387</td><td>-0.47223</td></tr><tr><td>param/base_model.model.gpt_neox.layers.3.mlp.dense_h_to_4h.ia3_l.default/388</td><td>0.50425</td></tr><tr><td>param/base_model.model.gpt_neox.layers.3.mlp.dense_h_to_4h.ia3_l.default/389</td><td>-0.08149</td></tr><tr><td>param/base_model.model.gpt_neox.layers.3.mlp.dense_h_to_4h.ia3_l.default/39</td><td>-0.18008</td></tr><tr><td>param/base_model.model.gpt_neox.layers.3.mlp.dense_h_to_4h.ia3_l.default/390</td><td>1.56908</td></tr><tr><td>param/base_model.model.gpt_neox.layers.3.mlp.dense_h_to_4h.ia3_l.default/391</td><td>-1.03889</td></tr><tr><td>param/base_model.model.gpt_neox.layers.3.mlp.dense_h_to_4h.ia3_l.default/392</td><td>-2.1197</td></tr><tr><td>param/base_model.model.gpt_neox.layers.3.mlp.dense_h_to_4h.ia3_l.default/393</td><td>0.24067</td></tr><tr><td>param/base_model.model.gpt_neox.layers.3.mlp.dense_h_to_4h.ia3_l.default/394</td><td>2.57161</td></tr><tr><td>param/base_model.model.gpt_neox.layers.3.mlp.dense_h_to_4h.ia3_l.default/395</td><td>1.11368</td></tr><tr><td>param/base_model.model.gpt_neox.layers.3.mlp.dense_h_to_4h.ia3_l.default/396</td><td>2.87557</td></tr><tr><td>param/base_model.model.gpt_neox.layers.3.mlp.dense_h_to_4h.ia3_l.default/397</td><td>0.05051</td></tr><tr><td>param/base_model.model.gpt_neox.layers.3.mlp.dense_h_to_4h.ia3_l.default/398</td><td>2.09959</td></tr><tr><td>param/base_model.model.gpt_neox.layers.3.mlp.dense_h_to_4h.ia3_l.default/399</td><td>-0.05954</td></tr><tr><td>param/base_model.model.gpt_neox.layers.3.mlp.dense_h_to_4h.ia3_l.default/4</td><td>1.16527</td></tr><tr><td>param/base_model.model.gpt_neox.layers.3.mlp.dense_h_to_4h.ia3_l.default/40</td><td>0.62836</td></tr><tr><td>param/base_model.model.gpt_neox.layers.3.mlp.dense_h_to_4h.ia3_l.default/400</td><td>0.15191</td></tr><tr><td>param/base_model.model.gpt_neox.layers.3.mlp.dense_h_to_4h.ia3_l.default/401</td><td>0.67639</td></tr><tr><td>param/base_model.model.gpt_neox.layers.3.mlp.dense_h_to_4h.ia3_l.default/402</td><td>-0.32428</td></tr><tr><td>param/base_model.model.gpt_neox.layers.3.mlp.dense_h_to_4h.ia3_l.default/403</td><td>0.00286</td></tr><tr><td>param/base_model.model.gpt_neox.layers.3.mlp.dense_h_to_4h.ia3_l.default/404</td><td>3.01377</td></tr><tr><td>param/base_model.model.gpt_neox.layers.3.mlp.dense_h_to_4h.ia3_l.default/405</td><td>-0.56233</td></tr><tr><td>param/base_model.model.gpt_neox.layers.3.mlp.dense_h_to_4h.ia3_l.default/406</td><td>-0.53207</td></tr><tr><td>param/base_model.model.gpt_neox.layers.3.mlp.dense_h_to_4h.ia3_l.default/407</td><td>1.72262</td></tr><tr><td>param/base_model.model.gpt_neox.layers.3.mlp.dense_h_to_4h.ia3_l.default/408</td><td>-0.08104</td></tr><tr><td>param/base_model.model.gpt_neox.layers.3.mlp.dense_h_to_4h.ia3_l.default/409</td><td>0.58608</td></tr><tr><td>param/base_model.model.gpt_neox.layers.3.mlp.dense_h_to_4h.ia3_l.default/41</td><td>2.83237</td></tr><tr><td>param/base_model.model.gpt_neox.layers.3.mlp.dense_h_to_4h.ia3_l.default/410</td><td>0.89255</td></tr><tr><td>param/base_model.model.gpt_neox.layers.3.mlp.dense_h_to_4h.ia3_l.default/411</td><td>1.33271</td></tr><tr><td>param/base_model.model.gpt_neox.layers.3.mlp.dense_h_to_4h.ia3_l.default/412</td><td>1.01581</td></tr><tr><td>param/base_model.model.gpt_neox.layers.3.mlp.dense_h_to_4h.ia3_l.default/413</td><td>0.73907</td></tr><tr><td>param/base_model.model.gpt_neox.layers.3.mlp.dense_h_to_4h.ia3_l.default/414</td><td>-1.69126</td></tr><tr><td>param/base_model.model.gpt_neox.layers.3.mlp.dense_h_to_4h.ia3_l.default/415</td><td>2.7338</td></tr><tr><td>param/base_model.model.gpt_neox.layers.3.mlp.dense_h_to_4h.ia3_l.default/416</td><td>1.34331</td></tr><tr><td>param/base_model.model.gpt_neox.layers.3.mlp.dense_h_to_4h.ia3_l.default/417</td><td>-0.34107</td></tr><tr><td>param/base_model.model.gpt_neox.layers.3.mlp.dense_h_to_4h.ia3_l.default/418</td><td>2.13431</td></tr><tr><td>param/base_model.model.gpt_neox.layers.3.mlp.dense_h_to_4h.ia3_l.default/419</td><td>1.4598</td></tr><tr><td>param/base_model.model.gpt_neox.layers.3.mlp.dense_h_to_4h.ia3_l.default/42</td><td>1.289</td></tr><tr><td>param/base_model.model.gpt_neox.layers.3.mlp.dense_h_to_4h.ia3_l.default/420</td><td>1.60584</td></tr><tr><td>param/base_model.model.gpt_neox.layers.3.mlp.dense_h_to_4h.ia3_l.default/421</td><td>0.27305</td></tr><tr><td>param/base_model.model.gpt_neox.layers.3.mlp.dense_h_to_4h.ia3_l.default/422</td><td>0.51887</td></tr><tr><td>param/base_model.model.gpt_neox.layers.3.mlp.dense_h_to_4h.ia3_l.default/423</td><td>-0.67278</td></tr><tr><td>param/base_model.model.gpt_neox.layers.3.mlp.dense_h_to_4h.ia3_l.default/424</td><td>1.5678</td></tr><tr><td>param/base_model.model.gpt_neox.layers.3.mlp.dense_h_to_4h.ia3_l.default/425</td><td>0.53951</td></tr><tr><td>param/base_model.model.gpt_neox.layers.3.mlp.dense_h_to_4h.ia3_l.default/426</td><td>1.62878</td></tr><tr><td>param/base_model.model.gpt_neox.layers.3.mlp.dense_h_to_4h.ia3_l.default/427</td><td>0.86264</td></tr><tr><td>param/base_model.model.gpt_neox.layers.3.mlp.dense_h_to_4h.ia3_l.default/428</td><td>1.45831</td></tr><tr><td>param/base_model.model.gpt_neox.layers.3.mlp.dense_h_to_4h.ia3_l.default/429</td><td>1.28135</td></tr><tr><td>param/base_model.model.gpt_neox.layers.3.mlp.dense_h_to_4h.ia3_l.default/43</td><td>1.84543</td></tr><tr><td>param/base_model.model.gpt_neox.layers.3.mlp.dense_h_to_4h.ia3_l.default/430</td><td>2.15958</td></tr><tr><td>param/base_model.model.gpt_neox.layers.3.mlp.dense_h_to_4h.ia3_l.default/431</td><td>-0.17057</td></tr><tr><td>param/base_model.model.gpt_neox.layers.3.mlp.dense_h_to_4h.ia3_l.default/432</td><td>-0.13409</td></tr><tr><td>param/base_model.model.gpt_neox.layers.3.mlp.dense_h_to_4h.ia3_l.default/433</td><td>-0.99246</td></tr><tr><td>param/base_model.model.gpt_neox.layers.3.mlp.dense_h_to_4h.ia3_l.default/434</td><td>-0.18024</td></tr><tr><td>param/base_model.model.gpt_neox.layers.3.mlp.dense_h_to_4h.ia3_l.default/435</td><td>1.34933</td></tr><tr><td>param/base_model.model.gpt_neox.layers.3.mlp.dense_h_to_4h.ia3_l.default/436</td><td>0.37895</td></tr><tr><td>param/base_model.model.gpt_neox.layers.3.mlp.dense_h_to_4h.ia3_l.default/437</td><td>0.78175</td></tr><tr><td>param/base_model.model.gpt_neox.layers.3.mlp.dense_h_to_4h.ia3_l.default/438</td><td>0.84968</td></tr><tr><td>param/base_model.model.gpt_neox.layers.3.mlp.dense_h_to_4h.ia3_l.default/439</td><td>1.08468</td></tr><tr><td>param/base_model.model.gpt_neox.layers.3.mlp.dense_h_to_4h.ia3_l.default/44</td><td>1.25957</td></tr><tr><td>param/base_model.model.gpt_neox.layers.3.mlp.dense_h_to_4h.ia3_l.default/440</td><td>0.34412</td></tr><tr><td>param/base_model.model.gpt_neox.layers.3.mlp.dense_h_to_4h.ia3_l.default/441</td><td>-0.60524</td></tr><tr><td>param/base_model.model.gpt_neox.layers.3.mlp.dense_h_to_4h.ia3_l.default/442</td><td>0.94828</td></tr><tr><td>param/base_model.model.gpt_neox.layers.3.mlp.dense_h_to_4h.ia3_l.default/443</td><td>1.45327</td></tr><tr><td>param/base_model.model.gpt_neox.layers.3.mlp.dense_h_to_4h.ia3_l.default/444</td><td>1.4429</td></tr><tr><td>param/base_model.model.gpt_neox.layers.3.mlp.dense_h_to_4h.ia3_l.default/445</td><td>0.32609</td></tr><tr><td>param/base_model.model.gpt_neox.layers.3.mlp.dense_h_to_4h.ia3_l.default/446</td><td>1.13937</td></tr><tr><td>param/base_model.model.gpt_neox.layers.3.mlp.dense_h_to_4h.ia3_l.default/447</td><td>-0.62301</td></tr><tr><td>param/base_model.model.gpt_neox.layers.3.mlp.dense_h_to_4h.ia3_l.default/448</td><td>-0.83787</td></tr><tr><td>param/base_model.model.gpt_neox.layers.3.mlp.dense_h_to_4h.ia3_l.default/449</td><td>0.44796</td></tr><tr><td>param/base_model.model.gpt_neox.layers.3.mlp.dense_h_to_4h.ia3_l.default/45</td><td>0.1271</td></tr><tr><td>param/base_model.model.gpt_neox.layers.3.mlp.dense_h_to_4h.ia3_l.default/450</td><td>0.08781</td></tr><tr><td>param/base_model.model.gpt_neox.layers.3.mlp.dense_h_to_4h.ia3_l.default/451</td><td>0.37984</td></tr><tr><td>param/base_model.model.gpt_neox.layers.3.mlp.dense_h_to_4h.ia3_l.default/452</td><td>0.71355</td></tr><tr><td>param/base_model.model.gpt_neox.layers.3.mlp.dense_h_to_4h.ia3_l.default/453</td><td>-0.53582</td></tr><tr><td>param/base_model.model.gpt_neox.layers.3.mlp.dense_h_to_4h.ia3_l.default/454</td><td>1.44992</td></tr><tr><td>param/base_model.model.gpt_neox.layers.3.mlp.dense_h_to_4h.ia3_l.default/455</td><td>0.80371</td></tr><tr><td>param/base_model.model.gpt_neox.layers.3.mlp.dense_h_to_4h.ia3_l.default/456</td><td>2.32646</td></tr><tr><td>param/base_model.model.gpt_neox.layers.3.mlp.dense_h_to_4h.ia3_l.default/457</td><td>1.46284</td></tr><tr><td>param/base_model.model.gpt_neox.layers.3.mlp.dense_h_to_4h.ia3_l.default/458</td><td>1.22012</td></tr><tr><td>param/base_model.model.gpt_neox.layers.3.mlp.dense_h_to_4h.ia3_l.default/459</td><td>0.98895</td></tr><tr><td>param/base_model.model.gpt_neox.layers.3.mlp.dense_h_to_4h.ia3_l.default/46</td><td>0.65226</td></tr><tr><td>param/base_model.model.gpt_neox.layers.3.mlp.dense_h_to_4h.ia3_l.default/460</td><td>-0.71216</td></tr><tr><td>param/base_model.model.gpt_neox.layers.3.mlp.dense_h_to_4h.ia3_l.default/461</td><td>1.29648</td></tr><tr><td>param/base_model.model.gpt_neox.layers.3.mlp.dense_h_to_4h.ia3_l.default/462</td><td>-1.23998</td></tr><tr><td>param/base_model.model.gpt_neox.layers.3.mlp.dense_h_to_4h.ia3_l.default/463</td><td>0.32096</td></tr><tr><td>param/base_model.model.gpt_neox.layers.3.mlp.dense_h_to_4h.ia3_l.default/464</td><td>0.53842</td></tr><tr><td>param/base_model.model.gpt_neox.layers.3.mlp.dense_h_to_4h.ia3_l.default/465</td><td>0.81483</td></tr><tr><td>param/base_model.model.gpt_neox.layers.3.mlp.dense_h_to_4h.ia3_l.default/466</td><td>-0.7992</td></tr><tr><td>param/base_model.model.gpt_neox.layers.3.mlp.dense_h_to_4h.ia3_l.default/467</td><td>1.58799</td></tr><tr><td>param/base_model.model.gpt_neox.layers.3.mlp.dense_h_to_4h.ia3_l.default/468</td><td>2.79367</td></tr><tr><td>param/base_model.model.gpt_neox.layers.3.mlp.dense_h_to_4h.ia3_l.default/469</td><td>0.80678</td></tr><tr><td>param/base_model.model.gpt_neox.layers.3.mlp.dense_h_to_4h.ia3_l.default/47</td><td>0.87447</td></tr><tr><td>param/base_model.model.gpt_neox.layers.3.mlp.dense_h_to_4h.ia3_l.default/470</td><td>1.00588</td></tr><tr><td>param/base_model.model.gpt_neox.layers.3.mlp.dense_h_to_4h.ia3_l.default/471</td><td>1.84421</td></tr><tr><td>param/base_model.model.gpt_neox.layers.3.mlp.dense_h_to_4h.ia3_l.default/472</td><td>0.0703</td></tr><tr><td>param/base_model.model.gpt_neox.layers.3.mlp.dense_h_to_4h.ia3_l.default/473</td><td>1.24701</td></tr><tr><td>param/base_model.model.gpt_neox.layers.3.mlp.dense_h_to_4h.ia3_l.default/474</td><td>0.78857</td></tr><tr><td>param/base_model.model.gpt_neox.layers.3.mlp.dense_h_to_4h.ia3_l.default/475</td><td>1.67983</td></tr><tr><td>param/base_model.model.gpt_neox.layers.3.mlp.dense_h_to_4h.ia3_l.default/476</td><td>1.91851</td></tr><tr><td>param/base_model.model.gpt_neox.layers.3.mlp.dense_h_to_4h.ia3_l.default/477</td><td>0.77479</td></tr><tr><td>param/base_model.model.gpt_neox.layers.3.mlp.dense_h_to_4h.ia3_l.default/478</td><td>1.65362</td></tr><tr><td>param/base_model.model.gpt_neox.layers.3.mlp.dense_h_to_4h.ia3_l.default/479</td><td>0.94764</td></tr><tr><td>param/base_model.model.gpt_neox.layers.3.mlp.dense_h_to_4h.ia3_l.default/48</td><td>0.88632</td></tr><tr><td>param/base_model.model.gpt_neox.layers.3.mlp.dense_h_to_4h.ia3_l.default/480</td><td>0.40261</td></tr><tr><td>param/base_model.model.gpt_neox.layers.3.mlp.dense_h_to_4h.ia3_l.default/481</td><td>0.82356</td></tr><tr><td>param/base_model.model.gpt_neox.layers.3.mlp.dense_h_to_4h.ia3_l.default/482</td><td>0.20585</td></tr><tr><td>param/base_model.model.gpt_neox.layers.3.mlp.dense_h_to_4h.ia3_l.default/483</td><td>1.57027</td></tr><tr><td>param/base_model.model.gpt_neox.layers.3.mlp.dense_h_to_4h.ia3_l.default/484</td><td>0.39575</td></tr><tr><td>param/base_model.model.gpt_neox.layers.3.mlp.dense_h_to_4h.ia3_l.default/485</td><td>0.32861</td></tr><tr><td>param/base_model.model.gpt_neox.layers.3.mlp.dense_h_to_4h.ia3_l.default/486</td><td>1.29025</td></tr><tr><td>param/base_model.model.gpt_neox.layers.3.mlp.dense_h_to_4h.ia3_l.default/487</td><td>1.42372</td></tr><tr><td>param/base_model.model.gpt_neox.layers.3.mlp.dense_h_to_4h.ia3_l.default/488</td><td>0.34439</td></tr><tr><td>param/base_model.model.gpt_neox.layers.3.mlp.dense_h_to_4h.ia3_l.default/489</td><td>1.09839</td></tr><tr><td>param/base_model.model.gpt_neox.layers.3.mlp.dense_h_to_4h.ia3_l.default/49</td><td>0.38961</td></tr><tr><td>param/base_model.model.gpt_neox.layers.3.mlp.dense_h_to_4h.ia3_l.default/490</td><td>1.42068</td></tr><tr><td>param/base_model.model.gpt_neox.layers.3.mlp.dense_h_to_4h.ia3_l.default/491</td><td>0.3934</td></tr><tr><td>param/base_model.model.gpt_neox.layers.3.mlp.dense_h_to_4h.ia3_l.default/492</td><td>1.18424</td></tr><tr><td>param/base_model.model.gpt_neox.layers.3.mlp.dense_h_to_4h.ia3_l.default/493</td><td>0.08901</td></tr><tr><td>param/base_model.model.gpt_neox.layers.3.mlp.dense_h_to_4h.ia3_l.default/494</td><td>0.76741</td></tr><tr><td>param/base_model.model.gpt_neox.layers.3.mlp.dense_h_to_4h.ia3_l.default/495</td><td>0.35002</td></tr><tr><td>param/base_model.model.gpt_neox.layers.3.mlp.dense_h_to_4h.ia3_l.default/496</td><td>1.13715</td></tr><tr><td>param/base_model.model.gpt_neox.layers.3.mlp.dense_h_to_4h.ia3_l.default/497</td><td>1.57683</td></tr><tr><td>param/base_model.model.gpt_neox.layers.3.mlp.dense_h_to_4h.ia3_l.default/498</td><td>1.96494</td></tr><tr><td>param/base_model.model.gpt_neox.layers.3.mlp.dense_h_to_4h.ia3_l.default/499</td><td>2.07167</td></tr><tr><td>param/base_model.model.gpt_neox.layers.3.mlp.dense_h_to_4h.ia3_l.default/5</td><td>-1.51699</td></tr><tr><td>param/base_model.model.gpt_neox.layers.3.mlp.dense_h_to_4h.ia3_l.default/50</td><td>1.26517</td></tr><tr><td>param/base_model.model.gpt_neox.layers.3.mlp.dense_h_to_4h.ia3_l.default/500</td><td>1.526</td></tr><tr><td>param/base_model.model.gpt_neox.layers.3.mlp.dense_h_to_4h.ia3_l.default/501</td><td>-0.49112</td></tr><tr><td>param/base_model.model.gpt_neox.layers.3.mlp.dense_h_to_4h.ia3_l.default/502</td><td>-1.68215</td></tr><tr><td>param/base_model.model.gpt_neox.layers.3.mlp.dense_h_to_4h.ia3_l.default/503</td><td>0.41096</td></tr><tr><td>param/base_model.model.gpt_neox.layers.3.mlp.dense_h_to_4h.ia3_l.default/504</td><td>1.07794</td></tr><tr><td>param/base_model.model.gpt_neox.layers.3.mlp.dense_h_to_4h.ia3_l.default/505</td><td>2.37902</td></tr><tr><td>param/base_model.model.gpt_neox.layers.3.mlp.dense_h_to_4h.ia3_l.default/506</td><td>3.45454</td></tr><tr><td>param/base_model.model.gpt_neox.layers.3.mlp.dense_h_to_4h.ia3_l.default/507</td><td>0.97781</td></tr><tr><td>param/base_model.model.gpt_neox.layers.3.mlp.dense_h_to_4h.ia3_l.default/508</td><td>0.17238</td></tr><tr><td>param/base_model.model.gpt_neox.layers.3.mlp.dense_h_to_4h.ia3_l.default/509</td><td>-0.56898</td></tr><tr><td>param/base_model.model.gpt_neox.layers.3.mlp.dense_h_to_4h.ia3_l.default/51</td><td>-0.04538</td></tr><tr><td>param/base_model.model.gpt_neox.layers.3.mlp.dense_h_to_4h.ia3_l.default/510</td><td>-0.55217</td></tr><tr><td>param/base_model.model.gpt_neox.layers.3.mlp.dense_h_to_4h.ia3_l.default/511</td><td>1.38796</td></tr><tr><td>param/base_model.model.gpt_neox.layers.3.mlp.dense_h_to_4h.ia3_l.default/52</td><td>0.48446</td></tr><tr><td>param/base_model.model.gpt_neox.layers.3.mlp.dense_h_to_4h.ia3_l.default/53</td><td>0.42594</td></tr><tr><td>param/base_model.model.gpt_neox.layers.3.mlp.dense_h_to_4h.ia3_l.default/54</td><td>1.52015</td></tr><tr><td>param/base_model.model.gpt_neox.layers.3.mlp.dense_h_to_4h.ia3_l.default/55</td><td>0.51793</td></tr><tr><td>param/base_model.model.gpt_neox.layers.3.mlp.dense_h_to_4h.ia3_l.default/56</td><td>1.11973</td></tr><tr><td>param/base_model.model.gpt_neox.layers.3.mlp.dense_h_to_4h.ia3_l.default/57</td><td>0.97074</td></tr><tr><td>param/base_model.model.gpt_neox.layers.3.mlp.dense_h_to_4h.ia3_l.default/58</td><td>0.41917</td></tr><tr><td>param/base_model.model.gpt_neox.layers.3.mlp.dense_h_to_4h.ia3_l.default/59</td><td>0.90549</td></tr><tr><td>param/base_model.model.gpt_neox.layers.3.mlp.dense_h_to_4h.ia3_l.default/6</td><td>1.31837</td></tr><tr><td>param/base_model.model.gpt_neox.layers.3.mlp.dense_h_to_4h.ia3_l.default/60</td><td>3.35782</td></tr><tr><td>param/base_model.model.gpt_neox.layers.3.mlp.dense_h_to_4h.ia3_l.default/61</td><td>0.48552</td></tr><tr><td>param/base_model.model.gpt_neox.layers.3.mlp.dense_h_to_4h.ia3_l.default/62</td><td>2.37615</td></tr><tr><td>param/base_model.model.gpt_neox.layers.3.mlp.dense_h_to_4h.ia3_l.default/63</td><td>1.1345</td></tr><tr><td>param/base_model.model.gpt_neox.layers.3.mlp.dense_h_to_4h.ia3_l.default/64</td><td>0.52663</td></tr><tr><td>param/base_model.model.gpt_neox.layers.3.mlp.dense_h_to_4h.ia3_l.default/65</td><td>1.76547</td></tr><tr><td>param/base_model.model.gpt_neox.layers.3.mlp.dense_h_to_4h.ia3_l.default/66</td><td>1.07737</td></tr><tr><td>param/base_model.model.gpt_neox.layers.3.mlp.dense_h_to_4h.ia3_l.default/67</td><td>-1.55893</td></tr><tr><td>param/base_model.model.gpt_neox.layers.3.mlp.dense_h_to_4h.ia3_l.default/68</td><td>2.26625</td></tr><tr><td>param/base_model.model.gpt_neox.layers.3.mlp.dense_h_to_4h.ia3_l.default/69</td><td>2.1359</td></tr><tr><td>param/base_model.model.gpt_neox.layers.3.mlp.dense_h_to_4h.ia3_l.default/7</td><td>0.41999</td></tr><tr><td>param/base_model.model.gpt_neox.layers.3.mlp.dense_h_to_4h.ia3_l.default/70</td><td>0.03467</td></tr><tr><td>param/base_model.model.gpt_neox.layers.3.mlp.dense_h_to_4h.ia3_l.default/71</td><td>-0.37892</td></tr><tr><td>param/base_model.model.gpt_neox.layers.3.mlp.dense_h_to_4h.ia3_l.default/72</td><td>1.67291</td></tr><tr><td>param/base_model.model.gpt_neox.layers.3.mlp.dense_h_to_4h.ia3_l.default/73</td><td>-0.21232</td></tr><tr><td>param/base_model.model.gpt_neox.layers.3.mlp.dense_h_to_4h.ia3_l.default/74</td><td>1.88089</td></tr><tr><td>param/base_model.model.gpt_neox.layers.3.mlp.dense_h_to_4h.ia3_l.default/75</td><td>1.00051</td></tr><tr><td>param/base_model.model.gpt_neox.layers.3.mlp.dense_h_to_4h.ia3_l.default/76</td><td>0.43247</td></tr><tr><td>param/base_model.model.gpt_neox.layers.3.mlp.dense_h_to_4h.ia3_l.default/77</td><td>0.90038</td></tr><tr><td>param/base_model.model.gpt_neox.layers.3.mlp.dense_h_to_4h.ia3_l.default/78</td><td>0.05846</td></tr><tr><td>param/base_model.model.gpt_neox.layers.3.mlp.dense_h_to_4h.ia3_l.default/79</td><td>1.23493</td></tr><tr><td>param/base_model.model.gpt_neox.layers.3.mlp.dense_h_to_4h.ia3_l.default/8</td><td>3.3651</td></tr><tr><td>param/base_model.model.gpt_neox.layers.3.mlp.dense_h_to_4h.ia3_l.default/80</td><td>-1.40467</td></tr><tr><td>param/base_model.model.gpt_neox.layers.3.mlp.dense_h_to_4h.ia3_l.default/81</td><td>1.0579</td></tr><tr><td>param/base_model.model.gpt_neox.layers.3.mlp.dense_h_to_4h.ia3_l.default/82</td><td>-0.16579</td></tr><tr><td>param/base_model.model.gpt_neox.layers.3.mlp.dense_h_to_4h.ia3_l.default/83</td><td>0.5218</td></tr><tr><td>param/base_model.model.gpt_neox.layers.3.mlp.dense_h_to_4h.ia3_l.default/84</td><td>0.96855</td></tr><tr><td>param/base_model.model.gpt_neox.layers.3.mlp.dense_h_to_4h.ia3_l.default/85</td><td>-1.06382</td></tr><tr><td>param/base_model.model.gpt_neox.layers.3.mlp.dense_h_to_4h.ia3_l.default/86</td><td>2.90898</td></tr><tr><td>param/base_model.model.gpt_neox.layers.3.mlp.dense_h_to_4h.ia3_l.default/87</td><td>0.37863</td></tr><tr><td>param/base_model.model.gpt_neox.layers.3.mlp.dense_h_to_4h.ia3_l.default/88</td><td>1.6657</td></tr><tr><td>param/base_model.model.gpt_neox.layers.3.mlp.dense_h_to_4h.ia3_l.default/89</td><td>0.28258</td></tr><tr><td>param/base_model.model.gpt_neox.layers.3.mlp.dense_h_to_4h.ia3_l.default/9</td><td>1.17439</td></tr><tr><td>param/base_model.model.gpt_neox.layers.3.mlp.dense_h_to_4h.ia3_l.default/90</td><td>1.25954</td></tr><tr><td>param/base_model.model.gpt_neox.layers.3.mlp.dense_h_to_4h.ia3_l.default/91</td><td>0.30997</td></tr><tr><td>param/base_model.model.gpt_neox.layers.3.mlp.dense_h_to_4h.ia3_l.default/92</td><td>0.46015</td></tr><tr><td>param/base_model.model.gpt_neox.layers.3.mlp.dense_h_to_4h.ia3_l.default/93</td><td>1.08962</td></tr><tr><td>param/base_model.model.gpt_neox.layers.3.mlp.dense_h_to_4h.ia3_l.default/94</td><td>-0.35652</td></tr><tr><td>param/base_model.model.gpt_neox.layers.3.mlp.dense_h_to_4h.ia3_l.default/95</td><td>2.45809</td></tr><tr><td>param/base_model.model.gpt_neox.layers.3.mlp.dense_h_to_4h.ia3_l.default/96</td><td>-1.15833</td></tr><tr><td>param/base_model.model.gpt_neox.layers.3.mlp.dense_h_to_4h.ia3_l.default/97</td><td>0.18807</td></tr><tr><td>param/base_model.model.gpt_neox.layers.3.mlp.dense_h_to_4h.ia3_l.default/98</td><td>0.18907</td></tr><tr><td>param/base_model.model.gpt_neox.layers.3.mlp.dense_h_to_4h.ia3_l.default/99</td><td>1.83453</td></tr><tr><td>peft_params/base_model.model.gpt_neox.layers.3.mlp.dense_h_to_4h.ia3_l.default/max</td><td>3.88284</td></tr><tr><td>peft_params/base_model.model.gpt_neox.layers.3.mlp.dense_h_to_4h.ia3_l.default/mean</td><td>0.78301</td></tr><tr><td>peft_params/base_model.model.gpt_neox.layers.3.mlp.dense_h_to_4h.ia3_l.default/min</td><td>-2.82256</td></tr><tr><td>peft_params/base_model.model.gpt_neox.layers.3.mlp.dense_h_to_4h.ia3_l.default/shape</td><td>[1, 512]</td></tr><tr><td>peft_params/base_model.model.gpt_neox.layers.3.mlp.dense_h_to_4h.ia3_l.default/std</td><td>1.00143</td></tr><tr><td>train/epoch</td><td>4250</td></tr><tr><td>train/global_step</td><td>4250</td></tr><tr><td>train/grad_norm</td><td>0.05322</td></tr><tr><td>train/learning_rate</td><td>0.00075</td></tr><tr><td>train/loss</td><td>5.1018</td></tr><tr><td>train/mean_token_accuracy</td><td>0.51503</td></tr><tr><td>train/num_tokens</td><td>41480000.0</td></tr><tr><td>trainable_parameters</td><td>512</td></tr></table><br/></div></div>"
            ]
          },
          "metadata": {}
        },
        {
          "output_type": "display_data",
          "data": {
            "text/plain": [
              "<IPython.core.display.HTML object>"
            ],
            "text/html": [
              " View run <strong style=\"color:#cdcd00\">andante-landform_2025-04-29_05:17:56</strong> at: <a href='https://wandb.ai/matthewkhoriaty-northwestern-university/huggingface/runs/5b11sn65' target=\"_blank\">https://wandb.ai/matthewkhoriaty-northwestern-university/huggingface/runs/5b11sn65</a><br> View project at: <a href='https://wandb.ai/matthewkhoriaty-northwestern-university/huggingface' target=\"_blank\">https://wandb.ai/matthewkhoriaty-northwestern-university/huggingface</a><br>Synced 5 W&B file(s), 0 media file(s), 41 artifact file(s) and 0 other file(s)"
            ]
          },
          "metadata": {}
        },
        {
          "output_type": "display_data",
          "data": {
            "text/plain": [
              "<IPython.core.display.HTML object>"
            ],
            "text/html": [
              "Find logs at: <code>./wandb/run-20250429_051756-5b11sn65/logs</code>"
            ]
          },
          "metadata": {}
        },
        {
          "output_type": "display_data",
          "data": {
            "text/plain": [
              "<IPython.core.display.HTML object>"
            ],
            "text/html": [
              "Tracking run with wandb version 0.19.10"
            ]
          },
          "metadata": {}
        },
        {
          "output_type": "display_data",
          "data": {
            "text/plain": [
              "<IPython.core.display.HTML object>"
            ],
            "text/html": [
              "Run data is saved locally in <code>/content/wandb/run-20250429_054536-93kw3k3d</code>"
            ]
          },
          "metadata": {}
        },
        {
          "output_type": "display_data",
          "data": {
            "text/plain": [
              "<IPython.core.display.HTML object>"
            ],
            "text/html": [
              "Syncing run <strong><a href='https://wandb.ai/matthewkhoriaty-northwestern-university/IA3_visualization/runs/93kw3k3d' target=\"_blank\">balmy-music-4</a></strong> to <a href='https://wandb.ai/matthewkhoriaty-northwestern-university/IA3_visualization' target=\"_blank\">Weights & Biases</a> (<a href='https://wandb.me/developer-guide' target=\"_blank\">docs</a>)<br>"
            ]
          },
          "metadata": {}
        },
        {
          "output_type": "display_data",
          "data": {
            "text/plain": [
              "<IPython.core.display.HTML object>"
            ],
            "text/html": [
              " View project at <a href='https://wandb.ai/matthewkhoriaty-northwestern-university/IA3_visualization' target=\"_blank\">https://wandb.ai/matthewkhoriaty-northwestern-university/IA3_visualization</a>"
            ]
          },
          "metadata": {}
        },
        {
          "output_type": "display_data",
          "data": {
            "text/plain": [
              "<IPython.core.display.HTML object>"
            ],
            "text/html": [
              " View run at <a href='https://wandb.ai/matthewkhoriaty-northwestern-university/IA3_visualization/runs/93kw3k3d' target=\"_blank\">https://wandb.ai/matthewkhoriaty-northwestern-university/IA3_visualization/runs/93kw3k3d</a>"
            ]
          },
          "metadata": {}
        },
        {
          "output_type": "execute_result",
          "data": {
            "text/html": [
              "<button onClick=\"this.nextSibling.style.display='block';this.style.display='none';\">Display W&B run</button><iframe src='https://wandb.ai/matthewkhoriaty-northwestern-university/IA3_visualization/runs/93kw3k3d?jupyter=true' style='border:none;width:100%;height:420px;display:none;'></iframe>"
            ],
            "text/plain": [
              "<wandb.sdk.wandb_run.Run at 0x7f51906ede10>"
            ]
          },
          "metadata": {},
          "execution_count": 118
        }
      ]
    },
    {
      "cell_type": "code",
      "source": [
        "import time\n",
        "import randomname\n",
        "\n",
        "wandb.finish()\n",
        "# Get current timestamp in the desired format\n",
        "timestamp = time.strftime(\"%Y-%m-%d_%H:%M:%S\")\n",
        "\n",
        "# Combine random name with timestamp\n",
        "run_name = randomname.get_name() + \"_\" + timestamp\n"
      ],
      "metadata": {
        "colab": {
          "base_uri": "https://localhost:8080/",
          "height": 87
        },
        "id": "gfmHjMtcxggW",
        "outputId": "d7c06e18-1127-4acd-a980-5130c163da7e"
      },
      "execution_count": 119,
      "outputs": [
        {
          "output_type": "display_data",
          "data": {
            "text/plain": [
              "<IPython.core.display.HTML object>"
            ],
            "text/html": []
          },
          "metadata": {}
        },
        {
          "output_type": "display_data",
          "data": {
            "text/plain": [
              "<IPython.core.display.HTML object>"
            ],
            "text/html": [
              " View run <strong style=\"color:#cdcd00\">balmy-music-4</strong> at: <a href='https://wandb.ai/matthewkhoriaty-northwestern-university/IA3_visualization/runs/93kw3k3d' target=\"_blank\">https://wandb.ai/matthewkhoriaty-northwestern-university/IA3_visualization/runs/93kw3k3d</a><br> View project at: <a href='https://wandb.ai/matthewkhoriaty-northwestern-university/IA3_visualization' target=\"_blank\">https://wandb.ai/matthewkhoriaty-northwestern-university/IA3_visualization</a><br>Synced 5 W&B file(s), 0 media file(s), 0 artifact file(s) and 0 other file(s)"
            ]
          },
          "metadata": {}
        },
        {
          "output_type": "display_data",
          "data": {
            "text/plain": [
              "<IPython.core.display.HTML object>"
            ],
            "text/html": [
              "Find logs at: <code>./wandb/run-20250429_054536-93kw3k3d/logs</code>"
            ]
          },
          "metadata": {}
        }
      ]
    },
    {
      "cell_type": "code",
      "source": [
        "lets_overfit:bool = False\n",
        "if lets_overfit:\n",
        "  batch_size=64\n",
        "  small_dataset = dataset.select(range(batch_size))\n",
        "train_dataset = small_dataset if lets_overfit else dataset"
      ],
      "metadata": {
        "id": "QR-xuHYo5Tz4"
      },
      "execution_count": 120,
      "outputs": []
    },
    {
      "cell_type": "code",
      "source": [
        "# prompt: print the shapes and names of all peft_model parameters which require gradients\n",
        "\n",
        "for name, param in peft_model.named_parameters():\n",
        "    if param.requires_grad:\n",
        "        print(f\"Name: {name}, Shape: {param.shape}\")\n"
      ],
      "metadata": {
        "colab": {
          "base_uri": "https://localhost:8080/"
        },
        "id": "uPK0YhRd-PFS",
        "outputId": "1926de3c-331f-40aa-b306-0effc25e2488"
      },
      "execution_count": 121,
      "outputs": [
        {
          "output_type": "stream",
          "name": "stdout",
          "text": [
            "Name: base_model.model.gpt_neox.layers.3.mlp.dense_h_to_4h.ia3_l.default, Shape: torch.Size([1, 512])\n"
          ]
        }
      ]
    },
    {
      "cell_type": "code",
      "source": [
        "\n",
        "training_args = SFTConfig(\n",
        "    max_length=512,\n",
        "    output_dir=save_path + \"/\" + run_name,\n",
        "    run_name=run_name,\n",
        "    per_device_train_batch_size=64,\n",
        "    logging_steps=50,\n",
        "    learning_rate=5e-3,\n",
        "    max_steps=5000\n",
        "\n",
        ")\n",
        "trainer = SFTTrainer(\n",
        "    peft_model,\n",
        "    train_dataset=train_dataset,\n",
        "    args=training_args,\n",
        "    callbacks=[tracking_callback, histogram_callback]\n",
        ")\n",
        "trainer.train()"
      ],
      "metadata": {
        "colab": {
          "base_uri": "https://localhost:8080/",
          "height": 1000
        },
        "id": "TAsW-PElnDlr",
        "outputId": "b4c38a3d-ccb4-480a-d01a-53faa2429991"
      },
      "execution_count": 122,
      "outputs": [
        {
          "metadata": {
            "tags": null
          },
          "name": "stderr",
          "output_type": "stream",
          "text": [
            "No label_names provided for model class `PeftModelForCausalLM`. Since `PeftModel` hides base models input arguments, if label_names is not given, label_names can't be set automatically within `Trainer`. Note that empty label_names list will be used instead.\n"
          ]
        },
        {
          "data": {
            "text/html": [
              "Tracking run with wandb version 0.19.10"
            ],
            "text/plain": [
              "<IPython.core.display.HTML object>"
            ]
          },
          "metadata": {},
          "output_type": "display_data"
        },
        {
          "data": {
            "text/html": [
              "Run data is saved locally in <code>/content/wandb/run-20250429_054558-umubiiys</code>"
            ],
            "text/plain": [
              "<IPython.core.display.HTML object>"
            ]
          },
          "metadata": {},
          "output_type": "display_data"
        },
        {
          "data": {
            "text/html": [
              "Syncing run <strong><a href='https://wandb.ai/matthewkhoriaty-northwestern-university/huggingface/runs/umubiiys' target=\"_blank\">burning-bungalow_2025-04-29_05:45:57</a></strong> to <a href='https://wandb.ai/matthewkhoriaty-northwestern-university/huggingface' target=\"_blank\">Weights & Biases</a> (<a href='https://wandb.me/developer-guide' target=\"_blank\">docs</a>)<br>"
            ],
            "text/plain": [
              "<IPython.core.display.HTML object>"
            ]
          },
          "metadata": {},
          "output_type": "display_data"
        },
        {
          "data": {
            "text/html": [
              " View project at <a href='https://wandb.ai/matthewkhoriaty-northwestern-university/huggingface' target=\"_blank\">https://wandb.ai/matthewkhoriaty-northwestern-university/huggingface</a>"
            ],
            "text/plain": [
              "<IPython.core.display.HTML object>"
            ]
          },
          "metadata": {},
          "output_type": "display_data"
        },
        {
          "data": {
            "text/html": [
              " View run at <a href='https://wandb.ai/matthewkhoriaty-northwestern-university/huggingface/runs/umubiiys' target=\"_blank\">https://wandb.ai/matthewkhoriaty-northwestern-university/huggingface/runs/umubiiys</a>"
            ],
            "text/plain": [
              "<IPython.core.display.HTML object>"
            ]
          },
          "metadata": {},
          "output_type": "display_data"
        },
        {
          "data": {
            "text/html": [
              "\n",
              "    <div>\n",
              "      \n",
              "      <progress value='80' max='5000' style='width:300px; height:20px; vertical-align: middle;'></progress>\n",
              "      [  80/5000 00:30 < 32:31, 2.52 it/s, Epoch 0.04/3]\n",
              "    </div>\n",
              "    <table border=\"1\" class=\"dataframe\">\n",
              "  <thead>\n",
              " <tr style=\"text-align: left;\">\n",
              "      <th>Step</th>\n",
              "      <th>Training Loss</th>\n",
              "    </tr>\n",
              "  </thead>\n",
              "  <tbody>\n",
              "    <tr>\n",
              "      <td>50</td>\n",
              "      <td>11.361400</td>\n",
              "    </tr>\n",
              "  </tbody>\n",
              "</table><p>"
            ],
            "text/plain": [
              "<IPython.core.display.HTML object>"
            ]
          },
          "metadata": {},
          "output_type": "display_data"
        },
        {
          "output_type": "display_data",
          "data": {
            "text/plain": [
              "<IPython.core.display.HTML object>"
            ],
            "text/html": [
              "\n",
              "    <div>\n",
              "      \n",
              "      <progress value='5000' max='5000' style='width:300px; height:20px; vertical-align: middle;'></progress>\n",
              "      [5000/5000 32:51, Epoch 2/3]\n",
              "    </div>\n",
              "    <table border=\"1\" class=\"dataframe\">\n",
              "  <thead>\n",
              " <tr style=\"text-align: left;\">\n",
              "      <th>Step</th>\n",
              "      <th>Training Loss</th>\n",
              "    </tr>\n",
              "  </thead>\n",
              "  <tbody>\n",
              "    <tr>\n",
              "      <td>50</td>\n",
              "      <td>11.361400</td>\n",
              "    </tr>\n",
              "    <tr>\n",
              "      <td>100</td>\n",
              "      <td>11.421200</td>\n",
              "    </tr>\n",
              "    <tr>\n",
              "      <td>150</td>\n",
              "      <td>11.519100</td>\n",
              "    </tr>\n",
              "    <tr>\n",
              "      <td>200</td>\n",
              "      <td>11.510400</td>\n",
              "    </tr>\n",
              "    <tr>\n",
              "      <td>250</td>\n",
              "      <td>11.303600</td>\n",
              "    </tr>\n",
              "    <tr>\n",
              "      <td>300</td>\n",
              "      <td>11.423100</td>\n",
              "    </tr>\n",
              "    <tr>\n",
              "      <td>350</td>\n",
              "      <td>11.622600</td>\n",
              "    </tr>\n",
              "    <tr>\n",
              "      <td>400</td>\n",
              "      <td>11.630700</td>\n",
              "    </tr>\n",
              "    <tr>\n",
              "      <td>450</td>\n",
              "      <td>11.185900</td>\n",
              "    </tr>\n",
              "    <tr>\n",
              "      <td>500</td>\n",
              "      <td>10.969700</td>\n",
              "    </tr>\n",
              "    <tr>\n",
              "      <td>550</td>\n",
              "      <td>11.612200</td>\n",
              "    </tr>\n",
              "    <tr>\n",
              "      <td>600</td>\n",
              "      <td>11.193900</td>\n",
              "    </tr>\n",
              "    <tr>\n",
              "      <td>650</td>\n",
              "      <td>10.127200</td>\n",
              "    </tr>\n",
              "    <tr>\n",
              "      <td>700</td>\n",
              "      <td>8.229700</td>\n",
              "    </tr>\n",
              "    <tr>\n",
              "      <td>750</td>\n",
              "      <td>7.568200</td>\n",
              "    </tr>\n",
              "    <tr>\n",
              "      <td>800</td>\n",
              "      <td>7.427500</td>\n",
              "    </tr>\n",
              "    <tr>\n",
              "      <td>850</td>\n",
              "      <td>7.025500</td>\n",
              "    </tr>\n",
              "    <tr>\n",
              "      <td>900</td>\n",
              "      <td>6.815100</td>\n",
              "    </tr>\n",
              "    <tr>\n",
              "      <td>950</td>\n",
              "      <td>6.844600</td>\n",
              "    </tr>\n",
              "    <tr>\n",
              "      <td>1000</td>\n",
              "      <td>6.795400</td>\n",
              "    </tr>\n",
              "    <tr>\n",
              "      <td>1050</td>\n",
              "      <td>6.424100</td>\n",
              "    </tr>\n",
              "    <tr>\n",
              "      <td>1100</td>\n",
              "      <td>6.632600</td>\n",
              "    </tr>\n",
              "    <tr>\n",
              "      <td>1150</td>\n",
              "      <td>6.551100</td>\n",
              "    </tr>\n",
              "    <tr>\n",
              "      <td>1200</td>\n",
              "      <td>6.577400</td>\n",
              "    </tr>\n",
              "    <tr>\n",
              "      <td>1250</td>\n",
              "      <td>6.579800</td>\n",
              "    </tr>\n",
              "    <tr>\n",
              "      <td>1300</td>\n",
              "      <td>6.375900</td>\n",
              "    </tr>\n",
              "    <tr>\n",
              "      <td>1350</td>\n",
              "      <td>6.399800</td>\n",
              "    </tr>\n",
              "    <tr>\n",
              "      <td>1400</td>\n",
              "      <td>6.372000</td>\n",
              "    </tr>\n",
              "    <tr>\n",
              "      <td>1450</td>\n",
              "      <td>6.485400</td>\n",
              "    </tr>\n",
              "    <tr>\n",
              "      <td>1500</td>\n",
              "      <td>6.396600</td>\n",
              "    </tr>\n",
              "    <tr>\n",
              "      <td>1550</td>\n",
              "      <td>6.488500</td>\n",
              "    </tr>\n",
              "    <tr>\n",
              "      <td>1600</td>\n",
              "      <td>6.559100</td>\n",
              "    </tr>\n",
              "    <tr>\n",
              "      <td>1650</td>\n",
              "      <td>6.429600</td>\n",
              "    </tr>\n",
              "    <tr>\n",
              "      <td>1700</td>\n",
              "      <td>6.534300</td>\n",
              "    </tr>\n",
              "    <tr>\n",
              "      <td>1750</td>\n",
              "      <td>6.320900</td>\n",
              "    </tr>\n",
              "    <tr>\n",
              "      <td>1800</td>\n",
              "      <td>6.360800</td>\n",
              "    </tr>\n",
              "    <tr>\n",
              "      <td>1850</td>\n",
              "      <td>6.428700</td>\n",
              "    </tr>\n",
              "    <tr>\n",
              "      <td>1900</td>\n",
              "      <td>6.268500</td>\n",
              "    </tr>\n",
              "    <tr>\n",
              "      <td>1950</td>\n",
              "      <td>6.283600</td>\n",
              "    </tr>\n",
              "    <tr>\n",
              "      <td>2000</td>\n",
              "      <td>6.237000</td>\n",
              "    </tr>\n",
              "    <tr>\n",
              "      <td>2050</td>\n",
              "      <td>6.160200</td>\n",
              "    </tr>\n",
              "    <tr>\n",
              "      <td>2100</td>\n",
              "      <td>6.210400</td>\n",
              "    </tr>\n",
              "    <tr>\n",
              "      <td>2150</td>\n",
              "      <td>6.393400</td>\n",
              "    </tr>\n",
              "    <tr>\n",
              "      <td>2200</td>\n",
              "      <td>6.268100</td>\n",
              "    </tr>\n",
              "    <tr>\n",
              "      <td>2250</td>\n",
              "      <td>6.316500</td>\n",
              "    </tr>\n",
              "    <tr>\n",
              "      <td>2300</td>\n",
              "      <td>6.171900</td>\n",
              "    </tr>\n",
              "    <tr>\n",
              "      <td>2350</td>\n",
              "      <td>6.282700</td>\n",
              "    </tr>\n",
              "    <tr>\n",
              "      <td>2400</td>\n",
              "      <td>6.362200</td>\n",
              "    </tr>\n",
              "    <tr>\n",
              "      <td>2450</td>\n",
              "      <td>6.245300</td>\n",
              "    </tr>\n",
              "    <tr>\n",
              "      <td>2500</td>\n",
              "      <td>6.200400</td>\n",
              "    </tr>\n",
              "    <tr>\n",
              "      <td>2550</td>\n",
              "      <td>6.232300</td>\n",
              "    </tr>\n",
              "    <tr>\n",
              "      <td>2600</td>\n",
              "      <td>6.096500</td>\n",
              "    </tr>\n",
              "    <tr>\n",
              "      <td>2650</td>\n",
              "      <td>6.193800</td>\n",
              "    </tr>\n",
              "    <tr>\n",
              "      <td>2700</td>\n",
              "      <td>6.426500</td>\n",
              "    </tr>\n",
              "    <tr>\n",
              "      <td>2750</td>\n",
              "      <td>6.242000</td>\n",
              "    </tr>\n",
              "    <tr>\n",
              "      <td>2800</td>\n",
              "      <td>6.208800</td>\n",
              "    </tr>\n",
              "    <tr>\n",
              "      <td>2850</td>\n",
              "      <td>6.197600</td>\n",
              "    </tr>\n",
              "    <tr>\n",
              "      <td>2900</td>\n",
              "      <td>6.121200</td>\n",
              "    </tr>\n",
              "    <tr>\n",
              "      <td>2950</td>\n",
              "      <td>6.202800</td>\n",
              "    </tr>\n",
              "    <tr>\n",
              "      <td>3000</td>\n",
              "      <td>6.396900</td>\n",
              "    </tr>\n",
              "    <tr>\n",
              "      <td>3050</td>\n",
              "      <td>6.190700</td>\n",
              "    </tr>\n",
              "    <tr>\n",
              "      <td>3100</td>\n",
              "      <td>6.099100</td>\n",
              "    </tr>\n",
              "    <tr>\n",
              "      <td>3150</td>\n",
              "      <td>6.238000</td>\n",
              "    </tr>\n",
              "    <tr>\n",
              "      <td>3200</td>\n",
              "      <td>6.115400</td>\n",
              "    </tr>\n",
              "    <tr>\n",
              "      <td>3250</td>\n",
              "      <td>6.026400</td>\n",
              "    </tr>\n",
              "    <tr>\n",
              "      <td>3300</td>\n",
              "      <td>6.052200</td>\n",
              "    </tr>\n",
              "    <tr>\n",
              "      <td>3350</td>\n",
              "      <td>6.204200</td>\n",
              "    </tr>\n",
              "    <tr>\n",
              "      <td>3400</td>\n",
              "      <td>6.130300</td>\n",
              "    </tr>\n",
              "    <tr>\n",
              "      <td>3450</td>\n",
              "      <td>6.059000</td>\n",
              "    </tr>\n",
              "    <tr>\n",
              "      <td>3500</td>\n",
              "      <td>6.101700</td>\n",
              "    </tr>\n",
              "    <tr>\n",
              "      <td>3550</td>\n",
              "      <td>6.159300</td>\n",
              "    </tr>\n",
              "    <tr>\n",
              "      <td>3600</td>\n",
              "      <td>6.228900</td>\n",
              "    </tr>\n",
              "    <tr>\n",
              "      <td>3650</td>\n",
              "      <td>6.071200</td>\n",
              "    </tr>\n",
              "    <tr>\n",
              "      <td>3700</td>\n",
              "      <td>5.914000</td>\n",
              "    </tr>\n",
              "    <tr>\n",
              "      <td>3750</td>\n",
              "      <td>6.086700</td>\n",
              "    </tr>\n",
              "    <tr>\n",
              "      <td>3800</td>\n",
              "      <td>6.314800</td>\n",
              "    </tr>\n",
              "    <tr>\n",
              "      <td>3850</td>\n",
              "      <td>6.033300</td>\n",
              "    </tr>\n",
              "    <tr>\n",
              "      <td>3900</td>\n",
              "      <td>6.092100</td>\n",
              "    </tr>\n",
              "    <tr>\n",
              "      <td>3950</td>\n",
              "      <td>5.944100</td>\n",
              "    </tr>\n",
              "    <tr>\n",
              "      <td>4000</td>\n",
              "      <td>6.073800</td>\n",
              "    </tr>\n",
              "    <tr>\n",
              "      <td>4050</td>\n",
              "      <td>6.152800</td>\n",
              "    </tr>\n",
              "    <tr>\n",
              "      <td>4100</td>\n",
              "      <td>6.068100</td>\n",
              "    </tr>\n",
              "    <tr>\n",
              "      <td>4150</td>\n",
              "      <td>5.961000</td>\n",
              "    </tr>\n",
              "    <tr>\n",
              "      <td>4200</td>\n",
              "      <td>6.056400</td>\n",
              "    </tr>\n",
              "    <tr>\n",
              "      <td>4250</td>\n",
              "      <td>5.979700</td>\n",
              "    </tr>\n",
              "    <tr>\n",
              "      <td>4300</td>\n",
              "      <td>6.043400</td>\n",
              "    </tr>\n",
              "    <tr>\n",
              "      <td>4350</td>\n",
              "      <td>5.997700</td>\n",
              "    </tr>\n",
              "    <tr>\n",
              "      <td>4400</td>\n",
              "      <td>6.147300</td>\n",
              "    </tr>\n",
              "    <tr>\n",
              "      <td>4450</td>\n",
              "      <td>6.103200</td>\n",
              "    </tr>\n",
              "    <tr>\n",
              "      <td>4500</td>\n",
              "      <td>5.953600</td>\n",
              "    </tr>\n",
              "    <tr>\n",
              "      <td>4550</td>\n",
              "      <td>5.924500</td>\n",
              "    </tr>\n",
              "    <tr>\n",
              "      <td>4600</td>\n",
              "      <td>5.950600</td>\n",
              "    </tr>\n",
              "    <tr>\n",
              "      <td>4650</td>\n",
              "      <td>6.190300</td>\n",
              "    </tr>\n",
              "    <tr>\n",
              "      <td>4700</td>\n",
              "      <td>5.916600</td>\n",
              "    </tr>\n",
              "    <tr>\n",
              "      <td>4750</td>\n",
              "      <td>6.084500</td>\n",
              "    </tr>\n",
              "    <tr>\n",
              "      <td>4800</td>\n",
              "      <td>5.979100</td>\n",
              "    </tr>\n",
              "    <tr>\n",
              "      <td>4850</td>\n",
              "      <td>6.130800</td>\n",
              "    </tr>\n",
              "    <tr>\n",
              "      <td>4900</td>\n",
              "      <td>5.922800</td>\n",
              "    </tr>\n",
              "    <tr>\n",
              "      <td>4950</td>\n",
              "      <td>6.102600</td>\n",
              "    </tr>\n",
              "    <tr>\n",
              "      <td>5000</td>\n",
              "      <td>6.068100</td>\n",
              "    </tr>\n",
              "  </tbody>\n",
              "</table><p>"
            ]
          },
          "metadata": {}
        },
        {
          "output_type": "execute_result",
          "data": {
            "text/plain": [
              "TrainOutput(global_step=5000, training_loss=6.940906524658203, metrics={'train_runtime': 1972.5611, 'train_samples_per_second': 162.226, 'train_steps_per_second': 2.535, 'total_flos': 4.269295697315328e+16, 'train_loss': 6.940906524658203})"
            ]
          },
          "metadata": {},
          "execution_count": 122
        }
      ]
    },
    {
      "cell_type": "code",
      "source": [
        "dataset"
      ],
      "metadata": {
        "colab": {
          "base_uri": "https://localhost:8080/"
        },
        "id": "NhbQxG_KcQpN",
        "outputId": "f95b3599-94c1-4ace-a49b-74bac7eb4879"
      },
      "execution_count": 123,
      "outputs": [
        {
          "output_type": "execute_result",
          "data": {
            "text/plain": [
              "Dataset({\n",
              "    features: ['prompt', 'completion'],\n",
              "    num_rows: 121959\n",
              "})"
            ]
          },
          "metadata": {},
          "execution_count": 123
        }
      ]
    }
  ]
}